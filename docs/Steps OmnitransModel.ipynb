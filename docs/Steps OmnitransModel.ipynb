{
 "cells": [
  {
   "cell_type": "markdown",
   "id": "d3c281cf",
   "metadata": {},
   "source": [
    "## steps omnitrans model"
   ]
  },
  {
   "cell_type": "markdown",
   "id": "0f3a39ba",
   "metadata": {},
   "source": [
    "-------------------"
   ]
  },
  {
   "cell_type": "markdown",
   "id": "2b92a5e6",
   "metadata": {},
   "source": [
    "## Create network"
   ]
  },
  {
   "cell_type": "markdown",
   "id": "d7186ef5",
   "metadata": {},
   "source": [
    "### via osm network downloaden (python)"
   ]
  },
  {
   "cell_type": "markdown",
   "id": "ee6779e6",
   "metadata": {},
   "source": [
    "zie: `get_omsm_clean.ipynb`"
   ]
  },
  {
   "cell_type": "markdown",
   "id": "9936ae12",
   "metadata": {},
   "source": [
    "### aanpassen in gis (gis)"
   ]
  },
  {
   "cell_type": "markdown",
   "id": "b63d7d01",
   "metadata": {},
   "source": [
    "- opslaan in RD\n",
    "- simpyfy geometry\n",
    "- make field with length in km\n",
    "- make field with new ids obv rownumber\n",
    "- make field met road type nr\n"
   ]
  },
  {
   "cell_type": "markdown",
   "id": "e6608ee5",
   "metadata": {},
   "source": [
    "### network inladen in omnitrans (omnitrans)"
   ]
  },
  {
   "cell_type": "markdown",
   "id": "30c8f9fe",
   "metadata": {},
   "source": [
    "- projectie naar RD zetten voordat je shp inlaadt\n",
    "- via import wizard links inladen (of .ini file)\n"
   ]
  },
  {
   "cell_type": "markdown",
   "id": "5ac8ca9a",
   "metadata": {},
   "source": [
    "### connectors creeren. - automatiseren?"
   ]
  },
  {
   "cell_type": "code",
   "execution_count": null,
   "id": "4b5233cd",
   "metadata": {},
   "outputs": [],
   "source": []
  }
 ],
 "metadata": {
  "kernelspec": {
   "display_name": "Python 3 (ipykernel)",
   "language": "python",
   "name": "python3"
  },
  "language_info": {
   "codemirror_mode": {
    "name": "ipython",
    "version": 3
   },
   "file_extension": ".py",
   "mimetype": "text/x-python",
   "name": "python",
   "nbconvert_exporter": "python",
   "pygments_lexer": "ipython3",
   "version": "3.8.12"
  },
  "toc": {
   "base_numbering": 1,
   "nav_menu": {},
   "number_sections": true,
   "sideBar": true,
   "skip_h1_title": false,
   "title_cell": "Table of Contents",
   "title_sidebar": "Contents",
   "toc_cell": false,
   "toc_position": {},
   "toc_section_display": true,
   "toc_window_display": false
  }
 },
 "nbformat": 4,
 "nbformat_minor": 5
}

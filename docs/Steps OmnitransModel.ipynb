{
 "cells": [
  {
   "cell_type": "raw",
   "id": "28692780",
   "metadata": {},
   "source": [
    "steps omnitrans model"
   ]
  },
  {
   "cell_type": "markdown",
   "id": "e07da3d3",
   "metadata": {},
   "source": [
    "-------------------"
   ]
  },
  {
   "cell_type": "markdown",
   "id": "e0b4864e",
   "metadata": {},
   "source": [
    "## create network"
   ]
  },
  {
   "cell_type": "markdown",
   "id": "3d668699",
   "metadata": {},
   "source": [
    "### via osm network downloaden (python)"
   ]
  },
  {
   "cell_type": "markdown",
   "id": "f67f292c",
   "metadata": {},
   "source": [
    "zie: `get_omsm_clean.ipynb`"
   ]
  },
  {
   "cell_type": "markdown",
   "id": "a661cd98",
   "metadata": {},
   "source": [
    "### aanpassen in gis (gis)"
   ]
  },
  {
   "cell_type": "markdown",
   "id": "a73f2dd0",
   "metadata": {},
   "source": [
    "- opslaan in RD\n",
    "- simpyfy geometry\n",
    "- make field with length in km\n",
    "- make field with new ids obv rownumber\n",
    "- make field met road type nr\n"
   ]
  },
  {
   "cell_type": "markdown",
   "id": "34acbd22",
   "metadata": {},
   "source": [
    "#### evt via postgis script"
   ]
  },
  {
   "cell_type": "markdown",
   "id": "6c30a220",
   "metadata": {},
   "source": [
    "dan moet dit erin:\n",
    "\n",
    "    - nr lanes\n",
    "    - road type\n",
    "    - length in km\n",
    "    - road nr"
   ]
  },
  {
   "cell_type": "markdown",
   "id": "d81fb1c0",
   "metadata": {},
   "source": [
    "### network inladen in omnitrans (omnitrans)"
   ]
  },
  {
   "cell_type": "markdown",
   "id": "ee61ea7b",
   "metadata": {},
   "source": [
    "- projectie naar RD zetten voordat je shp inlaadt\n",
    "- via import wizard links inladen (of .ini file)\n"
   ]
  },
  {
   "cell_type": "markdown",
   "id": "dc3cf514",
   "metadata": {},
   "source": [
    "### in omnitrans aanpassen"
   ]
  },
  {
   "cell_type": "markdown",
   "id": "712ee99c",
   "metadata": {},
   "source": [
    "- lanes"
   ]
  },
  {
   "cell_type": "markdown",
   "id": "038d07d6",
   "metadata": {},
   "source": [
    "---------------\n",
    "--------------"
   ]
  },
  {
   "cell_type": "markdown",
   "id": "f42e05e1",
   "metadata": {
    "heading_collapsed": true
   },
   "source": [
    "## create zones"
   ]
  },
  {
   "cell_type": "markdown",
   "id": "b350a004",
   "metadata": {
    "heading_collapsed": true,
    "hidden": true
   },
   "source": [
    "### in gis"
   ]
  },
  {
   "cell_type": "markdown",
   "id": "153ad1f6",
   "metadata": {
    "hidden": true
   },
   "source": [
    "- nr zones\n",
    "- make centroids in zones\n",
    "- calculate x and y in table\n",
    "- "
   ]
  },
  {
   "cell_type": "markdown",
   "id": "903eb022",
   "metadata": {
    "hidden": true
   },
   "source": [
    "### in omnitrans"
   ]
  },
  {
   "cell_type": "markdown",
   "id": "c98db321",
   "metadata": {
    "hidden": true
   },
   "source": [
    "- inladen via wizard - nr centroid and area moeten kloppen"
   ]
  },
  {
   "cell_type": "markdown",
   "id": "996f5e9a",
   "metadata": {
    "hidden": true
   },
   "source": [
    "### connectors creeren. - automatiseren?"
   ]
  },
  {
   "cell_type": "markdown",
   "id": "e412ab33",
   "metadata": {},
   "source": []
  },
  {
   "cell_type": "markdown",
   "id": "f28d8951",
   "metadata": {},
   "source": [
    "- hanamtig invoeren\n",
    "- daarna shape vanuit omnitrans exporteren -> naar postgis -> om te zorgen dat linksnr gekoppeld kunnen worden"
   ]
  },
  {
   "cell_type": "markdown",
   "id": "a47d17e6",
   "metadata": {
    "hidden": true
   },
   "source": [
    " - nu nog handmatig\n",
    " - set type connector"
   ]
  },
  {
   "cell_type": "markdown",
   "id": "4b9150b5",
   "metadata": {
    "hidden": true
   },
   "source": [
    "### create super sink"
   ]
  },
  {
   "cell_type": "markdown",
   "id": "8eebf0a6",
   "metadata": {
    "hidden": true
   },
   "source": [
    "----------------"
   ]
  },
  {
   "cell_type": "markdown",
   "id": "9c8d1a26",
   "metadata": {},
   "source": [
    "## basic testing network"
   ]
  },
  {
   "cell_type": "markdown",
   "id": "46dd4ce1",
   "metadata": {},
   "source": [
    "### create skim matrix to check distance en free flow time (ruby)"
   ]
  },
  {
   "cell_type": "markdown",
   "id": "5897b37a",
   "metadata": {},
   "source": [
    "\\\\wsl.localhost\\Ubuntu\\home\\louise\\code\\MargaritaLK\\phd_coding_paper2\\omnitrans_ruby_scripts"
   ]
  },
  {
   "cell_type": "markdown",
   "id": "35d16d94",
   "metadata": {},
   "source": [
    "-------------------"
   ]
  },
  {
   "cell_type": "markdown",
   "id": "5c316f54",
   "metadata": {},
   "source": [
    "## srt up dimensions"
   ]
  },
  {
   "cell_type": "markdown",
   "id": "bdf7be71",
   "metadata": {},
   "source": [
    "### make T-emtpy"
   ]
  },
  {
   "cell_type": "markdown",
   "id": "59deb083",
   "metadata": {},
   "source": [
    "-----------"
   ]
  },
  {
   "cell_type": "markdown",
   "id": "9267ac7a",
   "metadata": {},
   "source": [
    "## OD Matrix"
   ]
  },
  {
   "cell_type": "code",
   "execution_count": null,
   "id": "8ce71f80",
   "metadata": {},
   "outputs": [],
   "source": []
  },
  {
   "cell_type": "markdown",
   "id": "d58f6b83",
   "metadata": {},
   "source": [
    "## uitval links"
   ]
  },
  {
   "cell_type": "markdown",
   "id": "74371b5e",
   "metadata": {},
   "source": []
  },
  {
   "cell_type": "markdown",
   "id": "3a8d807a",
   "metadata": {},
   "source": [
    "#### checken welke methode"
   ]
  },
  {
   "cell_type": "markdown",
   "id": "c985a510",
   "metadata": {},
   "source": []
  }
 ],
 "metadata": {
  "kernelspec": {
   "display_name": "Python 3 (ipykernel)",
   "language": "python",
   "name": "python3"
  },
  "language_info": {
   "codemirror_mode": {
    "name": "ipython",
    "version": 3
   },
   "file_extension": ".py",
   "mimetype": "text/x-python",
   "name": "python",
   "nbconvert_exporter": "python",
   "pygments_lexer": "ipython3",
   "version": "3.8.12"
  },
  "toc": {
   "base_numbering": 1,
   "nav_menu": {},
   "number_sections": true,
   "sideBar": true,
   "skip_h1_title": false,
   "title_cell": "Table of Contents",
   "title_sidebar": "Contents",
   "toc_cell": false,
   "toc_position": {},
   "toc_section_display": true,
   "toc_window_display": false
  }
 },
 "nbformat": 4,
 "nbformat_minor": 5
}

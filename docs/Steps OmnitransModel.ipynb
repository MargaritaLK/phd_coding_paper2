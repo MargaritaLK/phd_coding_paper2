{
 "cells": [
  {
   "cell_type": "raw",
   "id": "90bece5a",
   "metadata": {},
   "source": [
    "steps omnitrans model"
   ]
  },
  {
   "cell_type": "markdown",
   "id": "7d369627",
   "metadata": {},
   "source": [
    "-------------------"
   ]
  },
  {
   "cell_type": "markdown",
   "id": "88fcda20",
   "metadata": {
    "heading_collapsed": true
   },
   "source": [
    "## create network"
   ]
  },
  {
   "cell_type": "markdown",
   "id": "52795720",
   "metadata": {
    "hidden": true
   },
   "source": [
    "### via osm network downloaden (python)"
   ]
  },
  {
   "cell_type": "markdown",
   "id": "5219961a",
   "metadata": {
    "hidden": true
   },
   "source": [
    "zie: `get_omsm_clean.ipynb`"
   ]
  },
  {
   "cell_type": "markdown",
   "id": "dc2e173e",
   "metadata": {
    "hidden": true
   },
   "source": [
    "### aanpassen in gis (gis)"
   ]
  },
  {
   "cell_type": "markdown",
   "id": "2907e182",
   "metadata": {
    "hidden": true
   },
   "source": [
    "- opslaan in RD\n",
    "- simpyfy geometry\n",
    "- make field with length in km\n",
    "- make field with new ids obv rownumber\n",
    "- make field met road type nr\n"
   ]
  },
  {
   "cell_type": "markdown",
   "id": "3ef9c222",
   "metadata": {
    "hidden": true
   },
   "source": [
    "#### evt via postgis script"
   ]
  },
  {
   "cell_type": "markdown",
   "id": "f4526a7c",
   "metadata": {
    "hidden": true
   },
   "source": [
    "### network inladen in omnitrans (omnitrans)"
   ]
  },
  {
   "cell_type": "markdown",
   "id": "72663c57",
   "metadata": {
    "hidden": true
   },
   "source": [
    "- projectie naar RD zetten voordat je shp inlaadt\n",
    "- via import wizard links inladen (of .ini file)\n"
   ]
  },
  {
   "cell_type": "markdown",
   "id": "0dbfeb62",
   "metadata": {
    "hidden": true
   },
   "source": [
    "---------------\n",
    "--------------"
   ]
  },
  {
   "cell_type": "markdown",
   "id": "5506ba3e",
   "metadata": {
    "heading_collapsed": true
   },
   "source": [
    "## create zones"
   ]
  },
  {
   "cell_type": "markdown",
   "id": "b4d34d04",
   "metadata": {
    "heading_collapsed": true,
    "hidden": true
   },
   "source": [
    "### in gis"
   ]
  },
  {
   "cell_type": "markdown",
   "id": "d92ac648",
   "metadata": {
    "hidden": true
   },
   "source": [
    "- nr zones\n",
    "- make centroids in zones\n",
    "- calculate x and y in table\n",
    "- "
   ]
  },
  {
   "cell_type": "markdown",
   "id": "79ea81a8",
   "metadata": {
    "hidden": true
   },
   "source": [
    "### in omnitrans"
   ]
  },
  {
   "cell_type": "markdown",
   "id": "9c3f5701",
   "metadata": {
    "hidden": true
   },
   "source": [
    "- inladen via wizard - nr centroid and area moeten kloppen"
   ]
  },
  {
   "cell_type": "markdown",
   "id": "f8a62d30",
   "metadata": {
    "hidden": true
   },
   "source": [
    "### connectors creeren. - automatiseren?"
   ]
  },
  {
   "cell_type": "markdown",
   "id": "b2e9f3a2",
   "metadata": {
    "hidden": true
   },
   "source": [
    " - nu nog handmatig\n",
    " - set type connector"
   ]
  },
  {
   "cell_type": "markdown",
   "id": "24454121",
   "metadata": {
    "hidden": true
   },
   "source": [
    "----------------"
   ]
  },
  {
   "cell_type": "markdown",
   "id": "f4231411",
   "metadata": {
    "heading_collapsed": true
   },
   "source": [
    "## basic testing network"
   ]
  },
  {
   "cell_type": "markdown",
   "id": "b312f7e4",
   "metadata": {
    "hidden": true
   },
   "source": [
    "### create skim matrix to check distance en free flow time (ruby)"
   ]
  },
  {
   "cell_type": "markdown",
   "id": "f21097ca",
   "metadata": {
    "hidden": true
   },
   "source": [
    "\\\\wsl.localhost\\Ubuntu\\home\\louise\\code\\MargaritaLK\\phd_coding_paper2\\omnitrans_ruby_scripts"
   ]
  },
  {
   "cell_type": "markdown",
   "id": "faba4640",
   "metadata": {
    "hidden": true
   },
   "source": [
    "-------------------"
   ]
  },
  {
   "cell_type": "markdown",
   "id": "56dc79c2",
   "metadata": {},
   "source": [
    "## OD Matrix"
   ]
  },
  {
   "cell_type": "code",
   "execution_count": null,
   "id": "56b3371e",
   "metadata": {},
   "outputs": [],
   "source": []
  }
 ],
 "metadata": {
  "kernelspec": {
   "display_name": "Python 3 (ipykernel)",
   "language": "python",
   "name": "python3"
  },
  "language_info": {
   "codemirror_mode": {
    "name": "ipython",
    "version": 3
   },
   "file_extension": ".py",
   "mimetype": "text/x-python",
   "name": "python",
   "nbconvert_exporter": "python",
   "pygments_lexer": "ipython3",
   "version": "3.8.12"
  },
  "toc": {
   "base_numbering": 1,
   "nav_menu": {},
   "number_sections": true,
   "sideBar": true,
   "skip_h1_title": false,
   "title_cell": "Table of Contents",
   "title_sidebar": "Contents",
   "toc_cell": false,
   "toc_position": {},
   "toc_section_display": true,
   "toc_window_display": false
  }
 },
 "nbformat": 4,
 "nbformat_minor": 5
}

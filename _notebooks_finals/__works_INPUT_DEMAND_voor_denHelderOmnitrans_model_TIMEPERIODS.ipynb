{
 "cells": [
  {
   "cell_type": "code",
   "execution_count": 1,
   "id": "48f729b5",
   "metadata": {},
   "outputs": [],
   "source": [
    "# import psycopg2\n",
    "# from y import create_engine\n",
    "import geopandas as gpd\n",
    "import pandas as pd\n",
    "import numpy as np\n",
    "import matplotlib.pyplot as plt\n",
    "import time\n",
    "import fiona\n",
    "from osgeo import gdal"
   ]
  },
  {
   "cell_type": "markdown",
   "id": "ea8e8647",
   "metadata": {},
   "source": [
    "------------------"
   ]
  },
  {
   "cell_type": "code",
   "execution_count": 2,
   "id": "b2c0472d",
   "metadata": {},
   "outputs": [],
   "source": [
    "general_path = 'E:\\paper2_analysis/traffic_analysis/Omnitrans_denHelder'\n",
    "figures_path = f'{general_path}/figures'\n",
    "input_path = f'{general_path}/input'\n",
    "output_path = f'{general_path}/output'\n",
    "\n",
    "zone_data_path = 'E:/paper2_analysis/depth_arrival_zones/output'"
   ]
  },
  {
   "cell_type": "markdown",
   "id": "6ef2f8b6",
   "metadata": {},
   "source": [
    "-----------------------------"
   ]
  },
  {
   "cell_type": "markdown",
   "id": "e354fa57",
   "metadata": {},
   "source": [
    "### zonal data"
   ]
  },
  {
   "cell_type": "code",
   "execution_count": 3,
   "id": "0adad186",
   "metadata": {},
   "outputs": [],
   "source": [
    "#from cbs data\n",
    "buurten_all_centroids = gpd.read_file(f'{input_path}/buurten_centroids.shp')\n",
    "# buurten_all_vlak = gpd.read_file(f'{input_path}/buurten_vlak.shp')\n",
    "buurten_all_vlak = gpd.read_file(f'{input_path}/household_data_select_2.geojson')\n",
    "\n",
    "buurten_all_vlak['id_new'] = np.arange(1, len(buurten_all_vlak)+1)"
   ]
  },
  {
   "cell_type": "code",
   "execution_count": 4,
   "id": "a65906f9",
   "metadata": {},
   "outputs": [
    {
     "data": {
      "text/plain": [
       "Index(['BU_CODE', 'JRSTATCODE', 'BU_NAAM', 'WK_CODE', 'WK_NAAM', 'GM_CODE',\n",
       "       'GM_NAAM', 'POSTCODE', 'BEV_DICHTH', 'AANT_INW', 'AANTAL_HH',\n",
       "       'P_EENP_HH', 'P_HH_Z_K', 'P_HH_M_K', 'GEM_HH_GR', 'P_WEST_AL',\n",
       "       'P_N_W_AL', 'ID', 'WijkenEnBuurten', 'Gemeentenaam_1', 'Codering_3',\n",
       "       'AantalInwoners_5', 'HuishoudensTotaal_28',\n",
       "       'GemiddeldeHuishoudensgrootte_32', 'PersonenautoSTotaal_100',\n",
       "       'PersonenautoSPerHuishouden_103', 'geometry', 'id_new'],\n",
       "      dtype='object')"
      ]
     },
     "execution_count": 4,
     "metadata": {},
     "output_type": "execute_result"
    }
   ],
   "source": [
    "buurten_all_vlak.columns"
   ]
  },
  {
   "cell_type": "code",
   "execution_count": 5,
   "id": "b1ef13dc",
   "metadata": {},
   "outputs": [
    {
     "name": "stdout",
     "output_type": "stream",
     "text": [
      "79\n"
     ]
    },
    {
     "data": {
      "text/html": [
       "<div>\n",
       "<style scoped>\n",
       "    .dataframe tbody tr th:only-of-type {\n",
       "        vertical-align: middle;\n",
       "    }\n",
       "\n",
       "    .dataframe tbody tr th {\n",
       "        vertical-align: top;\n",
       "    }\n",
       "\n",
       "    .dataframe thead th {\n",
       "        text-align: right;\n",
       "    }\n",
       "</style>\n",
       "<table border=\"1\" class=\"dataframe\">\n",
       "  <thead>\n",
       "    <tr style=\"text-align: right;\">\n",
       "      <th></th>\n",
       "      <th>id_new</th>\n",
       "      <th>BU_NAAM</th>\n",
       "      <th>AANTAL_HH</th>\n",
       "      <th>AANT_INW</th>\n",
       "      <th>HuishoudensTotaal_28</th>\n",
       "      <th>PersonenautoSTotaal_100</th>\n",
       "    </tr>\n",
       "  </thead>\n",
       "  <tbody>\n",
       "    <tr>\n",
       "      <th>0</th>\n",
       "      <td>1</td>\n",
       "      <td>Oostsloot</td>\n",
       "      <td>650</td>\n",
       "      <td>1115</td>\n",
       "      <td>650</td>\n",
       "      <td>465</td>\n",
       "    </tr>\n",
       "    <tr>\n",
       "      <th>1</th>\n",
       "      <td>2</td>\n",
       "      <td>Centrum</td>\n",
       "      <td>870</td>\n",
       "      <td>1405</td>\n",
       "      <td>870</td>\n",
       "      <td>515</td>\n",
       "    </tr>\n",
       "  </tbody>\n",
       "</table>\n",
       "</div>"
      ],
      "text/plain": [
       "   id_new    BU_NAAM  AANTAL_HH  AANT_INW  HuishoudensTotaal_28  \\\n",
       "0       1  Oostsloot        650      1115                   650   \n",
       "1       2    Centrum        870      1405                   870   \n",
       "\n",
       "   PersonenautoSTotaal_100  \n",
       "0                      465  \n",
       "1                      515  "
      ]
     },
     "execution_count": 5,
     "metadata": {},
     "output_type": "execute_result"
    }
   ],
   "source": [
    "buurten_OD_info =  buurten_all_vlak[['id_new', 'BU_NAAM', 'AANTAL_HH','AANT_INW',\n",
    "                                    'HuishoudensTotaal_28', 'PersonenautoSTotaal_100']]\n",
    "print(len(buurten_OD_info))\n",
    "buurten_OD_info.head(2)"
   ]
  },
  {
   "cell_type": "code",
   "execution_count": 6,
   "id": "bdf3ee8c",
   "metadata": {},
   "outputs": [
    {
     "name": "stdout",
     "output_type": "stream",
     "text": [
      "34680 sum hh \n",
      "35300 sum private vehicles \n"
     ]
    }
   ],
   "source": [
    "total_hh = buurten_OD_info.AANTAL_HH.sum()\n",
    "total_pv = buurten_OD_info.PersonenautoSTotaal_100.sum() #private vehicles\n",
    "print(f'{total_hh} sum hh ')\n",
    "print(f'{total_pv} sum private vehicles ')"
   ]
  },
  {
   "cell_type": "markdown",
   "id": "3c81dcb3",
   "metadata": {},
   "source": [
    "--------"
   ]
  },
  {
   "cell_type": "markdown",
   "id": "488b3b9b",
   "metadata": {},
   "source": [
    "### SELECT ZONES FOR DEPARTURE"
   ]
  },
  {
   "cell_type": "code",
   "execution_count": 50,
   "id": "7882b2bc",
   "metadata": {},
   "outputs": [],
   "source": [
    "## selection based on zonal script on flood threshold\n",
    "scenario_name = 'scen1_voorpiek'\n",
    "nr_zones_sampling = 89\n",
    "samplesize_nr_houses_in_zone = 50\n",
    "\n",
    "threshold_depth = 1.5\n",
    "threshold_min_start = 120\n",
    "threshold_min_end = 9999\n",
    "\n",
    "\n",
    "if scenario_name == 'scen1_voorpiek':\n",
    "    flood = 1\n",
    "elif scenario_name == 'scen2_napiek':\n",
    "    flood = 2\n",
    "    \n",
    "simulationcode = f'f{flood}_d{threshold_depth}_interval'\n",
    "\n",
    "#alleen op diepte\n",
    "# threshold_calc = f'/zones_maxdepth_threshold_{scenario_name}_sample{samplesize_nr_houses_in_zone}houses_tresh_{threshold_depth}m'\n",
    "\n",
    "#                 'zones_thrs_depth_timeinterval_scen1_voorpiek_tresh_0m_30min_60min\n",
    "threshold_calc = f'zones_thrs_depth_timeinterval_{scenario_name}_tresh_{threshold_depth}m_{threshold_min_start}min_{threshold_min_end}min'"
   ]
  },
  {
   "cell_type": "code",
   "execution_count": 51,
   "id": "5233d2db",
   "metadata": {},
   "outputs": [
    {
     "data": {
      "text/plain": [
       "'f1_d1.5_interval'"
      ]
     },
     "execution_count": 51,
     "metadata": {},
     "output_type": "execute_result"
    }
   ],
   "source": [
    "simulationcode"
   ]
  },
  {
   "cell_type": "code",
   "execution_count": 52,
   "id": "18217a42",
   "metadata": {},
   "outputs": [],
   "source": [
    "selection_area =  threshold_calc\n",
    "\n",
    "\n"
   ]
  },
  {
   "cell_type": "code",
   "execution_count": 53,
   "id": "64acb8f4",
   "metadata": {},
   "outputs": [],
   "source": [
    "names_buurtSelection = gpd.read_file(f'{zone_data_path}/__time_intervals/{threshold_calc}.geojson').BU_NAAM.values"
   ]
  },
  {
   "cell_type": "markdown",
   "id": "c94c7ab3",
   "metadata": {},
   "source": [
    "----------------"
   ]
  },
  {
   "cell_type": "markdown",
   "id": "3b77a0ba",
   "metadata": {},
   "source": [
    "### selection based on zonal script"
   ]
  },
  {
   "cell_type": "code",
   "execution_count": 54,
   "id": "49222f8f",
   "metadata": {},
   "outputs": [
    {
     "name": "stdout",
     "output_type": "stream",
     "text": [
      " threshold_calc selected\n",
      "20 zones selected\n"
     ]
    }
   ],
   "source": [
    "## load selection made in \n",
    "if selection_area ==  threshold_calc:\n",
    "    print(' threshold_calc selected')\n",
    "    \n",
    "    names_buurtSelection = gpd.read_file(f'{zone_data_path}/__time_intervals/{threshold_calc}.geojson').BU_NAAM.values\n",
    "    buurtSelect = buurten_all_vlak[buurten_all_vlak[\"BU_NAAM\"].isin(names_buurtSelection)]\n",
    "    \n",
    "    buurtSelect = buurtSelect[['id_new', 'BU_NAAM', 'AANT_INW', 'AANTAL_HH', 'PersonenautoSTotaal_100']]\n",
    "    \n",
    "    print(f'{len(buurtSelect)} zones selected')\n",
    "else:\n",
    "    print(\"zuidrand_denhelder not selected\")\n"
   ]
  },
  {
   "cell_type": "code",
   "execution_count": null,
   "id": "0895334d",
   "metadata": {},
   "outputs": [],
   "source": []
  },
  {
   "cell_type": "code",
   "execution_count": null,
   "id": "7e310bd5",
   "metadata": {},
   "outputs": [],
   "source": []
  },
  {
   "cell_type": "code",
   "execution_count": 55,
   "id": "a34cd2e5",
   "metadata": {},
   "outputs": [
    {
     "name": "stdout",
     "output_type": "stream",
     "text": [
      "total nr of selected zones: 20\n",
      "[41 42 44 47 49 50 51 52 53 54 55 56 57 58 59 60 70 71 73 74]\n"
     ]
    }
   ],
   "source": [
    "# on ids\n",
    "list_id_in_selection = buurtSelect.id_new.values\n",
    "print(f'total nr of selected zones: {len(list_id_in_selection)}')\n",
    "print(list_id_in_selection)"
   ]
  },
  {
   "cell_type": "code",
   "execution_count": 56,
   "id": "230269c4",
   "metadata": {},
   "outputs": [
    {
     "name": "stdout",
     "output_type": "stream",
     "text": [
      "['Julianadorp-Oost' 'Oostoever' 'Kooypunt' 'Koegras-Zuid' 'De Zandloper'\n",
      " 'Ooghduyne' 'Julianadorp-West' 'Middelzand' 'Vogelzand' 'Doorzwin'\n",
      " 'Kruiszwin' 'Wierbalg' 'Malzwin' 'Boterzwin' 'Zwanenbalg' 'Noorderhaven'\n",
      " 'Callantsoog (woonkern)' 'Uyterland' 'Buitengebied Callantsoog-Oost'\n",
      " 'Buitengebied Callantsoog-Noord']\n",
      "--------------------\n",
      "total nr of selected zones: 20\n",
      "aantal HH: 7040\n",
      "aantal INW: 16665\n",
      "PersonenautoSTotaal_100: 8955\n"
     ]
    }
   ],
   "source": [
    "# on names\n",
    "print(buurtSelect.BU_NAAM.values)\n",
    "print('--------------------')\n",
    "print(f'total nr of selected zones: {len(buurtSelect)}')\n",
    "print(f'aantal HH: {sum(buurtSelect.AANTAL_HH)}')\n",
    "print(f'aantal INW: {sum(buurtSelect.AANT_INW)}')\n",
    "print(f'PersonenautoSTotaal_100: {sum(buurtSelect.PersonenautoSTotaal_100)}')"
   ]
  },
  {
   "cell_type": "markdown",
   "id": "40acc905",
   "metadata": {},
   "source": [
    "------------------------------"
   ]
  },
  {
   "cell_type": "markdown",
   "id": "1e5c50d2",
   "metadata": {},
   "source": [
    "### create list zones for OD based on selection"
   ]
  },
  {
   "cell_type": "code",
   "execution_count": 57,
   "id": "2a3abbcc",
   "metadata": {},
   "outputs": [
    {
     "data": {
      "text/html": [
       "<div>\n",
       "<style scoped>\n",
       "    .dataframe tbody tr th:only-of-type {\n",
       "        vertical-align: middle;\n",
       "    }\n",
       "\n",
       "    .dataframe tbody tr th {\n",
       "        vertical-align: top;\n",
       "    }\n",
       "\n",
       "    .dataframe thead th {\n",
       "        text-align: right;\n",
       "    }\n",
       "</style>\n",
       "<table border=\"1\" class=\"dataframe\">\n",
       "  <thead>\n",
       "    <tr style=\"text-align: right;\">\n",
       "      <th></th>\n",
       "      <th>id_new</th>\n",
       "      <th>BU_NAAM</th>\n",
       "      <th>AANTAL_HH</th>\n",
       "      <th>AANT_INW</th>\n",
       "      <th>HuishoudensTotaal_28</th>\n",
       "      <th>PersonenautoSTotaal_100</th>\n",
       "    </tr>\n",
       "  </thead>\n",
       "  <tbody>\n",
       "    <tr>\n",
       "      <th>0</th>\n",
       "      <td>1</td>\n",
       "      <td>Oostsloot</td>\n",
       "      <td>650</td>\n",
       "      <td>1115</td>\n",
       "      <td>650</td>\n",
       "      <td>465</td>\n",
       "    </tr>\n",
       "    <tr>\n",
       "      <th>1</th>\n",
       "      <td>2</td>\n",
       "      <td>Centrum</td>\n",
       "      <td>870</td>\n",
       "      <td>1405</td>\n",
       "      <td>870</td>\n",
       "      <td>515</td>\n",
       "    </tr>\n",
       "    <tr>\n",
       "      <th>2</th>\n",
       "      <td>3</td>\n",
       "      <td>Willemsoord</td>\n",
       "      <td>245</td>\n",
       "      <td>415</td>\n",
       "      <td>245</td>\n",
       "      <td>175</td>\n",
       "    </tr>\n",
       "    <tr>\n",
       "      <th>3</th>\n",
       "      <td>4</td>\n",
       "      <td>Sluisdijk</td>\n",
       "      <td>555</td>\n",
       "      <td>1010</td>\n",
       "      <td>555</td>\n",
       "      <td>350</td>\n",
       "    </tr>\n",
       "    <tr>\n",
       "      <th>4</th>\n",
       "      <td>5</td>\n",
       "      <td>Visbuurt</td>\n",
       "      <td>1230</td>\n",
       "      <td>2405</td>\n",
       "      <td>1230</td>\n",
       "      <td>965</td>\n",
       "    </tr>\n",
       "    <tr>\n",
       "      <th>...</th>\n",
       "      <td>...</td>\n",
       "      <td>...</td>\n",
       "      <td>...</td>\n",
       "      <td>...</td>\n",
       "      <td>...</td>\n",
       "      <td>...</td>\n",
       "    </tr>\n",
       "    <tr>\n",
       "      <th>74</th>\n",
       "      <td>75</td>\n",
       "      <td>Kleine Sluis inclusief Spoorbuurt</td>\n",
       "      <td>3235</td>\n",
       "      <td>7510</td>\n",
       "      <td>3235</td>\n",
       "      <td>3830</td>\n",
       "    </tr>\n",
       "    <tr>\n",
       "      <th>75</th>\n",
       "      <td>76</td>\n",
       "      <td>Gelderse Buurt en omgeving</td>\n",
       "      <td>315</td>\n",
       "      <td>775</td>\n",
       "      <td>315</td>\n",
       "      <td>410</td>\n",
       "    </tr>\n",
       "    <tr>\n",
       "      <th>76</th>\n",
       "      <td>77</td>\n",
       "      <td>Breezand</td>\n",
       "      <td>1410</td>\n",
       "      <td>3385</td>\n",
       "      <td>1410</td>\n",
       "      <td>1930</td>\n",
       "    </tr>\n",
       "    <tr>\n",
       "      <th>77</th>\n",
       "      <td>78</td>\n",
       "      <td>Van Ewijcksluis</td>\n",
       "      <td>100</td>\n",
       "      <td>205</td>\n",
       "      <td>100</td>\n",
       "      <td>165</td>\n",
       "    </tr>\n",
       "    <tr>\n",
       "      <th>78</th>\n",
       "      <td>79</td>\n",
       "      <td>Oostpolder</td>\n",
       "      <td>115</td>\n",
       "      <td>265</td>\n",
       "      <td>115</td>\n",
       "      <td>195</td>\n",
       "    </tr>\n",
       "  </tbody>\n",
       "</table>\n",
       "<p>79 rows × 6 columns</p>\n",
       "</div>"
      ],
      "text/plain": [
       "    id_new                            BU_NAAM  AANTAL_HH  AANT_INW  \\\n",
       "0        1                          Oostsloot        650      1115   \n",
       "1        2                            Centrum        870      1405   \n",
       "2        3                        Willemsoord        245       415   \n",
       "3        4                          Sluisdijk        555      1010   \n",
       "4        5                           Visbuurt       1230      2405   \n",
       "..     ...                                ...        ...       ...   \n",
       "74      75  Kleine Sluis inclusief Spoorbuurt       3235      7510   \n",
       "75      76         Gelderse Buurt en omgeving        315       775   \n",
       "76      77                           Breezand       1410      3385   \n",
       "77      78                    Van Ewijcksluis        100       205   \n",
       "78      79                         Oostpolder        115       265   \n",
       "\n",
       "    HuishoudensTotaal_28  PersonenautoSTotaal_100  \n",
       "0                    650                      465  \n",
       "1                    870                      515  \n",
       "2                    245                      175  \n",
       "3                    555                      350  \n",
       "4                   1230                      965  \n",
       "..                   ...                      ...  \n",
       "74                  3235                     3830  \n",
       "75                   315                      410  \n",
       "76                  1410                     1930  \n",
       "77                   100                      165  \n",
       "78                   115                      195  \n",
       "\n",
       "[79 rows x 6 columns]"
      ]
     },
     "execution_count": 57,
     "metadata": {},
     "output_type": "execute_result"
    }
   ],
   "source": [
    "buurten_OD_info"
   ]
  },
  {
   "cell_type": "code",
   "execution_count": 58,
   "id": "4c9b251f",
   "metadata": {},
   "outputs": [
    {
     "data": {
      "text/plain": [
       "'f1_d1.5_interval'"
      ]
     },
     "execution_count": 58,
     "metadata": {},
     "output_type": "execute_result"
    }
   ],
   "source": [
    "simulationcode\n"
   ]
  },
  {
   "cell_type": "code",
   "execution_count": 59,
   "id": "53d49953",
   "metadata": {},
   "outputs": [
    {
     "name": "stdout",
     "output_type": "stream",
     "text": [
      "7040 aantal huishoudens\n",
      "8955 PersonenautoSTotaal_100\n"
     ]
    }
   ],
   "source": [
    "OD_list = buurten_OD_info.copy()\n",
    "\n",
    "#als id buurten niet in id select zit, dan waarde aanpassen naar nul\n",
    "for index, row in OD_list.iterrows():\n",
    "    if row.id_new not in list_id_in_selection:\n",
    "        OD_list.loc[index,\"AANTAL_HH\"] = 0\n",
    "        OD_list.loc[index,\"AANT_INW\"] = 0\n",
    "        OD_list.loc[index,\"PersonenautoSTotaal_100\"] = 0\n",
    "        \n",
    "OD_list.to_csv(f'{input_path}/{simulationcode}/OD_selection_{selection_area}.csv', header= True, sep =';', decimal=',' )\n",
    "OD_list.to_json(f'{input_path}/{simulationcode}/OD_selection_{selection_area}.json')\n",
    "\n",
    "print(f'{OD_list.AANTAL_HH.sum()} aantal huishoudens')\n",
    "print(f'{OD_list.PersonenautoSTotaal_100.sum()} PersonenautoSTotaal_100')"
   ]
  },
  {
   "cell_type": "code",
   "execution_count": null,
   "id": "a739f6f8",
   "metadata": {},
   "outputs": [],
   "source": []
  },
  {
   "cell_type": "code",
   "execution_count": 60,
   "id": "fa427c09",
   "metadata": {},
   "outputs": [
    {
     "name": "stdout",
     "output_type": "stream",
     "text": [
      "27640 aantal huishoudens - buiten selection\n"
     ]
    }
   ],
   "source": [
    "## CREATE LIST OF Origns NOT in selection\n",
    "OD_list_notselected = buurten_OD_info.copy()\n",
    "\n",
    "#als id buurten WEL id select zit, dan waarde aanpassen naar nul\n",
    "for index, row in OD_list_notselected.iterrows():\n",
    "    if row.id_new in list_id_in_selection:\n",
    "        OD_list_notselected.loc[index,\"AANTAL_HH\"] = 0\n",
    "\n",
    "\n",
    "# OD_list_notselected.to_csv(f'{input_path}/{simulationcode}/OD_NOTinselection_{selection_area}.csv', header= True, sep =';', decimal=',' )\n",
    "# OD_list_notselected.to_json(f'{input_path}/{simulationcode}/OD_NOTselection_{selection_area}.json')\n",
    "print(f'{OD_list_notselected.AANTAL_HH.sum()} aantal huishoudens - buiten selection')"
   ]
  },
  {
   "cell_type": "code",
   "execution_count": null,
   "id": "fe1a0c42",
   "metadata": {},
   "outputs": [],
   "source": []
  },
  {
   "cell_type": "code",
   "execution_count": 61,
   "id": "478ea619",
   "metadata": {},
   "outputs": [
    {
     "data": {
      "text/plain": [
       "True"
      ]
     },
     "execution_count": 61,
     "metadata": {},
     "output_type": "execute_result"
    }
   ],
   "source": [
    "# check \n",
    "total_selected = OD_list.AANTAL_HH.sum()\n",
    "total_outside_selection = OD_list_notselected.AANTAL_HH.sum()\n",
    "total_check = total_selected + total_outside_selection\n",
    "total_check == total_hh"
   ]
  },
  {
   "cell_type": "code",
   "execution_count": 62,
   "id": "207d5ad6",
   "metadata": {},
   "outputs": [
    {
     "name": "stdout",
     "output_type": "stream",
     "text": [
      "total householdes in area: 34680\n",
      "total hh selected: 7040\n",
      "total hh outside selection: 27640\n",
      "-----------\n",
      "check, total klopt\n"
     ]
    }
   ],
   "source": [
    "print(f'total householdes in area: {total_hh}')\n",
    "print(f'total hh selected: {total_selected}')\n",
    "print(f'total hh outside selection: {total_outside_selection}')\n",
    "print('-----------')\n",
    "\n",
    "if total_hh == (total_selected + total_outside_selection):\n",
    "    print('check, total klopt')\n",
    "else:\n",
    "    print('error')"
   ]
  },
  {
   "cell_type": "code",
   "execution_count": null,
   "id": "6b44307b",
   "metadata": {},
   "outputs": [],
   "source": []
  },
  {
   "cell_type": "markdown",
   "id": "25e5b77c",
   "metadata": {},
   "source": [
    "----------------------"
   ]
  },
  {
   "cell_type": "markdown",
   "id": "ab7e1c55",
   "metadata": {},
   "source": [
    "### old - via shapefile"
   ]
  },
  {
   "cell_type": "markdown",
   "id": "7b030415",
   "metadata": {},
   "source": [
    "### zuidrand"
   ]
  },
  {
   "cell_type": "code",
   "execution_count": null,
   "id": "2def12a1",
   "metadata": {},
   "outputs": [],
   "source": [
    "## load selection made in \n",
    "if selection_area == 'zuidrand_denhelder':\n",
    "    print('zuidrand_denhelder selected')\n",
    "    \n",
    "    buurtSelect= gpd.read_file(f'{input_path}/zuidrand_denhelder.shp')\n",
    "    buurtSelect = buurtSelect[['id_new', 'BU_NAAM', 'AANTAL_HH']]\n",
    "    \n",
    "    print(f'{len(buurtSelect)} zones selected')\n",
    "else:\n",
    "    print(\"zuidrand_denhelder not selected\")"
   ]
  },
  {
   "cell_type": "markdown",
   "id": "bd995fe8",
   "metadata": {},
   "source": [
    "### everyone"
   ]
  },
  {
   "cell_type": "code",
   "execution_count": null,
   "id": "c2377059",
   "metadata": {},
   "outputs": [],
   "source": [
    "## load selection made in \n",
    "if selection_area == 'everyone':\n",
    "    print('entire area is selected')\n",
    "    \n",
    "    buurtSelect= gpd.read_file(f'{input_path}/buurten_centroids.shp')\n",
    "    buurtSelect = buurtSelect[['id_new', 'BU_NAAM', 'AANTAL_HH']]\n",
    "    \n",
    "    print(f'{len(buurtSelect)} zones are selected')\n",
    "else:\n",
    "    print(\"not entire area\")"
   ]
  },
  {
   "cell_type": "markdown",
   "id": "bf5e5e2c",
   "metadata": {},
   "source": [
    "### free selection"
   ]
  },
  {
   "cell_type": "code",
   "execution_count": null,
   "id": "301fe1e0",
   "metadata": {},
   "outputs": [],
   "source": [
    "## load selection made in \n",
    "if selection_area == 'free_selection':\n",
    "    print('free_selection made')\n",
    "    \n",
    "    buurtSelect= gpd.read_file(f'{input_path}/free_selection2.shp')\n",
    "    buurtSelect = buurtSelect[['id_new', 'BU_NAAM', 'AANTAL_HH']]\n",
    "    \n",
    "    print(f'{len(buurtSelect)} zones selected')\n",
    "else:\n",
    "    print(\"free_selection not made\")"
   ]
  },
  {
   "cell_type": "markdown",
   "id": "74c650e5",
   "metadata": {},
   "source": [
    "#### DEN HELDER ONLY\n"
   ]
  },
  {
   "cell_type": "code",
   "execution_count": null,
   "id": "a98431cb",
   "metadata": {},
   "outputs": [],
   "source": [
    "## load selection made in \n",
    "if selection_area == 'Den Helder':\n",
    "    print('Den Helder selected')\n",
    "    \n",
    "    buurtSelect= gpd.read_file(f'{input_path}/DenHelder_only.shp')\n",
    "    buurtSelect = buurtSelect[['id_new', 'BU_NAAM', 'AANTAL_HH']]\n",
    "    \n",
    "    print(f'{len(buurtSelect)} zones selected')\n",
    "else:\n",
    "    print(\"den helder not selected\")"
   ]
  },
  {
   "cell_type": "markdown",
   "id": "25bb3dca",
   "metadata": {},
   "source": [
    "### juliadorp only"
   ]
  },
  {
   "cell_type": "code",
   "execution_count": null,
   "id": "68faa62f",
   "metadata": {},
   "outputs": [],
   "source": [
    "## load selection \n",
    "if selection_area == 'Julianadorp':\n",
    "    print('Julianadorp ')\n",
    "    buurtSelect = gpd.read_file(f'{input_path}/Julianadorp_only.shp')\n",
    "    buurtSelect = buurtSelect[['id_new', 'BU_NAAM', 'AANTAL_HH']]\n",
    "\n",
    "    print(f'{len(buurtSelect)} zones selected')\n",
    "else:\n",
    "    print(\"julianadorp not selected\")"
   ]
  },
  {
   "cell_type": "markdown",
   "id": "2ebe39c1",
   "metadata": {},
   "source": [
    "### selection based on flood depth"
   ]
  },
  {
   "cell_type": "code",
   "execution_count": null,
   "id": "6621a3cc",
   "metadata": {},
   "outputs": [],
   "source": [
    "## load selection \n",
    "\n",
    "if selection_area == 'flooddepth_2.5':\n",
    "    print('flood depth selection_area')\n",
    "    buurtSelect = gpd.read_file(f'{input_path}/maxdepth_larger2.5.shp')\n",
    "    buurtSelect = buurtSelect[['id_new', 'BU_NAAM', 'AANTAL_HH']]\n",
    "\n",
    "    print(f'{len(buurtSelect)} zones selected')\n",
    "    print(f'{buurtSelect.AANTAL_HH.sum()} HH selected')\n",
    "else:\n",
    "    print(\"flooddepth areas not selected\")"
   ]
  },
  {
   "cell_type": "code",
   "execution_count": null,
   "id": "4c997697",
   "metadata": {},
   "outputs": [],
   "source": [
    "## load selection \n",
    "\n",
    "if selection_area == 'flooddepth_2m':\n",
    "    print('flood depth selection_area')\n",
    "    buurtSelect = gpd.read_file(f'{input_path}/maxdepth_larger2.shp')\n",
    "    buurtSelect = buurtSelect[['id_new', 'BU_NAAM', 'AANTAL_HH']]\n",
    "\n",
    "    print(f'{len(buurtSelect)} zones selected')\n",
    "    print(f'{buurtSelect.AANTAL_HH.sum()} HH selected')\n",
    "else:\n",
    "    print(\"flooddepth areas not selected\")"
   ]
  },
  {
   "cell_type": "code",
   "execution_count": null,
   "id": "2056d5a9",
   "metadata": {},
   "outputs": [],
   "source": [
    "## selection based on shapefile_input - testphase\n",
    "\n",
    "# selection_area = 'Den Helder'\n",
    "# selection_area = 'Julianadorp'\n",
    "# selection_area = \"flooddepth_2m\"\n",
    "# selection_area = \"flooddepth_2.5\"\n",
    "# selection_area = \"free_selection\"\n",
    "# selection_area = 'everyone'\n",
    "# selection_area = 'zuidrand_denhelder'\n"
   ]
  },
  {
   "cell_type": "code",
   "execution_count": null,
   "id": "2acb3ecb",
   "metadata": {},
   "outputs": [],
   "source": []
  }
 ],
 "metadata": {
  "kernelspec": {
   "display_name": "Python 3 (ipykernel)",
   "language": "python",
   "name": "python3"
  },
  "language_info": {
   "codemirror_mode": {
    "name": "ipython",
    "version": 3
   },
   "file_extension": ".py",
   "mimetype": "text/x-python",
   "name": "python",
   "nbconvert_exporter": "python",
   "pygments_lexer": "ipython3",
   "version": "3.10.2"
  }
 },
 "nbformat": 4,
 "nbformat_minor": 5
}

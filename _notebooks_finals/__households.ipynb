{
 "cells": [
  {
   "cell_type": "code",
   "execution_count": 9,
   "id": "3286a337",
   "metadata": {},
   "outputs": [],
   "source": [
    "import psycopg2\n",
    "from sqlalchemy import create_engine\n",
    "import geopandas as gpd\n",
    "import pandas as pd\n",
    "import matplotlib.pyplot as plt\n",
    "import matplotlib.animation as animation\n",
    "import numpy as np\n",
    "import time\n",
    "import random\n",
    "import plotly.express as px\n",
    "from datetime import timedelta, datetime, tzinfo, timezone,  time\n",
    "from matplotlib.dates import DateFormatter\n",
    "import matplotlib.dates as mdates"
   ]
  },
  {
   "cell_type": "code",
   "execution_count": 133,
   "id": "eb6c653d",
   "metadata": {},
   "outputs": [],
   "source": [
    "cbs_path = 'E:paper2_analysis/gis_paper2/buurten_cbs_2022'\n",
    "household_file = '84799NED_TypedDataSet_13092022_104711'"
   ]
  },
  {
   "cell_type": "code",
   "execution_count": 140,
   "id": "46bd9ec0",
   "metadata": {},
   "outputs": [],
   "source": [
    "household_data = pd.read_excel(f'{cbs_path}/{household_file}.xlsx')\n",
    "buurten_geom = gpd.read_file(f'{cbs_path}/buurten_select.shp')\n",
    "# buurten_geom_NL = gpd.read_file(f'{cbs_path}/CBS_buurten2021.shp')\n"
   ]
  },
  {
   "cell_type": "code",
   "execution_count": 141,
   "id": "a7a5d50b",
   "metadata": {},
   "outputs": [
    {
     "data": {
      "text/html": [
       "<div>\n",
       "<style scoped>\n",
       "    .dataframe tbody tr th:only-of-type {\n",
       "        vertical-align: middle;\n",
       "    }\n",
       "\n",
       "    .dataframe tbody tr th {\n",
       "        vertical-align: top;\n",
       "    }\n",
       "\n",
       "    .dataframe thead th {\n",
       "        text-align: right;\n",
       "    }\n",
       "</style>\n",
       "<table border=\"1\" class=\"dataframe\">\n",
       "  <thead>\n",
       "    <tr style=\"text-align: right;\">\n",
       "      <th></th>\n",
       "      <th>ID</th>\n",
       "      <th>WijkenEnBuurten</th>\n",
       "      <th>Gemeentenaam_1</th>\n",
       "      <th>SoortRegio_2</th>\n",
       "      <th>Codering_3</th>\n",
       "      <th>IndelingswijzigingWijkenEnBuurten_4</th>\n",
       "      <th>AantalInwoners_5</th>\n",
       "      <th>Mannen_6</th>\n",
       "      <th>Vrouwen_7</th>\n",
       "      <th>k_0Tot15Jaar_8</th>\n",
       "      <th>...</th>\n",
       "      <th>AfstandTotKinderdagverblijf_108</th>\n",
       "      <th>AfstandTotSchool_109</th>\n",
       "      <th>ScholenBinnen3Km_110</th>\n",
       "      <th>OppervlakteTotaal_111</th>\n",
       "      <th>OppervlakteLand_112</th>\n",
       "      <th>OppervlakteWater_113</th>\n",
       "      <th>MeestVoorkomendePostcode_114</th>\n",
       "      <th>Dekkingspercentage_115</th>\n",
       "      <th>MateVanStedelijkheid_116</th>\n",
       "      <th>Omgevingsadressendichtheid_117</th>\n",
       "    </tr>\n",
       "  </thead>\n",
       "  <tbody>\n",
       "    <tr>\n",
       "      <th>0</th>\n",
       "      <td>2288</td>\n",
       "      <td>GM0373</td>\n",
       "      <td>Bergen (NH.)</td>\n",
       "      <td>Gemeente</td>\n",
       "      <td>GM0373</td>\n",
       "      <td>.</td>\n",
       "      <td>29839</td>\n",
       "      <td>14399</td>\n",
       "      <td>15440</td>\n",
       "      <td>3529</td>\n",
       "      <td>...</td>\n",
       "      <td>0.8</td>\n",
       "      <td>0.8</td>\n",
       "      <td>4.1</td>\n",
       "      <td>12023</td>\n",
       "      <td>9896</td>\n",
       "      <td>2127</td>\n",
       "      <td>.</td>\n",
       "      <td>NaN</td>\n",
       "      <td>4</td>\n",
       "      <td>819</td>\n",
       "    </tr>\n",
       "    <tr>\n",
       "      <th>1</th>\n",
       "      <td>2289</td>\n",
       "      <td>WK037301</td>\n",
       "      <td>Bergen (NH.)</td>\n",
       "      <td>Wijk</td>\n",
       "      <td>WK037301</td>\n",
       "      <td>1</td>\n",
       "      <td>12000</td>\n",
       "      <td>5615</td>\n",
       "      <td>6385</td>\n",
       "      <td>1465</td>\n",
       "      <td>...</td>\n",
       "      <td>0.7</td>\n",
       "      <td>0.7</td>\n",
       "      <td>6.1</td>\n",
       "      <td>476</td>\n",
       "      <td>472</td>\n",
       "      <td>3</td>\n",
       "      <td>.</td>\n",
       "      <td>NaN</td>\n",
       "      <td>3</td>\n",
       "      <td>1136</td>\n",
       "    </tr>\n",
       "    <tr>\n",
       "      <th>2</th>\n",
       "      <td>2290</td>\n",
       "      <td>BU03730101</td>\n",
       "      <td>Bergen (NH.)</td>\n",
       "      <td>Buurt</td>\n",
       "      <td>BU03730101</td>\n",
       "      <td>1</td>\n",
       "      <td>520</td>\n",
       "      <td>240</td>\n",
       "      <td>280</td>\n",
       "      <td>55</td>\n",
       "      <td>...</td>\n",
       "      <td>0.5</td>\n",
       "      <td>0.5</td>\n",
       "      <td>6.0</td>\n",
       "      <td>14</td>\n",
       "      <td>14</td>\n",
       "      <td>0</td>\n",
       "      <td>1861</td>\n",
       "      <td>1.0</td>\n",
       "      <td>3</td>\n",
       "      <td>1466</td>\n",
       "    </tr>\n",
       "  </tbody>\n",
       "</table>\n",
       "<p>3 rows × 119 columns</p>\n",
       "</div>"
      ],
      "text/plain": [
       "     ID WijkenEnBuurten                            Gemeentenaam_1  \\\n",
       "0  2288      GM0373      Bergen (NH.)                               \n",
       "1  2289      WK037301    Bergen (NH.)                               \n",
       "2  2290      BU03730101  Bergen (NH.)                               \n",
       "\n",
       "  SoortRegio_2  Codering_3 IndelingswijzigingWijkenEnBuurten_4  \\\n",
       "0   Gemeente    GM0373                                       .   \n",
       "1   Wijk        WK037301                                     1   \n",
       "2   Buurt       BU03730101                                   1   \n",
       "\n",
       "   AantalInwoners_5  Mannen_6  Vrouwen_7  k_0Tot15Jaar_8  ...  \\\n",
       "0             29839     14399      15440            3529  ...   \n",
       "1             12000      5615       6385            1465  ...   \n",
       "2               520       240        280              55  ...   \n",
       "\n",
       "   AfstandTotKinderdagverblijf_108  AfstandTotSchool_109  \\\n",
       "0                              0.8                   0.8   \n",
       "1                              0.7                   0.7   \n",
       "2                              0.5                   0.5   \n",
       "\n",
       "   ScholenBinnen3Km_110  OppervlakteTotaal_111  OppervlakteLand_112  \\\n",
       "0                   4.1                  12023                 9896   \n",
       "1                   6.1                    476                  472   \n",
       "2                   6.0                     14                   14   \n",
       "\n",
       "   OppervlakteWater_113  MeestVoorkomendePostcode_114  Dekkingspercentage_115  \\\n",
       "0                  2127                             .                     NaN   \n",
       "1                     3                             .                     NaN   \n",
       "2                     0                          1861                     1.0   \n",
       "\n",
       "   MateVanStedelijkheid_116  Omgevingsadressendichtheid_117  \n",
       "0                         4                             819  \n",
       "1                         3                            1136  \n",
       "2                         3                            1466  \n",
       "\n",
       "[3 rows x 119 columns]"
      ]
     },
     "execution_count": 141,
     "metadata": {},
     "output_type": "execute_result"
    }
   ],
   "source": [
    "household_data.head(3)"
   ]
  },
  {
   "cell_type": "code",
   "execution_count": 142,
   "id": "eafbd0c0",
   "metadata": {},
   "outputs": [
    {
     "name": "stdout",
     "output_type": "stream",
     "text": [
      "ID\n",
      "WijkenEnBuurten\n",
      "Gemeentenaam_1\n",
      "SoortRegio_2\n",
      "Codering_3\n",
      "IndelingswijzigingWijkenEnBuurten_4\n",
      "AantalInwoners_5\n",
      "Mannen_6\n",
      "Vrouwen_7\n",
      "k_0Tot15Jaar_8\n",
      "k_15Tot25Jaar_9\n",
      "k_25Tot45Jaar_10\n",
      "k_45Tot65Jaar_11\n",
      "k_65JaarOfOuder_12\n",
      "Ongehuwd_13\n",
      "Gehuwd_14\n",
      "Gescheiden_15\n",
      "Verweduwd_16\n",
      "WestersTotaal_17\n",
      "NietWestersTotaal_18\n",
      "Marokko_19\n",
      "NederlandseAntillenEnAruba_20\n",
      "Suriname_21\n",
      "Turkije_22\n",
      "OverigNietWesters_23\n",
      "GeboorteTotaal_24\n",
      "GeboorteRelatief_25\n",
      "SterfteTotaal_26\n",
      "SterfteRelatief_27\n",
      "HuishoudensTotaal_28\n",
      "Eenpersoonshuishoudens_29\n",
      "HuishoudensZonderKinderen_30\n",
      "HuishoudensMetKinderen_31\n",
      "GemiddeldeHuishoudensgrootte_32\n",
      "Bevolkingsdichtheid_33\n",
      "Woningvoorraad_34\n",
      "GemiddeldeWOZWaardeVanWoningen_35\n",
      "PercentageEengezinswoning_36\n",
      "PercentageMeergezinswoning_37\n",
      "PercentageBewoond_38\n",
      "PercentageOnbewoond_39\n",
      "Koopwoningen_40\n",
      "HuurwoningenTotaal_41\n",
      "InBezitWoningcorporatie_42\n",
      "InBezitOverigeVerhuurders_43\n",
      "EigendomOnbekend_44\n",
      "BouwjaarVoor2000_45\n",
      "BouwjaarVanaf2000_46\n",
      "GemiddeldElektriciteitsverbruikTotaal_47\n",
      "Appartement_48\n",
      "Tussenwoning_49\n",
      "Hoekwoning_50\n",
      "TweeOnderEenKapWoning_51\n",
      "VrijstaandeWoning_52\n",
      "Huurwoning_53\n",
      "EigenWoning_54\n",
      "GemiddeldAardgasverbruikTotaal_55\n",
      "Appartement_56\n",
      "Tussenwoning_57\n",
      "Hoekwoning_58\n",
      "TweeOnderEenKapWoning_59\n",
      "VrijstaandeWoning_60\n",
      "Huurwoning_61\n",
      "EigenWoning_62\n",
      "PercentageWoningenMetStadsverwarming_63\n",
      "OpleidingsniveauLaag_64\n",
      "OpleidingsniveauMiddelbaar_65\n",
      "OpleidingsniveauHoog_66\n",
      "Nettoarbeidsparticipatie_67\n",
      "PercentageWerknemers_68\n",
      "PercentageZelfstandigen_69\n",
      "AantalInkomensontvangers_70\n",
      "GemiddeldInkomenPerInkomensontvanger_71\n",
      "GemiddeldInkomenPerInwoner_72\n",
      "k_40PersonenMetLaagsteInkomen_73\n",
      "k_20PersonenMetHoogsteInkomen_74\n",
      "GemGestandaardiseerdInkomenVanHuish_75\n",
      "k_40HuishoudensMetLaagsteInkomen_76\n",
      "k_20HuishoudensMetHoogsteInkomen_77\n",
      "HuishoudensMetEenLaagInkomen_78\n",
      "HuishOnderOfRondSociaalMinimum_79\n",
      "HuishoudensTot110VanSociaalMinimum_80\n",
      "HuishoudensTot120VanSociaalMinimum_81\n",
      "MediaanVermogenVanParticuliereHuish_82\n",
      "PersonenPerSoortUitkeringBijstand_83\n",
      "PersonenPerSoortUitkeringAO_84\n",
      "PersonenPerSoortUitkeringWW_85\n",
      "PersonenPerSoortUitkeringAOW_86\n",
      "JongerenMetJeugdzorgInNatura_87\n",
      "PercentageJongerenMetJeugdzorg_88\n",
      "WmoClienten_89\n",
      "WmoClientenRelatief_90\n",
      "BedrijfsvestigingenTotaal_91\n",
      "ALandbouwBosbouwEnVisserij_92\n",
      "BFNijverheidEnEnergie_93\n",
      "GIHandelEnHoreca_94\n",
      "HJVervoerInformatieEnCommunicatie_95\n",
      "KLFinancieleDienstenOnroerendGoed_96\n",
      "MNZakelijkeDienstverlening_97\n",
      "OQOverheidOnderwijsEnZorg_98\n",
      "RUCultuurRecreatieOverigeDiensten_99\n",
      "PersonenautoSTotaal_100\n",
      "PersonenautoSBrandstofBenzine_101\n",
      "PersonenautoSOverigeBrandstof_102\n",
      "PersonenautoSPerHuishouden_103\n",
      "PersonenautoSNaarOppervlakte_104\n",
      "Motorfietsen_105\n",
      "AfstandTotHuisartsenpraktijk_106\n",
      "AfstandTotGroteSupermarkt_107\n",
      "AfstandTotKinderdagverblijf_108\n",
      "AfstandTotSchool_109\n",
      "ScholenBinnen3Km_110\n",
      "OppervlakteTotaal_111\n",
      "OppervlakteLand_112\n",
      "OppervlakteWater_113\n",
      "MeestVoorkomendePostcode_114\n",
      "Dekkingspercentage_115\n",
      "MateVanStedelijkheid_116\n",
      "Omgevingsadressendichtheid_117\n"
     ]
    }
   ],
   "source": [
    "for i in household_data.columns:\n",
    "    print(i)"
   ]
  },
  {
   "cell_type": "code",
   "execution_count": 143,
   "id": "a7a5c4cb",
   "metadata": {},
   "outputs": [],
   "source": [
    "relevant_columns = ['ID', 'WijkenEnBuurten','Gemeentenaam_1', 'Codering_3', \n",
    "                    'AantalInwoners_5', 'HuishoudensTotaal_28', 'GemiddeldeHuishoudensgrootte_32', \n",
    "                   'PersonenautoSTotaal_100', 'PersonenautoSPerHuishouden_103']"
   ]
  },
  {
   "cell_type": "code",
   "execution_count": 144,
   "id": "079f46c1",
   "metadata": {},
   "outputs": [
    {
     "data": {
      "text/html": [
       "<div>\n",
       "<style scoped>\n",
       "    .dataframe tbody tr th:only-of-type {\n",
       "        vertical-align: middle;\n",
       "    }\n",
       "\n",
       "    .dataframe tbody tr th {\n",
       "        vertical-align: top;\n",
       "    }\n",
       "\n",
       "    .dataframe thead th {\n",
       "        text-align: right;\n",
       "    }\n",
       "</style>\n",
       "<table border=\"1\" class=\"dataframe\">\n",
       "  <thead>\n",
       "    <tr style=\"text-align: right;\">\n",
       "      <th></th>\n",
       "      <th>ID</th>\n",
       "      <th>WijkenEnBuurten</th>\n",
       "      <th>Gemeentenaam_1</th>\n",
       "      <th>Codering_3</th>\n",
       "      <th>AantalInwoners_5</th>\n",
       "      <th>HuishoudensTotaal_28</th>\n",
       "      <th>GemiddeldeHuishoudensgrootte_32</th>\n",
       "      <th>PersonenautoSTotaal_100</th>\n",
       "      <th>PersonenautoSPerHuishouden_103</th>\n",
       "    </tr>\n",
       "  </thead>\n",
       "  <tbody>\n",
       "    <tr>\n",
       "      <th>0</th>\n",
       "      <td>2288</td>\n",
       "      <td>GM0373</td>\n",
       "      <td>Bergen (NH.)</td>\n",
       "      <td>GM0373</td>\n",
       "      <td>29839</td>\n",
       "      <td>13836</td>\n",
       "      <td>2.1</td>\n",
       "      <td>16070</td>\n",
       "      <td>1.2</td>\n",
       "    </tr>\n",
       "  </tbody>\n",
       "</table>\n",
       "</div>"
      ],
      "text/plain": [
       "     ID WijkenEnBuurten                            Gemeentenaam_1  Codering_3  \\\n",
       "0  2288      GM0373      Bergen (NH.)                              GM0373       \n",
       "\n",
       "   AantalInwoners_5  HuishoudensTotaal_28  GemiddeldeHuishoudensgrootte_32  \\\n",
       "0             29839                 13836                              2.1   \n",
       "\n",
       "   PersonenautoSTotaal_100  PersonenautoSPerHuishouden_103  \n",
       "0                    16070                             1.2  "
      ]
     },
     "execution_count": 144,
     "metadata": {},
     "output_type": "execute_result"
    }
   ],
   "source": [
    "household_data_select = household_data[relevant_columns].copy()\n",
    "household_data_select.head(1)"
   ]
  },
  {
   "cell_type": "code",
   "execution_count": 145,
   "id": "6c3f3940",
   "metadata": {},
   "outputs": [],
   "source": [
    "household_data_geom = buurten_geom.merge(household_data_select, left_on='BU_CODE', right_on='Codering_3')"
   ]
  },
  {
   "cell_type": "code",
   "execution_count": 147,
   "id": "9b87e09c",
   "metadata": {},
   "outputs": [
    {
     "name": "stderr",
     "output_type": "stream",
     "text": [
      "C:\\Users\\Louise\\anaconda3\\envs\\geo\\lib\\site-packages\\geopandas\\io\\file.py:362: FutureWarning: pandas.Int64Index is deprecated and will be removed from pandas in a future version. Use pandas.Index with the appropriate dtype instead.\n",
      "  pd.Int64Index,\n"
     ]
    }
   ],
   "source": [
    "household_data_geom.to_file(f'{cbs_path}/household_data_select.geojson', drive=\"GeoJSON\")\n"
   ]
  },
  {
   "cell_type": "code",
   "execution_count": 149,
   "id": "c7533f84",
   "metadata": {},
   "outputs": [
    {
     "data": {
      "text/plain": [
       "Index(['BU_CODE', 'JRSTATCODE', 'BU_NAAM', 'WK_CODE', 'WK_NAAM', 'GM_CODE',\n",
       "       'GM_NAAM', 'POSTCODE', 'BEV_DICHTH', 'AANT_INW', 'AANTAL_HH',\n",
       "       'P_EENP_HH', 'P_HH_Z_K', 'P_HH_M_K', 'GEM_HH_GR', 'P_WEST_AL',\n",
       "       'P_N_W_AL', 'geometry', 'ID', 'WijkenEnBuurten', 'Gemeentenaam_1',\n",
       "       'Codering_3', 'AantalInwoners_5', 'HuishoudensTotaal_28',\n",
       "       'GemiddeldeHuishoudensgrootte_32', 'PersonenautoSTotaal_100',\n",
       "       'PersonenautoSPerHuishouden_103'],\n",
       "      dtype='object')"
      ]
     },
     "execution_count": 149,
     "metadata": {},
     "output_type": "execute_result"
    }
   ],
   "source": [
    "household_data_geom.columns"
   ]
  },
  {
   "cell_type": "code",
   "execution_count": 151,
   "id": "75860a2c",
   "metadata": {},
   "outputs": [
    {
     "data": {
      "text/plain": [
       "<matplotlib.collections.PathCollection at 0x20c10b08a30>"
      ]
     },
     "execution_count": 151,
     "metadata": {},
     "output_type": "execute_result"
    },
    {
     "data": {
      "image/png": "[encoded data removed]",
      "text/plain": [
       "<Figure size 432x288 with 1 Axes>"
      ]
     },
     "metadata": {
      "needs_background": "light"
     },
     "output_type": "display_data"
    }
   ],
   "source": [
    "plt.scatter(household_data_geom.HuishoudensTotaal_28, household_data_geom.PersonenautoSTotaal_100)"
   ]
  },
  {
   "cell_type": "code",
   "execution_count": 158,
   "id": "98da90a7",
   "metadata": {},
   "outputs": [
    {
     "name": "stdout",
     "output_type": "stream",
     "text": [
      "36160\n",
      "37610\n"
     ]
    }
   ],
   "source": [
    "test = household_data_geom.HuishoudensTotaal_28 / household_data_geom.PersonenautoSTotaal_100\n",
    "print(household_data_geom.HuishoudensTotaal_28.sum())\n",
    "print(household_data_geom.PersonenautoSTotaal_100.sum())"
   ]
  },
  {
   "cell_type": "code",
   "execution_count": null,
   "id": "6a7659c6",
   "metadata": {},
   "outputs": [],
   "source": []
  }
 ],
 "metadata": {
  "kernelspec": {
   "display_name": "Python 3 (ipykernel)",
   "language": "python",
   "name": "python3"
  },
  "language_info": {
   "codemirror_mode": {
    "name": "ipython",
    "version": 3
   },
   "file_extension": ".py",
   "mimetype": "text/x-python",
   "name": "python",
   "nbconvert_exporter": "python",
   "pygments_lexer": "ipython3",
   "version": "3.10.2"
  }
 },
 "nbformat": 4,
 "nbformat_minor": 5
}

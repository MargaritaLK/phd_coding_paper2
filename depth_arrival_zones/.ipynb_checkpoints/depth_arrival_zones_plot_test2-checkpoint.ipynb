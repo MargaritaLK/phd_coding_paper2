{
 "cells": [
  {
   "cell_type": "code",
   "execution_count": 1,
   "id": "ca21b24c",
   "metadata": {},
   "outputs": [],
   "source": [
    "import numpy as np\n",
    "import matplotlib.pyplot as plt\n",
    "import pandas as pd\n",
    "import geopandas as gpd\n",
    "import fiona\n",
    "\n",
    "import platform"
   ]
  },
  {
   "cell_type": "code",
   "execution_count": 2,
   "id": "89ed295f",
   "metadata": {},
   "outputs": [],
   "source": [
    "# %pwd\n",
    "# %ll"
   ]
  },
  {
   "cell_type": "code",
   "execution_count": 3,
   "id": "a409eb8b",
   "metadata": {},
   "outputs": [],
   "source": [
    "# general_path = '//wsl.localhost/Ubuntu/home/louise/code/MargaritaLK/phd_coding_paper2/depth_arrival_zones'\n",
    "input_path = 'input'\n",
    "figure_path = 'figures'"
   ]
  },
  {
   "cell_type": "markdown",
   "id": "13d9936b",
   "metadata": {},
   "source": [
    "------------"
   ]
  },
  {
   "cell_type": "markdown",
   "id": "b7d688bb",
   "metadata": {},
   "source": [
    "### load data"
   ]
  },
  {
   "cell_type": "code",
   "execution_count": 22,
   "id": "4b8ce7ad",
   "metadata": {},
   "outputs": [],
   "source": [
    "## read shape zones\n",
    "buurten_floodresults = gpd.read_file(f'input/buurten_scen1_test.shp')\n",
    "# buurten_floodresults.head(2)"
   ]
  },
  {
   "cell_type": "code",
   "execution_count": 34,
   "id": "a034cc53",
   "metadata": {},
   "outputs": [
    {
     "data": {
      "text/plain": [
       "Index(['BU_CODE', 'JRSTATCODE', 'BU_NAAM', 'WK_CODE', 'WK_NAAM', 'GM_CODE',\n",
       "       'GM_NAAM', 'IND_WBI', 'H2O', 'POSTCODE', 'DEK_PERC', 'OAD', 'STED',\n",
       "       'BEV_DICHTH', 'AANT_INW', 'AANT_MAN', 'AANT_VROUW', 'P_00_14_JR',\n",
       "       'P_15_24_JR', 'P_25_44_JR', 'P_45_64_JR', 'P_65_EO_JR', 'P_ONGEHUWD',\n",
       "       'P_GEHUWD', 'P_GESCHEID', 'P_VERWEDUW', 'AANTAL_HH', 'P_EENP_HH',\n",
       "       'P_HH_Z_K', 'P_HH_M_K', 'GEM_HH_GR', 'P_WEST_AL', 'P_N_W_AL',\n",
       "       'P_MAROKKO', 'P_ANT_ARU', 'P_SURINAM', 'P_TURKIJE', 'P_OVER_NW',\n",
       "       'OPP_TOT', 'OPP_LAND', 'OPP_WATER', 'Shape_Leng', 'Shape_Area',\n",
       "       'geometry'],\n",
       "      dtype='object')"
      ]
     },
     "execution_count": 34,
     "metadata": {},
     "output_type": "execute_result"
    }
   ],
   "source": [
    "buurten_cbs = gpd.read_file(f'input/cbs_buurten.shp')\n",
    "# buurten_cbs.head(1)\n",
    "buurten_cbs.columns"
   ]
  },
  {
   "cell_type": "markdown",
   "id": "4d2b0833",
   "metadata": {},
   "source": [
    "--------------------------"
   ]
  },
  {
   "cell_type": "code",
   "execution_count": 25,
   "id": "7416bae0",
   "metadata": {},
   "outputs": [
    {
     "data": {
      "text/html": [
       "<div>\n",
       "<style scoped>\n",
       "    .dataframe tbody tr th:only-of-type {\n",
       "        vertical-align: middle;\n",
       "    }\n",
       "\n",
       "    .dataframe tbody tr th {\n",
       "        vertical-align: top;\n",
       "    }\n",
       "\n",
       "    .dataframe thead th {\n",
       "        text-align: right;\n",
       "    }\n",
       "</style>\n",
       "<table border=\"1\" class=\"dataframe\">\n",
       "  <thead>\n",
       "    <tr style=\"text-align: right;\">\n",
       "      <th></th>\n",
       "      <th>BU_CODE</th>\n",
       "      <th>2u_mean</th>\n",
       "      <th>6u_mean</th>\n",
       "      <th>geometry</th>\n",
       "    </tr>\n",
       "  </thead>\n",
       "  <tbody>\n",
       "    <tr>\n",
       "      <th>0</th>\n",
       "      <td>BU04000100</td>\n",
       "      <td>NaN</td>\n",
       "      <td>NaN</td>\n",
       "      <td>MULTIPOLYGON (((116195.075 551883.114, 116203....</td>\n",
       "    </tr>\n",
       "    <tr>\n",
       "      <th>1</th>\n",
       "      <td>BU04000101</td>\n",
       "      <td>1.755653</td>\n",
       "      <td>2.137634</td>\n",
       "      <td>POLYGON ((113271.703 553153.125, 113316.297 55...</td>\n",
       "    </tr>\n",
       "    <tr>\n",
       "      <th>2</th>\n",
       "      <td>BU04000102</td>\n",
       "      <td>1.703658</td>\n",
       "      <td>2.086920</td>\n",
       "      <td>POLYGON ((113147.180 552784.186, 113180.703 55...</td>\n",
       "    </tr>\n",
       "  </tbody>\n",
       "</table>\n",
       "</div>"
      ],
      "text/plain": [
       "      BU_CODE   2u_mean   6u_mean  \\\n",
       "0  BU04000100       NaN       NaN   \n",
       "1  BU04000101  1.755653  2.137634   \n",
       "2  BU04000102  1.703658  2.086920   \n",
       "\n",
       "                                            geometry  \n",
       "0  MULTIPOLYGON (((116195.075 551883.114, 116203....  \n",
       "1  POLYGON ((113271.703 553153.125, 113316.297 55...  \n",
       "2  POLYGON ((113147.180 552784.186, 113180.703 55...  "
      ]
     },
     "execution_count": 25,
     "metadata": {},
     "output_type": "execute_result"
    }
   ],
   "source": [
    "## SELECT RELEVANT FLOOD RESULTS\n",
    "\n",
    "df_flood_select = buurten_floodresults.loc[:, lambda df: ['BU_CODE', '2u_mean', '6u_mean', 'geometry']]\n",
    "df_flood_select.head(3)"
   ]
  },
  {
   "cell_type": "code",
   "execution_count": 35,
   "id": "234a703a",
   "metadata": {},
   "outputs": [
    {
     "data": {
      "text/html": [
       "<div>\n",
       "<style scoped>\n",
       "    .dataframe tbody tr th:only-of-type {\n",
       "        vertical-align: middle;\n",
       "    }\n",
       "\n",
       "    .dataframe tbody tr th {\n",
       "        vertical-align: top;\n",
       "    }\n",
       "\n",
       "    .dataframe thead th {\n",
       "        text-align: right;\n",
       "    }\n",
       "</style>\n",
       "<table border=\"1\" class=\"dataframe\">\n",
       "  <thead>\n",
       "    <tr style=\"text-align: right;\">\n",
       "      <th></th>\n",
       "      <th>BU_CODE</th>\n",
       "      <th>AANT_INW</th>\n",
       "      <th>AANTAL_HH</th>\n",
       "    </tr>\n",
       "  </thead>\n",
       "  <tbody>\n",
       "    <tr>\n",
       "      <th>0</th>\n",
       "      <td>BU04000100</td>\n",
       "      <td>0</td>\n",
       "      <td>0</td>\n",
       "    </tr>\n",
       "    <tr>\n",
       "      <th>1</th>\n",
       "      <td>BU04000101</td>\n",
       "      <td>1115</td>\n",
       "      <td>650</td>\n",
       "    </tr>\n",
       "    <tr>\n",
       "      <th>2</th>\n",
       "      <td>BU04000102</td>\n",
       "      <td>1405</td>\n",
       "      <td>870</td>\n",
       "    </tr>\n",
       "    <tr>\n",
       "      <th>3</th>\n",
       "      <td>BU04000103</td>\n",
       "      <td>415</td>\n",
       "      <td>245</td>\n",
       "    </tr>\n",
       "    <tr>\n",
       "      <th>4</th>\n",
       "      <td>BU04000104</td>\n",
       "      <td>1010</td>\n",
       "      <td>555</td>\n",
       "    </tr>\n",
       "    <tr>\n",
       "      <th>...</th>\n",
       "      <td>...</td>\n",
       "      <td>...</td>\n",
       "      <td>...</td>\n",
       "    </tr>\n",
       "    <tr>\n",
       "      <th>85</th>\n",
       "      <td>BU19110603</td>\n",
       "      <td>205</td>\n",
       "      <td>100</td>\n",
       "    </tr>\n",
       "    <tr>\n",
       "      <th>86</th>\n",
       "      <td>BU19110604</td>\n",
       "      <td>265</td>\n",
       "      <td>115</td>\n",
       "    </tr>\n",
       "    <tr>\n",
       "      <th>87</th>\n",
       "      <td>BU19110700</td>\n",
       "      <td>1735</td>\n",
       "      <td>735</td>\n",
       "    </tr>\n",
       "    <tr>\n",
       "      <th>88</th>\n",
       "      <td>BU19110701</td>\n",
       "      <td>110</td>\n",
       "      <td>40</td>\n",
       "    </tr>\n",
       "    <tr>\n",
       "      <th>89</th>\n",
       "      <td>BU19110702</td>\n",
       "      <td>430</td>\n",
       "      <td>160</td>\n",
       "    </tr>\n",
       "  </tbody>\n",
       "</table>\n",
       "<p>90 rows × 3 columns</p>\n",
       "</div>"
      ],
      "text/plain": [
       "       BU_CODE  AANT_INW  AANTAL_HH\n",
       "0   BU04000100         0          0\n",
       "1   BU04000101      1115        650\n",
       "2   BU04000102      1405        870\n",
       "3   BU04000103       415        245\n",
       "4   BU04000104      1010        555\n",
       "..         ...       ...        ...\n",
       "85  BU19110603       205        100\n",
       "86  BU19110604       265        115\n",
       "87  BU19110700      1735        735\n",
       "88  BU19110701       110         40\n",
       "89  BU19110702       430        160\n",
       "\n",
       "[90 rows x 3 columns]"
      ]
     },
     "execution_count": 35,
     "metadata": {},
     "output_type": "execute_result"
    }
   ],
   "source": [
    "## SELECT RELEVANT CBS DATA\n",
    "df_cbs_select = buurten_cbs.loc[:, lambda df: ['BU_CODE', 'AANT_INW', 'AANTAL_HH']]\n",
    "df_cbs_select "
   ]
  },
  {
   "cell_type": "code",
   "execution_count": null,
   "id": "c1ad8e2f",
   "metadata": {},
   "outputs": [],
   "source": []
  },
  {
   "cell_type": "code",
   "execution_count": null,
   "id": "6c93ac53",
   "metadata": {},
   "outputs": [],
   "source": []
  },
  {
   "cell_type": "code",
   "execution_count": null,
   "id": "9945b779",
   "metadata": {},
   "outputs": [],
   "source": []
  },
  {
   "cell_type": "code",
   "execution_count": 27,
   "id": "65550fb0",
   "metadata": {},
   "outputs": [],
   "source": [
    "#join\n",
    "\n",
    "\n",
    "\n",
    "\n",
    "# pd.merge(left, right, how=\"outer\", on=\"key\")\n",
    "# pd.merge(buurten_floodresults, buurten_cbs, how=\"inner\", on= \"BU_CODE\")"
   ]
  },
  {
   "cell_type": "code",
   "execution_count": null,
   "id": "3514c2b4",
   "metadata": {},
   "outputs": [],
   "source": []
  },
  {
   "cell_type": "code",
   "execution_count": null,
   "id": "beae9fbe",
   "metadata": {},
   "outputs": [],
   "source": []
  },
  {
   "cell_type": "code",
   "execution_count": 6,
   "id": "3b5e3b40",
   "metadata": {},
   "outputs": [
    {
     "data": {
      "text/plain": [
       "Index(['BU_CODE', 'JRSTATCODE', 'BU_NAAM', 'WK_CODE', 'WK_NAAM', 'GM_CODE',\n",
       "       'GM_NAAM', 'IND_WBI', 'H2O', 'POSTCODE', 'DEK_PERC', 'OAD', 'STED',\n",
       "       'BEV_DICHTH', 'AANT_INW', 'AANT_MAN', 'AANT_VROUW', 'P_00_14_JR',\n",
       "       'P_15_24_JR', 'P_25_44_JR', 'P_45_64_JR', 'P_65_EO_JR', 'P_ONGEHUWD',\n",
       "       'P_GEHUWD', 'P_GESCHEID', 'P_VERWEDUW', 'AANTAL_HH', 'P_EENP_HH',\n",
       "       'P_HH_Z_K', 'P_HH_M_K', 'GEM_HH_GR', 'P_WEST_AL', 'P_N_W_AL',\n",
       "       'P_MAROKKO', 'P_ANT_ARU', 'P_SURINAM', 'P_TURKIJE', 'P_OVER_NW',\n",
       "       'OPP_TOT', 'OPP_LAND', 'OPP_WATER', 'Shape_Leng', 'Shape_Area',\n",
       "       'geometry'],\n",
       "      dtype='object')"
      ]
     },
     "execution_count": 6,
     "metadata": {},
     "output_type": "execute_result"
    }
   ],
   "source": []
  },
  {
   "cell_type": "code",
   "execution_count": 7,
   "id": "235ca6d5",
   "metadata": {},
   "outputs": [
    {
     "data": {
      "text/plain": [
       "90"
      ]
     },
     "execution_count": 7,
     "metadata": {},
     "output_type": "execute_result"
    }
   ],
   "source": [
    "buurten_cbs.AANT_INW.max()\n",
    "\n",
    "len(buurten_cbs)"
   ]
  },
  {
   "cell_type": "code",
   "execution_count": 8,
   "id": "756e87ac",
   "metadata": {},
   "outputs": [
    {
     "name": "stderr",
     "output_type": "stream",
     "text": [
      "No artists with labels found to put in legend.  Note that artists whose label start with an underscore are ignored when legend() is called with no argument.\n"
     ]
    },
    {
     "data": {
      "text/plain": [
       "<matplotlib.legend.Legend at 0x7fb6dc9673a0>"
      ]
     },
     "execution_count": 8,
     "metadata": {},
     "output_type": "execute_result"
    },
    {
     "data": {
      "image/png": "[encoded data removed]",
      "text/plain": [
       "<Figure size 432x288 with 2 Axes>"
      ]
     },
     "metadata": {
      "needs_background": "light"
     },
     "output_type": "display_data"
    }
   ],
   "source": [
    "#clean inwoners data\n",
    "\n",
    "inwoners = buurten_cbs[buurten_cbs.AANT_INW > 1 ]\n",
    "# >gapminder_2002 = gapminder[gapminder['year']==2002]\n",
    "\n",
    "buurten_cbs.plot(column = 'AANT_INW', legend = True)\n",
    "plt.legend()"
   ]
  },
  {
   "cell_type": "code",
   "execution_count": 9,
   "id": "d7ae6efd",
   "metadata": {},
   "outputs": [
    {
     "data": {
      "text/plain": [
       "85"
      ]
     },
     "execution_count": 9,
     "metadata": {},
     "output_type": "execute_result"
    }
   ],
   "source": [
    "len(inwoners)"
   ]
  },
  {
   "cell_type": "code",
   "execution_count": 13,
   "id": "1a45a99d",
   "metadata": {},
   "outputs": [
    {
     "data": {
      "text/html": [
       "<div>\n",
       "<style scoped>\n",
       "    .dataframe tbody tr th:only-of-type {\n",
       "        vertical-align: middle;\n",
       "    }\n",
       "\n",
       "    .dataframe tbody tr th {\n",
       "        vertical-align: top;\n",
       "    }\n",
       "\n",
       "    .dataframe thead th {\n",
       "        text-align: right;\n",
       "    }\n",
       "</style>\n",
       "<table border=\"1\" class=\"dataframe\">\n",
       "  <thead>\n",
       "    <tr style=\"text-align: right;\">\n",
       "      <th></th>\n",
       "      <th>bu_code</th>\n",
       "    </tr>\n",
       "  </thead>\n",
       "  <tbody>\n",
       "    <tr>\n",
       "      <th>0</th>\n",
       "      <td>BU04000100</td>\n",
       "    </tr>\n",
       "    <tr>\n",
       "      <th>1</th>\n",
       "      <td>BU04000101</td>\n",
       "    </tr>\n",
       "    <tr>\n",
       "      <th>2</th>\n",
       "      <td>BU04000102</td>\n",
       "    </tr>\n",
       "    <tr>\n",
       "      <th>3</th>\n",
       "      <td>BU04000103</td>\n",
       "    </tr>\n",
       "    <tr>\n",
       "      <th>4</th>\n",
       "      <td>BU04000104</td>\n",
       "    </tr>\n",
       "    <tr>\n",
       "      <th>...</th>\n",
       "      <td>...</td>\n",
       "    </tr>\n",
       "    <tr>\n",
       "      <th>85</th>\n",
       "      <td>BU19110603</td>\n",
       "    </tr>\n",
       "    <tr>\n",
       "      <th>86</th>\n",
       "      <td>BU19110604</td>\n",
       "    </tr>\n",
       "    <tr>\n",
       "      <th>87</th>\n",
       "      <td>BU19110700</td>\n",
       "    </tr>\n",
       "    <tr>\n",
       "      <th>88</th>\n",
       "      <td>BU19110701</td>\n",
       "    </tr>\n",
       "    <tr>\n",
       "      <th>89</th>\n",
       "      <td>BU19110702</td>\n",
       "    </tr>\n",
       "  </tbody>\n",
       "</table>\n",
       "<p>90 rows × 1 columns</p>\n",
       "</div>"
      ],
      "text/plain": [
       "       bu_code\n",
       "0   BU04000100\n",
       "1   BU04000101\n",
       "2   BU04000102\n",
       "3   BU04000103\n",
       "4   BU04000104\n",
       "..         ...\n",
       "85  BU19110603\n",
       "86  BU19110604\n",
       "87  BU19110700\n",
       "88  BU19110701\n",
       "89  BU19110702\n",
       "\n",
       "[90 rows x 1 columns]"
      ]
     },
     "execution_count": 13,
     "metadata": {},
     "output_type": "execute_result"
    }
   ],
   "source": [
    "## create table with relevant datae\n",
    "\n",
    "df = pd.DataFrame()\n",
    "\n",
    "df['bu_code'] = buurten_floodresults.BU_CODE\n",
    "df\n",
    "# df['nr_inhabitans']\n",
    "df"
   ]
  },
  {
   "cell_type": "code",
   "execution_count": null,
   "id": "4bd931cb",
   "metadata": {},
   "outputs": [],
   "source": []
  },
  {
   "cell_type": "code",
   "execution_count": null,
   "id": "0439a828",
   "metadata": {},
   "outputs": [],
   "source": []
  }
 ],
 "metadata": {
  "kernelspec": {
   "display_name": "Python 3 (ipykernel)",
   "language": "python",
   "name": "python3"
  },
  "language_info": {
   "codemirror_mode": {
    "name": "ipython",
    "version": 3
   },
   "file_extension": ".py",
   "mimetype": "text/x-python",
   "name": "python",
   "nbconvert_exporter": "python",
   "pygments_lexer": "ipython3",
   "version": "3.8.12"
  },
  "toc": {
   "base_numbering": 1,
   "nav_menu": {},
   "number_sections": true,
   "sideBar": true,
   "skip_h1_title": false,
   "title_cell": "Table of Contents",
   "title_sidebar": "Contents",
   "toc_cell": false,
   "toc_position": {},
   "toc_section_display": true,
   "toc_window_display": false
  }
 },
 "nbformat": 4,
 "nbformat_minor": 5
}

{
 "cells": [
  {
   "cell_type": "code",
   "execution_count": 1,
   "id": "ca21b24c",
   "metadata": {},
   "outputs": [],
   "source": [
    "import numpy as np\n",
    "import matplotlib.pyplot as plt\n",
    "import pandas as pd\n",
    "import geopandas as gpd\n",
    "import fiona\n",
    "\n",
    "import platform"
   ]
  },
  {
   "cell_type": "code",
   "execution_count": 2,
   "id": "89ed295f",
   "metadata": {},
   "outputs": [],
   "source": [
    "# %pwd\n",
    "# %ll"
   ]
  },
  {
   "cell_type": "code",
   "execution_count": 3,
   "id": "a409eb8b",
   "metadata": {},
   "outputs": [],
   "source": [
    "# general_path = '//wsl.localhost/Ubuntu/home/louise/code/MargaritaLK/phd_coding_paper2/depth_arrival_zones'\n",
    "input_path = 'input'\n",
    "figure_path = 'figures'"
   ]
  },
  {
   "cell_type": "markdown",
   "id": "13d9936b",
   "metadata": {},
   "source": [
    "------------"
   ]
  },
  {
   "cell_type": "markdown",
   "id": "b7d688bb",
   "metadata": {},
   "source": [
    "### load data"
   ]
  },
  {
   "cell_type": "code",
   "execution_count": 72,
   "id": "4b8ce7ad",
   "metadata": {},
   "outputs": [
    {
     "data": {
      "text/plain": [
       "Index(['fid', 'BU_CODE', 'JRSTATCODE', 'BU_NAAM', 'WK_CODE', 'WK_NAAM',\n",
       "       'GM_CODE', 'GM_NAAM', 'IND_WBI', 'H2O', 'POSTCODE', 'DEK_PERC', 'OAD',\n",
       "       'STED', 'BEV_DICHTH', 'AANT_INW', 'AANT_MAN', 'AANT_VROUW',\n",
       "       'P_00_14_JR', 'P_15_24_JR', 'P_25_44_JR', 'P_45_64_JR', 'P_65_EO_JR',\n",
       "       'P_ONGEHUWD', 'P_GEHUWD', 'P_GESCHEID', 'P_VERWEDUW', 'AANTAL_HH',\n",
       "       'P_EENP_HH', 'P_HH_Z_K', 'P_HH_M_K', 'GEM_HH_GR', 'P_WEST_AL',\n",
       "       'P_N_W_AL', 'P_MAROKKO', 'P_ANT_ARU', 'P_SURINAM', 'P_TURKIJE',\n",
       "       'P_OVER_NW', 'OPP_TOT', 'OPP_LAND', 'OPP_WATER', 'Shape_Leng',\n",
       "       'Shape_Area', '_1ucount', '_1usum', '_1umean', '2u_count', '2u_sum',\n",
       "       '2u_mean', '3u_count', '3u_sum', '3u_mean', '4u_count', '4u_sum',\n",
       "       '4u_mean', '6u_count', '6u_sum', '6u_mean', '12_count', '12_sum',\n",
       "       '12_mean', '24_count', '24_sum', '24_mean', 'geometry'],\n",
       "      dtype='object')"
      ]
     },
     "execution_count": 72,
     "metadata": {},
     "output_type": "execute_result"
    }
   ],
   "source": [
    "## read shape zones\n",
    "buurten_floodresults = gpd.read_file(f'input/buurten_scen1_test.shp')\n",
    "buurten_floodresults.head(2)\n",
    "# len(buurten_floodresults)\n",
    "buurten_floodresults.columns"
   ]
  },
  {
   "cell_type": "code",
   "execution_count": 65,
   "id": "7fe42312",
   "metadata": {},
   "outputs": [],
   "source": [
    "# buurten_cbs = gpd.read_file(f'input/cbs_buurten.shp')\n",
    "# buurten_cbs.head(1)\n",
    "# # buurten_cbs.columns\n",
    "# # len(buurten_cbs)"
   ]
  },
  {
   "cell_type": "markdown",
   "id": "3f07de14",
   "metadata": {},
   "source": [
    "--------------------------"
   ]
  },
  {
   "cell_type": "code",
   "execution_count": 73,
   "id": "a0831e54",
   "metadata": {},
   "outputs": [
    {
     "data": {
      "text/html": [
       "<div>\n",
       "<style scoped>\n",
       "    .dataframe tbody tr th:only-of-type {\n",
       "        vertical-align: middle;\n",
       "    }\n",
       "\n",
       "    .dataframe tbody tr th {\n",
       "        vertical-align: top;\n",
       "    }\n",
       "\n",
       "    .dataframe thead th {\n",
       "        text-align: right;\n",
       "    }\n",
       "</style>\n",
       "<table border=\"1\" class=\"dataframe\">\n",
       "  <thead>\n",
       "    <tr style=\"text-align: right;\">\n",
       "      <th></th>\n",
       "      <th>BU_CODE</th>\n",
       "      <th>BU_NAAM</th>\n",
       "      <th>WK_CODE</th>\n",
       "      <th>AANT_INW</th>\n",
       "      <th>AANTAL_HH</th>\n",
       "      <th>_1umean</th>\n",
       "      <th>2u_mean</th>\n",
       "      <th>3u_mean</th>\n",
       "      <th>4u_mean</th>\n",
       "      <th>6u_mean</th>\n",
       "      <th>12_mean</th>\n",
       "      <th>24_mean</th>\n",
       "      <th>geometry</th>\n",
       "    </tr>\n",
       "  </thead>\n",
       "  <tbody>\n",
       "    <tr>\n",
       "      <th>0</th>\n",
       "      <td>BU04000100</td>\n",
       "      <td>Marinehaven</td>\n",
       "      <td>WK040001</td>\n",
       "      <td>0.0</td>\n",
       "      <td>0.0</td>\n",
       "      <td>NaN</td>\n",
       "      <td>NaN</td>\n",
       "      <td>NaN</td>\n",
       "      <td>NaN</td>\n",
       "      <td>NaN</td>\n",
       "      <td>NaN</td>\n",
       "      <td>NaN</td>\n",
       "      <td>MULTIPOLYGON (((116195.075 551883.114, 116203....</td>\n",
       "    </tr>\n",
       "    <tr>\n",
       "      <th>1</th>\n",
       "      <td>BU04000101</td>\n",
       "      <td>Oostsloot</td>\n",
       "      <td>WK040001</td>\n",
       "      <td>1115.0</td>\n",
       "      <td>650.0</td>\n",
       "      <td>1.333847</td>\n",
       "      <td>1.755653</td>\n",
       "      <td>1.863996</td>\n",
       "      <td>1.939903</td>\n",
       "      <td>2.137634</td>\n",
       "      <td>2.505901</td>\n",
       "      <td>1.893949</td>\n",
       "      <td>POLYGON ((113271.703 553153.125, 113316.297 55...</td>\n",
       "    </tr>\n",
       "  </tbody>\n",
       "</table>\n",
       "</div>"
      ],
      "text/plain": [
       "      BU_CODE      BU_NAAM   WK_CODE  AANT_INW  AANTAL_HH   _1umean   2u_mean  \\\n",
       "0  BU04000100  Marinehaven  WK040001       0.0        0.0       NaN       NaN   \n",
       "1  BU04000101    Oostsloot  WK040001    1115.0      650.0  1.333847  1.755653   \n",
       "\n",
       "    3u_mean   4u_mean   6u_mean   12_mean   24_mean  \\\n",
       "0       NaN       NaN       NaN       NaN       NaN   \n",
       "1  1.863996  1.939903  2.137634  2.505901  1.893949   \n",
       "\n",
       "                                            geometry  \n",
       "0  MULTIPOLYGON (((116195.075 551883.114, 116203....  \n",
       "1  POLYGON ((113271.703 553153.125, 113316.297 55...  "
      ]
     },
     "execution_count": 73,
     "metadata": {},
     "output_type": "execute_result"
    }
   ],
   "source": [
    "## SELECT RELEVANT FLOOD RESULTS\n",
    "columns_select = [ 'BU_CODE',  'BU_NAAM', 'WK_CODE','AANT_INW','AANTAL_HH',\n",
    "                  '_1umean','2u_mean', '3u_mean', '4u_mean', '6u_mean', '12_mean', '24_mean', 'geometry']\n",
    "\n",
    "df_flood_select = buurten_floodresults.loc[:, lambda df: columns_select]\n",
    "df_flood_select.head(2)"
   ]
  },
  {
   "cell_type": "code",
   "execution_count": 74,
   "id": "f0548107",
   "metadata": {},
   "outputs": [],
   "source": [
    "# ## SELECT RELEVANT CBS DATA\n",
    "\n",
    "# #select buurten met > 1 inwoner\n",
    "# df_cbs_metinwoners = buurten_cbs[buurten_cbs.AANT_INW > 1 ]\n",
    "\n",
    "# #select relevant data\n",
    "# df_cbs_select = df_cbs_metinwoners.loc[:, lambda df: ['BU_CODE', 'AANT_INW', 'AANTAL_HH']]\n",
    "# df_cbs_select.head(2)"
   ]
  },
  {
   "cell_type": "code",
   "execution_count": 75,
   "id": "c1ad8e2f",
   "metadata": {},
   "outputs": [],
   "source": [
    "# df_merge = pd.merge(df_cbs_select, df_flood_select , how=\"inner\", on= \"BU_CODE\")\n",
    "# df_merge"
   ]
  },
  {
   "cell_type": "code",
   "execution_count": 76,
   "id": "150e8bc5",
   "metadata": {},
   "outputs": [],
   "source": [
    "# df_merge.to_file(\"merge.geojson\", driver='GeoJSON')"
   ]
  },
  {
   "cell_type": "code",
   "execution_count": null,
   "id": "95020f07",
   "metadata": {},
   "outputs": [],
   "source": []
  },
  {
   "cell_type": "code",
   "execution_count": 107,
   "id": "b62dd729",
   "metadata": {},
   "outputs": [
    {
     "data": {
      "text/plain": [
       "array([1., 1., 1., 1., 1., 1., 1., 1., 1., 1., 1., 1., 1., 1., 1., 1., 1.,\n",
       "       1., 1., 1., 1., 1., 1., 1., 1., 1., 1., 1., 1., 1., 1., 1., 1., 1.,\n",
       "       1., 1., 1., 1., 1., 1., 1., 1., 1., 1., 1., 1., 1., 1., 1., 1., 1.,\n",
       "       1., 1., 1., 1., 1., 1., 1., 1., 1., 1., 1., 1., 1., 1., 1., 1., 1.,\n",
       "       1., 1., 1., 1., 1., 1., 1., 1., 1., 1., 1., 1., 1., 1., 1., 1., 1.,\n",
       "       1., 1., 1., 1., 1.])"
      ]
     },
     "execution_count": 107,
     "metadata": {},
     "output_type": "execute_result"
    }
   ],
   "source": [
    "\n",
    "x = np.zeros(len(df_flood_select))\n",
    "x[:] = 1\n"
   ]
  },
  {
   "cell_type": "code",
   "execution_count": 122,
   "id": "37e3ff32",
   "metadata": {},
   "outputs": [
    {
     "data": {
      "text/plain": [
       "<matplotlib.collections.PathCollection at 0x7fb6d8520a00>"
      ]
     },
     "execution_count": 122,
     "metadata": {},
     "output_type": "execute_result"
    },
    {
     "data": {
      "image/png": "[encoded data removed]",
      "text/plain": [
       "<Figure size 432x288 with 1 Axes>"
      ]
     },
     "metadata": {
      "needs_background": "light"
     },
     "output_type": "display_data"
    }
   ],
   "source": [
    "\n",
    "\n",
    "fig, ax = plt.subplots()\n",
    "\n",
    "x1 = np.zeros(len(df_flood_select))\n",
    "x1[:] = 1\n",
    "ax.scatter(x1, df_flood_select['_1umean'], s = df_flood_select['AANTAL_HH']/10, alpha =0.5)\n",
    "\n",
    "x2 = np.zeros(len(df_flood_select))\n",
    "x2[:] = 2\n",
    "ax.scatter(x2, df_flood_select['2u_mean'], s = df_flood_select['AANTAL_HH']/10, alpha =0.5)\n",
    "\n",
    "x3 = np.zeros(len(df_flood_select))\n",
    "x3[:] = 3\n",
    "ax.scatter(x3, df_flood_select['3u_mean'], s = df_flood_select['AANTAL_HH']/10, alpha =0.5)\n",
    "\n",
    "x4 = np.zeros(len(df_flood_select))\n",
    "x4[:] = 4\n",
    "ax.scatter(x4, df_flood_select['4u_mean'], s = df_flood_select['AANTAL_HH']/10, alpha =0.5)\n",
    "\n",
    "x6 = np.zeros(len(df_flood_select))\n",
    "x6[:] = 6\n",
    "ax.scatter(x6, df_flood_select['6u_mean'], s = df_flood_select['AANTAL_HH']/10, alpha =0.5)\n",
    "\n",
    "\n",
    "x12 = np.zeros(len(df_flood_select))\n",
    "x12[:] = 12\n",
    "ax.scatter(x12, df_flood_select['12_mean'], s = df_flood_select['AANTAL_HH']/10, alpha =0.5)\n",
    "\n",
    "\n",
    "x24 = np.zeros(len(df_flood_select))\n",
    "x24[:] = 24\n",
    "ax.scatter(x24, df_flood_select['24_mean'], s = df_flood_select['AANTAL_HH']/10, alpha =0.5)\n",
    "\n",
    "\n",
    "# ax.scatter(df_flood_select ['AANTAL_HH'], df_flood_select ['2u_mean'])\n",
    "# ax.scatter(df_flood_select ['AANTAL_HH'], df_flood_select ['3u_mean'])\n",
    "# ax.scatter(df_flood_select ['AANTAL_HH'], df_flood_select ['4u_mean'])\n",
    "# ax.scatter(df_flood_select ['AANTAL_HH'], df_flood_select ['6u_mean'])\n",
    "# ax.scatter(df_flood_select ['AANTAL_HH'], df_flood_select ['12_mean'])\n",
    "# ax.scatter(df_flood_select ['AANTAL_HH'], df_flood_select ['24_mean'])"
   ]
  },
  {
   "cell_type": "code",
   "execution_count": null,
   "id": "0b9f9f1f",
   "metadata": {},
   "outputs": [],
   "source": []
  },
  {
   "cell_type": "code",
   "execution_count": null,
   "id": "3b92b524",
   "metadata": {},
   "outputs": [],
   "source": []
  },
  {
   "cell_type": "code",
   "execution_count": null,
   "id": "3b5e3b40",
   "metadata": {},
   "outputs": [],
   "source": []
  },
  {
   "cell_type": "code",
   "execution_count": null,
   "id": "235ca6d5",
   "metadata": {},
   "outputs": [],
   "source": []
  },
  {
   "cell_type": "code",
   "execution_count": 8,
   "id": "756e87ac",
   "metadata": {},
   "outputs": [
    {
     "name": "stderr",
     "output_type": "stream",
     "text": [
      "No artists with labels found to put in legend.  Note that artists whose label start with an underscore are ignored when legend() is called with no argument.\n"
     ]
    },
    {
     "data": {
      "text/plain": [
       "<matplotlib.legend.Legend at 0x7fb6dc9673a0>"
      ]
     },
     "execution_count": 8,
     "metadata": {},
     "output_type": "execute_result"
    },
    {
     "data": {
      "image/png": "[encoded data removed]",
      "text/plain": [
       "<Figure size 432x288 with 2 Axes>"
      ]
     },
     "metadata": {
      "needs_background": "light"
     },
     "output_type": "display_data"
    }
   ],
   "source": [
    "#clean inwoners data\n",
    "\n",
    "inwoners = buurten_cbs[buurten_cbs.AANT_INW > 1 ]\n",
    "# >gapminder_2002 = gapminder[gapminder['year']==2002]\n",
    "\n",
    "buurten_cbs.plot(column = 'AANT_INW', legend = True)\n",
    "plt.legend()"
   ]
  },
  {
   "cell_type": "code",
   "execution_count": 9,
   "id": "d7ae6efd",
   "metadata": {},
   "outputs": [
    {
     "data": {
      "text/plain": [
       "85"
      ]
     },
     "execution_count": 9,
     "metadata": {},
     "output_type": "execute_result"
    }
   ],
   "source": [
    "len(inwoners)"
   ]
  },
  {
   "cell_type": "code",
   "execution_count": 13,
   "id": "1a45a99d",
   "metadata": {},
   "outputs": [
    {
     "data": {
      "text/html": [
       "<div>\n",
       "<style scoped>\n",
       "    .dataframe tbody tr th:only-of-type {\n",
       "        vertical-align: middle;\n",
       "    }\n",
       "\n",
       "    .dataframe tbody tr th {\n",
       "        vertical-align: top;\n",
       "    }\n",
       "\n",
       "    .dataframe thead th {\n",
       "        text-align: right;\n",
       "    }\n",
       "</style>\n",
       "<table border=\"1\" class=\"dataframe\">\n",
       "  <thead>\n",
       "    <tr style=\"text-align: right;\">\n",
       "      <th></th>\n",
       "      <th>bu_code</th>\n",
       "    </tr>\n",
       "  </thead>\n",
       "  <tbody>\n",
       "    <tr>\n",
       "      <th>0</th>\n",
       "      <td>BU04000100</td>\n",
       "    </tr>\n",
       "    <tr>\n",
       "      <th>1</th>\n",
       "      <td>BU04000101</td>\n",
       "    </tr>\n",
       "    <tr>\n",
       "      <th>2</th>\n",
       "      <td>BU04000102</td>\n",
       "    </tr>\n",
       "    <tr>\n",
       "      <th>3</th>\n",
       "      <td>BU04000103</td>\n",
       "    </tr>\n",
       "    <tr>\n",
       "      <th>4</th>\n",
       "      <td>BU04000104</td>\n",
       "    </tr>\n",
       "    <tr>\n",
       "      <th>...</th>\n",
       "      <td>...</td>\n",
       "    </tr>\n",
       "    <tr>\n",
       "      <th>85</th>\n",
       "      <td>BU19110603</td>\n",
       "    </tr>\n",
       "    <tr>\n",
       "      <th>86</th>\n",
       "      <td>BU19110604</td>\n",
       "    </tr>\n",
       "    <tr>\n",
       "      <th>87</th>\n",
       "      <td>BU19110700</td>\n",
       "    </tr>\n",
       "    <tr>\n",
       "      <th>88</th>\n",
       "      <td>BU19110701</td>\n",
       "    </tr>\n",
       "    <tr>\n",
       "      <th>89</th>\n",
       "      <td>BU19110702</td>\n",
       "    </tr>\n",
       "  </tbody>\n",
       "</table>\n",
       "<p>90 rows × 1 columns</p>\n",
       "</div>"
      ],
      "text/plain": [
       "       bu_code\n",
       "0   BU04000100\n",
       "1   BU04000101\n",
       "2   BU04000102\n",
       "3   BU04000103\n",
       "4   BU04000104\n",
       "..         ...\n",
       "85  BU19110603\n",
       "86  BU19110604\n",
       "87  BU19110700\n",
       "88  BU19110701\n",
       "89  BU19110702\n",
       "\n",
       "[90 rows x 1 columns]"
      ]
     },
     "execution_count": 13,
     "metadata": {},
     "output_type": "execute_result"
    }
   ],
   "source": [
    "## create table with relevant datae\n",
    "\n",
    "df = pd.DataFrame()\n",
    "\n",
    "df['bu_code'] = buurten_floodresults.BU_CODE\n",
    "df\n",
    "# df['nr_inhabitans']\n",
    "df"
   ]
  },
  {
   "cell_type": "code",
   "execution_count": null,
   "id": "4bd931cb",
   "metadata": {},
   "outputs": [],
   "source": []
  },
  {
   "cell_type": "code",
   "execution_count": null,
   "id": "0439a828",
   "metadata": {},
   "outputs": [],
   "source": []
  }
 ],
 "metadata": {
  "kernelspec": {
   "display_name": "Python 3 (ipykernel)",
   "language": "python",
   "name": "python3"
  },
  "language_info": {
   "codemirror_mode": {
    "name": "ipython",
    "version": 3
   },
   "file_extension": ".py",
   "mimetype": "text/x-python",
   "name": "python",
   "nbconvert_exporter": "python",
   "pygments_lexer": "ipython3",
   "version": "3.8.12"
  },
  "toc": {
   "base_numbering": 1,
   "nav_menu": {},
   "number_sections": true,
   "sideBar": true,
   "skip_h1_title": false,
   "title_cell": "Table of Contents",
   "title_sidebar": "Contents",
   "toc_cell": false,
   "toc_position": {},
   "toc_section_display": true,
   "toc_window_display": false
  }
 },
 "nbformat": 4,
 "nbformat_minor": 5
}

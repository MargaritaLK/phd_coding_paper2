{
 "cells": [
  {
   "cell_type": "code",
   "execution_count": 17,
   "id": "ca21b24c",
   "metadata": {},
   "outputs": [],
   "source": [
    "import numpy as np\n",
    "import matplotlib.pyplot as plt\n",
    "import pandas as pd\n",
    "import geopandas as gpd\n",
    "import fiona\n",
    "\n",
    "import platform"
   ]
  },
  {
   "cell_type": "code",
   "execution_count": 34,
   "id": "a077ac0a",
   "metadata": {},
   "outputs": [],
   "source": [
    "# %pwd\n",
    "# %ll"
   ]
  },
  {
   "cell_type": "code",
   "execution_count": 27,
   "id": "a409eb8b",
   "metadata": {},
   "outputs": [],
   "source": [
    "# general_path = '//wsl.localhost/Ubuntu/home/louise/code/MargaritaLK/phd_coding_paper2/depth_arrival_zones'\n",
    "input_path = 'input'\n",
    "figure_path = 'figures'"
   ]
  },
  {
   "cell_type": "markdown",
   "id": "13d9936b",
   "metadata": {},
   "source": [
    "------------"
   ]
  },
  {
   "cell_type": "code",
   "execution_count": 36,
   "id": "0fd858e7",
   "metadata": {},
   "outputs": [
    {
     "data": {
      "text/html": [
       "<div>\n",
       "<style scoped>\n",
       "    .dataframe tbody tr th:only-of-type {\n",
       "        vertical-align: middle;\n",
       "    }\n",
       "\n",
       "    .dataframe tbody tr th {\n",
       "        vertical-align: top;\n",
       "    }\n",
       "\n",
       "    .dataframe thead th {\n",
       "        text-align: right;\n",
       "    }\n",
       "</style>\n",
       "<table border=\"1\" class=\"dataframe\">\n",
       "  <thead>\n",
       "    <tr style=\"text-align: right;\">\n",
       "      <th></th>\n",
       "      <th>fid</th>\n",
       "      <th>BU_CODE</th>\n",
       "      <th>JRSTATCODE</th>\n",
       "      <th>BU_NAAM</th>\n",
       "      <th>WK_CODE</th>\n",
       "      <th>WK_NAAM</th>\n",
       "      <th>GM_CODE</th>\n",
       "      <th>GM_NAAM</th>\n",
       "      <th>IND_WBI</th>\n",
       "      <th>H2O</th>\n",
       "      <th>...</th>\n",
       "      <th>6u_count</th>\n",
       "      <th>6u_sum</th>\n",
       "      <th>6u_mean</th>\n",
       "      <th>12_count</th>\n",
       "      <th>12_sum</th>\n",
       "      <th>12_mean</th>\n",
       "      <th>24_count</th>\n",
       "      <th>24_sum</th>\n",
       "      <th>24_mean</th>\n",
       "      <th>geometry</th>\n",
       "    </tr>\n",
       "  </thead>\n",
       "  <tbody>\n",
       "    <tr>\n",
       "      <th>0</th>\n",
       "      <td>1.0</td>\n",
       "      <td>BU04000100</td>\n",
       "      <td>2020BU04000100</td>\n",
       "      <td>Marinehaven</td>\n",
       "      <td>WK040001</td>\n",
       "      <td>Wijk 01 Stad binnen de Linie-Oost</td>\n",
       "      <td>GM0400</td>\n",
       "      <td>Den Helder</td>\n",
       "      <td>1.0</td>\n",
       "      <td>NEE</td>\n",
       "      <td>...</td>\n",
       "      <td>0.0</td>\n",
       "      <td>0.000000</td>\n",
       "      <td>NaN</td>\n",
       "      <td>0.0</td>\n",
       "      <td>0.000000</td>\n",
       "      <td>NaN</td>\n",
       "      <td>0.0</td>\n",
       "      <td>0.000000</td>\n",
       "      <td>NaN</td>\n",
       "      <td>MULTIPOLYGON (((116195.075 551883.114, 116203....</td>\n",
       "    </tr>\n",
       "    <tr>\n",
       "      <th>1</th>\n",
       "      <td>2.0</td>\n",
       "      <td>BU04000101</td>\n",
       "      <td>2020BU04000101</td>\n",
       "      <td>Oostsloot</td>\n",
       "      <td>WK040001</td>\n",
       "      <td>Wijk 01 Stad binnen de Linie-Oost</td>\n",
       "      <td>GM0400</td>\n",
       "      <td>Den Helder</td>\n",
       "      <td>1.0</td>\n",
       "      <td>NEE</td>\n",
       "      <td>...</td>\n",
       "      <td>34055.0</td>\n",
       "      <td>72797.127704</td>\n",
       "      <td>2.137634</td>\n",
       "      <td>34055.0</td>\n",
       "      <td>85338.456671</td>\n",
       "      <td>2.505901</td>\n",
       "      <td>34055.0</td>\n",
       "      <td>64498.432764</td>\n",
       "      <td>1.893949</td>\n",
       "      <td>POLYGON ((113271.703 553153.125, 113316.297 55...</td>\n",
       "    </tr>\n",
       "  </tbody>\n",
       "</table>\n",
       "<p>2 rows × 66 columns</p>\n",
       "</div>"
      ],
      "text/plain": [
       "   fid     BU_CODE      JRSTATCODE      BU_NAAM   WK_CODE  \\\n",
       "0  1.0  BU04000100  2020BU04000100  Marinehaven  WK040001   \n",
       "1  2.0  BU04000101  2020BU04000101    Oostsloot  WK040001   \n",
       "\n",
       "                             WK_NAAM GM_CODE     GM_NAAM  IND_WBI  H2O  ...  \\\n",
       "0  Wijk 01 Stad binnen de Linie-Oost  GM0400  Den Helder      1.0  NEE  ...   \n",
       "1  Wijk 01 Stad binnen de Linie-Oost  GM0400  Den Helder      1.0  NEE  ...   \n",
       "\n",
       "  6u_count        6u_sum   6u_mean  12_count        12_sum   12_mean  \\\n",
       "0      0.0      0.000000       NaN       0.0      0.000000       NaN   \n",
       "1  34055.0  72797.127704  2.137634   34055.0  85338.456671  2.505901   \n",
       "\n",
       "   24_count        24_sum   24_mean  \\\n",
       "0       0.0      0.000000       NaN   \n",
       "1   34055.0  64498.432764  1.893949   \n",
       "\n",
       "                                            geometry  \n",
       "0  MULTIPOLYGON (((116195.075 551883.114, 116203....  \n",
       "1  POLYGON ((113271.703 553153.125, 113316.297 55...  \n",
       "\n",
       "[2 rows x 66 columns]"
      ]
     },
     "execution_count": 36,
     "metadata": {},
     "output_type": "execute_result"
    }
   ],
   "source": [
    "## read shape zones\n",
    "buurten_floodresults = gpd.read_file(f'input/buurten_scen1_test.shp')\n",
    "buurten_floodresults.head(2)"
   ]
  },
  {
   "cell_type": "code",
   "execution_count": 29,
   "id": "c1ad8e2f",
   "metadata": {},
   "outputs": [
    {
     "data": {
      "text/plain": [
       "<AxesSubplot:>"
      ]
     },
     "execution_count": 29,
     "metadata": {},
     "output_type": "execute_result"
    },
    {
     "data": {
      "image/png": "[encoded data removed]",
      "text/plain": [
       "<Figure size 432x288 with 1 Axes>"
      ]
     },
     "metadata": {
      "needs_background": "light"
     },
     "output_type": "display_data"
    }
   ],
   "source": [
    "buurten_r = gpd.read_file(f'input/buurten_scen1_test.shp')"
   ]
  },
  {
   "cell_type": "code",
   "execution_count": null,
   "id": "f0124583",
   "metadata": {},
   "outputs": [],
   "source": []
  },
  {
   "cell_type": "code",
   "execution_count": 31,
   "id": "756e87ac",
   "metadata": {},
   "outputs": [
    {
     "data": {
      "text/plain": [
       "0          NaN\n",
       "1     2.137634\n",
       "2     2.086920\n",
       "3     1.565549\n",
       "4     2.057419\n",
       "        ...   \n",
       "85    0.126393\n",
       "86    0.236756\n",
       "87         NaN\n",
       "88         NaN\n",
       "89         NaN\n",
       "Name: 6u_mean, Length: 90, dtype: float64"
      ]
     },
     "execution_count": 31,
     "metadata": {},
     "output_type": "execute_result"
    }
   ],
   "source": [
    "buurten['6u_mean']"
   ]
  },
  {
   "cell_type": "code",
   "execution_count": 33,
   "id": "d7ae6efd",
   "metadata": {},
   "outputs": [
    {
     "data": {
      "text/plain": [
       "0     WK040001\n",
       "1     WK040001\n",
       "2     WK040001\n",
       "3     WK040001\n",
       "4     WK040001\n",
       "        ...   \n",
       "85    WK191106\n",
       "86    WK191106\n",
       "87    WK191107\n",
       "88    WK191107\n",
       "89    WK191107\n",
       "Name: WK_CODE, Length: 90, dtype: object"
      ]
     },
     "execution_count": 33,
     "metadata": {},
     "output_type": "execute_result"
    }
   ],
   "source": [
    "buurten.WK_CODE"
   ]
  },
  {
   "cell_type": "code",
   "execution_count": null,
   "id": "1a45a99d",
   "metadata": {},
   "outputs": [],
   "source": []
  }
 ],
 "metadata": {
  "kernelspec": {
   "display_name": "Python 3 (ipykernel)",
   "language": "python",
   "name": "python3"
  },
  "language_info": {
   "codemirror_mode": {
    "name": "ipython",
    "version": 3
   },
   "file_extension": ".py",
   "mimetype": "text/x-python",
   "name": "python",
   "nbconvert_exporter": "python",
   "pygments_lexer": "ipython3",
   "version": "3.8.12"
  },
  "toc": {
   "base_numbering": 1,
   "nav_menu": {},
   "number_sections": true,
   "sideBar": true,
   "skip_h1_title": false,
   "title_cell": "Table of Contents",
   "title_sidebar": "Contents",
   "toc_cell": false,
   "toc_position": {},
   "toc_section_display": true,
   "toc_window_display": false
  }
 },
 "nbformat": 4,
 "nbformat_minor": 5
}

{
 "cells": [
  {
   "cell_type": "code",
   "execution_count": 1,
   "id": "74e2874d",
   "metadata": {},
   "outputs": [],
   "source": [
    "import psycopg2\n",
    "from sqlalchemy import create_engine\n",
    "import geopandas as gpd\n",
    "import pandas as pd\n",
    "import matplotlib.pyplot as plt\n",
    "import matplotlib.animation as animation\n",
    "import numpy as np\n",
    "import time\n",
    "import random\n",
    "import plotly.express as px\n",
    "from datetime import timedelta"
   ]
  },
  {
   "cell_type": "code",
   "execution_count": 2,
   "id": "45f8733b",
   "metadata": {},
   "outputs": [],
   "source": [
    "general_path = 'E:/paper2_analysis/connect_flood_roads_to_trafficmodel'\n",
    "figures_path = f'{general_path}/figures'\n",
    "input_path = f'{general_path}/input'\n",
    "output_path = f'{general_path}/output'"
   ]
  },
  {
   "cell_type": "markdown",
   "id": "9ac3f577",
   "metadata": {},
   "source": [
    "----------"
   ]
  },
  {
   "cell_type": "markdown",
   "id": "b15bfc1f",
   "metadata": {},
   "source": [
    "#### result from flood"
   ]
  },
  {
   "cell_type": "code",
   "execution_count": 3,
   "id": "ba6cb0bd",
   "metadata": {},
   "outputs": [
    {
     "data": {
      "text/html": [
       "<div>\n",
       "<style scoped>\n",
       "    .dataframe tbody tr th:only-of-type {\n",
       "        vertical-align: middle;\n",
       "    }\n",
       "\n",
       "    .dataframe tbody tr th {\n",
       "        vertical-align: top;\n",
       "    }\n",
       "\n",
       "    .dataframe thead th {\n",
       "        text-align: right;\n",
       "    }\n",
       "</style>\n",
       "<table border=\"1\" class=\"dataframe\">\n",
       "  <thead>\n",
       "    <tr style=\"text-align: right;\">\n",
       "      <th></th>\n",
       "      <th>116555</th>\n",
       "      <th>89886</th>\n",
       "      <th>14563</th>\n",
       "      <th>71854</th>\n",
       "      <th>83429</th>\n",
       "      <th>80724</th>\n",
       "      <th>90708</th>\n",
       "      <th>81565</th>\n",
       "      <th>84918</th>\n",
       "      <th>67656</th>\n",
       "      <th>...</th>\n",
       "      <th>17558</th>\n",
       "      <th>73571</th>\n",
       "      <th>102733</th>\n",
       "      <th>74322</th>\n",
       "      <th>85635</th>\n",
       "      <th>17553</th>\n",
       "      <th>88273</th>\n",
       "      <th>17442</th>\n",
       "      <th>17202</th>\n",
       "      <th>96089</th>\n",
       "    </tr>\n",
       "  </thead>\n",
       "  <tbody>\n",
       "    <tr>\n",
       "      <th>2000-01-01 18:00:00</th>\n",
       "      <td>0.0</td>\n",
       "      <td>0.0</td>\n",
       "      <td>0.0</td>\n",
       "      <td>0.0</td>\n",
       "      <td>0.0</td>\n",
       "      <td>0.0</td>\n",
       "      <td>0.0</td>\n",
       "      <td>0.0</td>\n",
       "      <td>0.0</td>\n",
       "      <td>0.0</td>\n",
       "      <td>...</td>\n",
       "      <td>0.0</td>\n",
       "      <td>0.0</td>\n",
       "      <td>0.0</td>\n",
       "      <td>0.0</td>\n",
       "      <td>0.0</td>\n",
       "      <td>0.0</td>\n",
       "      <td>0.0</td>\n",
       "      <td>0.0</td>\n",
       "      <td>0.0</td>\n",
       "      <td>0.0</td>\n",
       "    </tr>\n",
       "    <tr>\n",
       "      <th>2000-01-01 18:05:10</th>\n",
       "      <td>0.0</td>\n",
       "      <td>0.0</td>\n",
       "      <td>0.0</td>\n",
       "      <td>0.0</td>\n",
       "      <td>0.0</td>\n",
       "      <td>0.0</td>\n",
       "      <td>0.0</td>\n",
       "      <td>0.0</td>\n",
       "      <td>0.0</td>\n",
       "      <td>0.0</td>\n",
       "      <td>...</td>\n",
       "      <td>0.0</td>\n",
       "      <td>0.0</td>\n",
       "      <td>0.0</td>\n",
       "      <td>0.0</td>\n",
       "      <td>0.0</td>\n",
       "      <td>0.0</td>\n",
       "      <td>0.0</td>\n",
       "      <td>0.0</td>\n",
       "      <td>0.0</td>\n",
       "      <td>0.0</td>\n",
       "    </tr>\n",
       "  </tbody>\n",
       "</table>\n",
       "<p>2 rows × 626 columns</p>\n",
       "</div>"
      ],
      "text/plain": [
       "                     116555  89886   14563   71854   83429   80724   90708   \\\n",
       "2000-01-01 18:00:00     0.0     0.0     0.0     0.0     0.0     0.0     0.0   \n",
       "2000-01-01 18:05:10     0.0     0.0     0.0     0.0     0.0     0.0     0.0   \n",
       "\n",
       "                     81565   84918   67656   ...  17558   73571   102733  \\\n",
       "2000-01-01 18:00:00     0.0     0.0     0.0  ...     0.0     0.0     0.0   \n",
       "2000-01-01 18:05:10     0.0     0.0     0.0  ...     0.0     0.0     0.0   \n",
       "\n",
       "                     74322   85635   17553   88273   17442   17202   96089   \n",
       "2000-01-01 18:00:00     0.0     0.0     0.0     0.0     0.0     0.0     0.0  \n",
       "2000-01-01 18:05:10     0.0     0.0     0.0     0.0     0.0     0.0     0.0  \n",
       "\n",
       "[2 rows x 626 columns]"
      ]
     },
     "execution_count": 3,
     "metadata": {},
     "output_type": "execute_result"
    }
   ],
   "source": [
    "## json with all flood depth on sample points\n",
    "name_flood_result = 'flooddepth_time_road_segments_df_dh_scen1_voorpiek_sz2000_uuid_66e0b6ee-e4af-11eb-a904-acde48001122'\n",
    "flooded_roads = pd.read_json(f'{input_path}/{name_flood_result}.json')\n",
    "flooded_roads.head(2)\n"
   ]
  },
  {
   "cell_type": "code",
   "execution_count": 4,
   "id": "ef08ff4e",
   "metadata": {},
   "outputs": [],
   "source": [
    "# df_osmid_flood.to_csv(f'{output_path}/df_osmid_flood.csv', header= True, sep =';', decimal=',' )"
   ]
  },
  {
   "cell_type": "code",
   "execution_count": 5,
   "id": "14879aa6",
   "metadata": {},
   "outputs": [],
   "source": [
    "#shapefile of all point where sample is taken from\n",
    "geoms_floodcalc_nodes_name = 'created_wegdelen_OSM_centroids_cell_id_floodselection_without_bridges_and_initwater'\n",
    "geoms_floodcalc_nodes = gpd.read_file(f'{input_path}/{geoms_floodcalc_nodes_name}.shp')\n",
    "\n",
    "#change osmid to integers (instead oof float)\n",
    "geoms_floodcalc_nodes = geoms_floodcalc_nodes.astype({\"osmid\": int})"
   ]
  },
  {
   "cell_type": "code",
   "execution_count": 6,
   "id": "9524421d",
   "metadata": {},
   "outputs": [
    {
     "data": {
      "text/plain": [
       "77171"
      ]
     },
     "execution_count": 6,
     "metadata": {},
     "output_type": "execute_result"
    }
   ],
   "source": [
    "len(geoms_floodcalc_nodes)"
   ]
  },
  {
   "cell_type": "code",
   "execution_count": null,
   "id": "628dd604",
   "metadata": {},
   "outputs": [],
   "source": []
  },
  {
   "cell_type": "markdown",
   "id": "75f1ac9e",
   "metadata": {},
   "source": [
    "#### calculate flood arrival time for every node"
   ]
  },
  {
   "cell_type": "code",
   "execution_count": 9,
   "id": "08023486",
   "metadata": {},
   "outputs": [
    {
     "data": {
      "text/html": [
       "<div>\n",
       "<style scoped>\n",
       "    .dataframe tbody tr th:only-of-type {\n",
       "        vertical-align: middle;\n",
       "    }\n",
       "\n",
       "    .dataframe tbody tr th {\n",
       "        vertical-align: top;\n",
       "    }\n",
       "\n",
       "    .dataframe thead th {\n",
       "        text-align: right;\n",
       "    }\n",
       "</style>\n",
       "<table border=\"1\" class=\"dataframe\">\n",
       "  <thead>\n",
       "    <tr style=\"text-align: right;\">\n",
       "      <th></th>\n",
       "      <th>segmentid</th>\n",
       "      <th>arrivaltime</th>\n",
       "      <th>firstdepth</th>\n",
       "      <th>geometry</th>\n",
       "    </tr>\n",
       "  </thead>\n",
       "  <tbody>\n",
       "    <tr>\n",
       "      <th>0</th>\n",
       "      <td>116555</td>\n",
       "      <td>NaN</td>\n",
       "      <td>NaN</td>\n",
       "      <td>NaN</td>\n",
       "    </tr>\n",
       "  </tbody>\n",
       "</table>\n",
       "</div>"
      ],
      "text/plain": [
       "   segmentid arrivaltime firstdepth geometry\n",
       "0     116555         NaN        NaN      NaN"
      ]
     },
     "execution_count": 9,
     "metadata": {},
     "output_type": "execute_result"
    }
   ],
   "source": [
    "## create db with arrival times for every calculation point\n",
    "df_segments_flood = pd.DataFrame(columns=['segmentid', 'arrivaltime', 'firstdepth', 'geometry'])\n",
    "\n",
    "#get all column names\n",
    "list_segment_in_comp = flooded_roads.columns.values.tolist()\n",
    "\n",
    "df_segments_flood[\"segmentid\"] = list_segment_in_comp\n",
    "df_segments_flood.head(1)"
   ]
  },
  {
   "cell_type": "code",
   "execution_count": 10,
   "id": "f51aabb2",
   "metadata": {},
   "outputs": [
    {
     "data": {
      "text/html": [
       "<div>\n",
       "<style scoped>\n",
       "    .dataframe tbody tr th:only-of-type {\n",
       "        vertical-align: middle;\n",
       "    }\n",
       "\n",
       "    .dataframe tbody tr th {\n",
       "        vertical-align: top;\n",
       "    }\n",
       "\n",
       "    .dataframe thead th {\n",
       "        text-align: right;\n",
       "    }\n",
       "</style>\n",
       "<table border=\"1\" class=\"dataframe\">\n",
       "  <thead>\n",
       "    <tr style=\"text-align: right;\">\n",
       "      <th></th>\n",
       "      <th>segmentid</th>\n",
       "      <th>arrivaltime</th>\n",
       "      <th>firstdepth</th>\n",
       "      <th>geometry</th>\n",
       "    </tr>\n",
       "  </thead>\n",
       "  <tbody>\n",
       "    <tr>\n",
       "      <th>0</th>\n",
       "      <td>116555</td>\n",
       "      <td>2000-01-01 20:45:03</td>\n",
       "      <td>0.079</td>\n",
       "      <td>NaN</td>\n",
       "    </tr>\n",
       "    <tr>\n",
       "      <th>1</th>\n",
       "      <td>89886</td>\n",
       "      <td>2000-01-01 18:30:03</td>\n",
       "      <td>0.9117</td>\n",
       "      <td>NaN</td>\n",
       "    </tr>\n",
       "    <tr>\n",
       "      <th>2</th>\n",
       "      <td>14563</td>\n",
       "      <td>2000-01-02 04:25:03</td>\n",
       "      <td>0.068319</td>\n",
       "      <td>NaN</td>\n",
       "    </tr>\n",
       "    <tr>\n",
       "      <th>3</th>\n",
       "      <td>71854</td>\n",
       "      <td>2000-01-01 19:40:03</td>\n",
       "      <td>0.167837</td>\n",
       "      <td>NaN</td>\n",
       "    </tr>\n",
       "    <tr>\n",
       "      <th>4</th>\n",
       "      <td>83429</td>\n",
       "      <td>2000-01-01 18:50:03</td>\n",
       "      <td>0.259214</td>\n",
       "      <td>NaN</td>\n",
       "    </tr>\n",
       "  </tbody>\n",
       "</table>\n",
       "</div>"
      ],
      "text/plain": [
       "   segmentid          arrivaltime firstdepth geometry\n",
       "0     116555  2000-01-01 20:45:03      0.079      NaN\n",
       "1      89886  2000-01-01 18:30:03     0.9117      NaN\n",
       "2      14563  2000-01-02 04:25:03   0.068319      NaN\n",
       "3      71854  2000-01-01 19:40:03   0.167837      NaN\n",
       "4      83429  2000-01-01 18:50:03   0.259214      NaN"
      ]
     },
     "execution_count": 10,
     "metadata": {},
     "output_type": "execute_result"
    }
   ],
   "source": [
    "## derive flood arrival and first depth--> append it to dataframe\n",
    "for index, value  in flooded_roads.items():\n",
    "    \n",
    "    for i in range(len(value)):\n",
    "                   if value[i] > 0.01:\n",
    "                    arrival_time = flooded_roads.index[i]\n",
    "                    first_depth = value[i]\n",
    "                    osmid = value.name\n",
    "                    geom = geoms_floodcalc_nodes\n",
    "                    df_segments_flood.loc[df_segments_flood.segmentid == osmid, 'arrivaltime'] = arrival_time\n",
    "                    df_segments_flood.loc[df_segments_flood.segmentid == osmid, 'firstdepth'] = first_depth\n",
    "            \n",
    "                    break\n",
    "\n",
    "df_segments_flood.to_csv(f'{output_path}/df_segments_flood.csv', header= True, sep =';', decimal=',' )               \n",
    "df_segments_flood.head()"
   ]
  },
  {
   "cell_type": "markdown",
   "id": "c4a7dd40",
   "metadata": {},
   "source": [
    "### join geoms of segments with new dataframe"
   ]
  },
  {
   "cell_type": "code",
   "execution_count": 17,
   "id": "80d01371",
   "metadata": {},
   "outputs": [
    {
     "data": {
      "text/html": [
       "<div>\n",
       "<style scoped>\n",
       "    .dataframe tbody tr th:only-of-type {\n",
       "        vertical-align: middle;\n",
       "    }\n",
       "\n",
       "    .dataframe tbody tr th {\n",
       "        vertical-align: top;\n",
       "    }\n",
       "\n",
       "    .dataframe thead th {\n",
       "        text-align: right;\n",
       "    }\n",
       "</style>\n",
       "<table border=\"1\" class=\"dataframe\">\n",
       "  <thead>\n",
       "    <tr style=\"text-align: right;\">\n",
       "      <th></th>\n",
       "      <th>segmentid</th>\n",
       "      <th>arrivaltime</th>\n",
       "      <th>firstdepth</th>\n",
       "      <th>maaiveld</th>\n",
       "      <th>functie</th>\n",
       "      <th>roadsegmen</th>\n",
       "      <th>cell_id</th>\n",
       "      <th>osmid</th>\n",
       "      <th>highway</th>\n",
       "      <th>geom</th>\n",
       "    </tr>\n",
       "  </thead>\n",
       "  <tbody>\n",
       "    <tr>\n",
       "      <th>0</th>\n",
       "      <td>116555</td>\n",
       "      <td>2000-01-01 20:45:03</td>\n",
       "      <td>0.079</td>\n",
       "      <td>1.393333</td>\n",
       "      <td>rijbaan regionale weg</td>\n",
       "      <td>116555</td>\n",
       "      <td>32434.0</td>\n",
       "      <td>6642407</td>\n",
       "      <td>primary</td>\n",
       "      <td>POINT (115138.996 547717.726)</td>\n",
       "    </tr>\n",
       "    <tr>\n",
       "      <th>1</th>\n",
       "      <td>89886</td>\n",
       "      <td>2000-01-01 18:30:03</td>\n",
       "      <td>0.9117</td>\n",
       "      <td>0.396667</td>\n",
       "      <td>rijbaan lokale weg</td>\n",
       "      <td>89886</td>\n",
       "      <td>11933.0</td>\n",
       "      <td>6640668</td>\n",
       "      <td>tertiary</td>\n",
       "      <td>POINT (112419.708 551921.701)</td>\n",
       "    </tr>\n",
       "    <tr>\n",
       "      <th>2</th>\n",
       "      <td>14563</td>\n",
       "      <td>2000-01-02 04:25:03</td>\n",
       "      <td>0.068319</td>\n",
       "      <td>0.940000</td>\n",
       "      <td>rijbaan regionale weg</td>\n",
       "      <td>14563</td>\n",
       "      <td>54417.0</td>\n",
       "      <td>6645840</td>\n",
       "      <td>secondary</td>\n",
       "      <td>POINT (109090.447 541626.305)</td>\n",
       "    </tr>\n",
       "  </tbody>\n",
       "</table>\n",
       "</div>"
      ],
      "text/plain": [
       "   segmentid          arrivaltime firstdepth  maaiveld                functie  \\\n",
       "0     116555  2000-01-01 20:45:03      0.079  1.393333  rijbaan regionale weg   \n",
       "1      89886  2000-01-01 18:30:03     0.9117  0.396667     rijbaan lokale weg   \n",
       "2      14563  2000-01-02 04:25:03   0.068319  0.940000  rijbaan regionale weg   \n",
       "\n",
       "   roadsegmen  cell_id    osmid    highway                           geom  \n",
       "0      116555  32434.0  6642407    primary  POINT (115138.996 547717.726)  \n",
       "1       89886  11933.0  6640668   tertiary  POINT (112419.708 551921.701)  \n",
       "2       14563  54417.0  6645840  secondary  POINT (109090.447 541626.305)  "
      ]
     },
     "execution_count": 17,
     "metadata": {},
     "output_type": "execute_result"
    }
   ],
   "source": [
    "df_segments_flood_geoms_temp  = pd.merge(df_segments_flood,geoms_floodcalc_nodes,left_on='segmentid', right_on='roadsegmen' )\n",
    "df_segments_flood_geoms_temp[\"geom\"] = df_segments_flood_geoms_temp.geometry_y\n",
    "df_segments_flood_geoms_temp = df_segments_flood_geoms_temp.drop(columns=['geometry_y', 'geometry_x'])\n",
    "\n",
    "df_segments_flood_geoms = gpd.GeoDataFrame(df_segments_flood_geoms_temp, geometry= 'geom')\n",
    "df_segments_flood_geoms.head(3)\n"
   ]
  },
  {
   "cell_type": "code",
   "execution_count": 19,
   "id": "37343179",
   "metadata": {},
   "outputs": [
    {
     "data": {
      "text/plain": [
       "0      2000-01-01 20:45:03\n",
       "1      2000-01-01 18:30:03\n",
       "2      2000-01-02 04:25:03\n",
       "3      2000-01-01 19:40:03\n",
       "4      2000-01-01 18:50:03\n",
       "              ...         \n",
       "621    2000-01-01 21:55:03\n",
       "622    2000-01-01 19:25:03\n",
       "623    2000-01-01 23:55:04\n",
       "624    2000-01-02 01:20:00\n",
       "625    2000-01-01 22:05:03\n",
       "Name: arrivaltime, Length: 626, dtype: object"
      ]
     },
     "execution_count": 19,
     "metadata": {},
     "output_type": "execute_result"
    }
   ],
   "source": [
    "df_segments_flood_geoms.arrivaltime"
   ]
  },
  {
   "cell_type": "code",
   "execution_count": null,
   "id": "86488774",
   "metadata": {},
   "outputs": [],
   "source": [
    "## arrival_time_naar_minutes_after_start"
   ]
  },
  {
   "cell_type": "code",
   "execution_count": 18,
   "id": "6e14f721",
   "metadata": {},
   "outputs": [
    {
     "data": {
      "text/plain": [
       "geopandas.geodataframe.GeoDataFrame"
      ]
     },
     "execution_count": 18,
     "metadata": {},
     "output_type": "execute_result"
    }
   ],
   "source": [
    "type(df_segments_flood_geoms)"
   ]
  },
  {
   "cell_type": "code",
   "execution_count": null,
   "id": "41677ea7",
   "metadata": {},
   "outputs": [],
   "source": [
    "df_segments_flood_geoms.to_file(f'{output_path}/df_segments_flood_geoms.geojson')"
   ]
  },
  {
   "cell_type": "code",
   "execution_count": null,
   "id": "89b0a880",
   "metadata": {},
   "outputs": [],
   "source": [
    "\n",
    "fig = plt.figure(figsize=(10, 5))\n",
    "ax = fig.add_subplot(1, 1, 1)\n",
    "test.plot(ax=ax,alpha = 0.1, color = '#ade8f4')"
   ]
  },
  {
   "cell_type": "code",
   "execution_count": null,
   "id": "a52112c1",
   "metadata": {},
   "outputs": [],
   "source": []
  }
 ],
 "metadata": {
  "kernelspec": {
   "display_name": "Python 3 (ipykernel)",
   "language": "python",
   "name": "python3"
  },
  "language_info": {
   "codemirror_mode": {
    "name": "ipython",
    "version": 3
   },
   "file_extension": ".py",
   "mimetype": "text/x-python",
   "name": "python",
   "nbconvert_exporter": "python",
   "pygments_lexer": "ipython3",
   "version": "3.10.2"
  }
 },
 "nbformat": 4,
 "nbformat_minor": 5
}

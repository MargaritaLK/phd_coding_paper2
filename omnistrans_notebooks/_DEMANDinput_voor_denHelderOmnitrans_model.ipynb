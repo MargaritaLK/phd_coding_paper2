{
 "cells": [
  {
   "cell_type": "code",
   "execution_count": 2,
   "id": "48f729b5",
   "metadata": {},
   "outputs": [],
   "source": [
    "# import psycopg2\n",
    "# from y import create_engine\n",
    "import geopandas as gpd\n",
    "import pandas as pd\n",
    "import matplotlib.pyplot as plt\n",
    "import time\n",
    "import fiona\n",
    "from osgeo import gdal"
   ]
  },
  {
   "cell_type": "markdown",
   "id": "ea8e8647",
   "metadata": {},
   "source": [
    "------------------"
   ]
  },
  {
   "cell_type": "code",
   "execution_count": 3,
   "id": "b2c0472d",
   "metadata": {},
   "outputs": [],
   "source": [
    "general_path = 'E:\\paper2_analysis/traffic_analysis/Omnitrans_denHelder'\n",
    "figures_path = f'{general_path}/figures'\n",
    "input_path = f'{general_path}/input'\n",
    "output_path = f'{general_path}/output'\n",
    "\n",
    "# E:\\paper2_analysis\\traffic_analysis\\Omnitrans_denHelder\\input"
   ]
  },
  {
   "cell_type": "markdown",
   "id": "6ef2f8b6",
   "metadata": {},
   "source": [
    "-----------------------------"
   ]
  },
  {
   "cell_type": "markdown",
   "id": "e354fa57",
   "metadata": {},
   "source": [
    "### zonal data"
   ]
  },
  {
   "cell_type": "code",
   "execution_count": 4,
   "id": "0adad186",
   "metadata": {},
   "outputs": [
    {
     "data": {
      "text/plain": [
       "<AxesSubplot:>"
      ]
     },
     "execution_count": 4,
     "metadata": {},
     "output_type": "execute_result"
    },
    {
     "data": {
      "image/png": "[encoded data removed]",
      "text/plain": [
       "<Figure size 432x288 with 1 Axes>"
      ]
     },
     "metadata": {
      "needs_background": "light"
     },
     "output_type": "display_data"
    }
   ],
   "source": [
    "#from cbs data\n",
    "buurten_all_centroids = gpd.read_file(f'{input_path}/buurten_centroids.shp')\n",
    "buurten_all_vlak = gpd.read_file(f'{input_path}/buurten_vlak.shp')\n",
    "buurten_all_vlak.plot(column=\"id_new\")"
   ]
  },
  {
   "cell_type": "code",
   "execution_count": 5,
   "id": "b1ef13dc",
   "metadata": {},
   "outputs": [
    {
     "name": "stdout",
     "output_type": "stream",
     "text": [
      "79\n"
     ]
    },
    {
     "data": {
      "text/html": [
       "<div>\n",
       "<style scoped>\n",
       "    .dataframe tbody tr th:only-of-type {\n",
       "        vertical-align: middle;\n",
       "    }\n",
       "\n",
       "    .dataframe tbody tr th {\n",
       "        vertical-align: top;\n",
       "    }\n",
       "\n",
       "    .dataframe thead th {\n",
       "        text-align: right;\n",
       "    }\n",
       "</style>\n",
       "<table border=\"1\" class=\"dataframe\">\n",
       "  <thead>\n",
       "    <tr style=\"text-align: right;\">\n",
       "      <th></th>\n",
       "      <th>id_new</th>\n",
       "      <th>BU_NAAM</th>\n",
       "      <th>AANTAL_HH</th>\n",
       "    </tr>\n",
       "  </thead>\n",
       "  <tbody>\n",
       "    <tr>\n",
       "      <th>0</th>\n",
       "      <td>1</td>\n",
       "      <td>Oostsloot</td>\n",
       "      <td>650.0</td>\n",
       "    </tr>\n",
       "    <tr>\n",
       "      <th>1</th>\n",
       "      <td>2</td>\n",
       "      <td>Centrum</td>\n",
       "      <td>870.0</td>\n",
       "    </tr>\n",
       "  </tbody>\n",
       "</table>\n",
       "</div>"
      ],
      "text/plain": [
       "   id_new    BU_NAAM  AANTAL_HH\n",
       "0       1  Oostsloot      650.0\n",
       "1       2    Centrum      870.0"
      ]
     },
     "execution_count": 5,
     "metadata": {},
     "output_type": "execute_result"
    }
   ],
   "source": [
    "buurten_OD_info =  buurten_all_vlak[['id_new', 'BU_NAAM', 'AANTAL_HH']]\n",
    "print(len(buurten_OD_info))\n",
    "buurten_OD_info.head(2)"
   ]
  },
  {
   "cell_type": "code",
   "execution_count": 6,
   "id": "bdf3ee8c",
   "metadata": {},
   "outputs": [
    {
     "data": {
      "text/plain": [
       "34680.0"
      ]
     },
     "execution_count": 6,
     "metadata": {},
     "output_type": "execute_result"
    }
   ],
   "source": [
    "totaal_hh = buurten_OD_info.AANTAL_HH.sum()\n",
    "totaal_hh"
   ]
  },
  {
   "cell_type": "markdown",
   "id": "3c81dcb3",
   "metadata": {},
   "source": [
    "--------"
   ]
  },
  {
   "cell_type": "markdown",
   "id": "488b3b9b",
   "metadata": {},
   "source": [
    "### SELECT ZONES FOR DEPARTURE"
   ]
  },
  {
   "cell_type": "code",
   "execution_count": 8,
   "id": "18217a42",
   "metadata": {},
   "outputs": [],
   "source": [
    "# selection_area = 'Den Helder'\n",
    "# selection_area = 'Julianadorp'\n",
    "# selection_area = \"flooddepth_>2.5m\"\n",
    "# selection_area = \"free_selection\"\n",
    "# selection_area = 'everyone'\n",
    "selection_area = 'zuidrand_denhelder'\n"
   ]
  },
  {
   "cell_type": "markdown",
   "id": "c94c7ab3",
   "metadata": {},
   "source": [
    "----------------"
   ]
  },
  {
   "cell_type": "markdown",
   "id": "7b030415",
   "metadata": {},
   "source": [
    "### zuidrand"
   ]
  },
  {
   "cell_type": "code",
   "execution_count": 10,
   "id": "2def12a1",
   "metadata": {},
   "outputs": [
    {
     "name": "stdout",
     "output_type": "stream",
     "text": [
      "zuidrand_denhelder selected\n",
      "16 zones selected\n"
     ]
    }
   ],
   "source": [
    "## load selection made in \n",
    "if selection_area == 'zuidrand_denhelder':\n",
    "    print('zuidrand_denhelder selected')\n",
    "    \n",
    "    buurtSelect= gpd.read_file(f'{input_path}/zuidrand_denhelder.shp')\n",
    "    buurtSelect = buurtSelect[['id_new', 'BU_NAAM', 'AANTAL_HH']]\n",
    "    \n",
    "    print(f'{len(buurtSelect)} zones selected')\n",
    "else:\n",
    "    print(\"zuidrand_denhelder not selected\")"
   ]
  },
  {
   "cell_type": "markdown",
   "id": "bd995fe8",
   "metadata": {},
   "source": [
    "### everyone"
   ]
  },
  {
   "cell_type": "code",
   "execution_count": 11,
   "id": "c2377059",
   "metadata": {},
   "outputs": [
    {
     "name": "stdout",
     "output_type": "stream",
     "text": [
      "not entire area\n"
     ]
    }
   ],
   "source": [
    "## load selection made in \n",
    "if selection_area == 'everyone':\n",
    "    print('entire area is selected')\n",
    "    \n",
    "    buurtSelect= gpd.read_file(f'{input_path}/buurten_centroids.shp')\n",
    "    buurtSelect = buurtSelect[['id_new', 'BU_NAAM', 'AANTAL_HH']]\n",
    "    \n",
    "    print(f'{len(buurtSelect)} zones are selected')\n",
    "else:\n",
    "    print(\"not entire area\")"
   ]
  },
  {
   "cell_type": "code",
   "execution_count": null,
   "id": "fd904bc2",
   "metadata": {},
   "outputs": [],
   "source": []
  },
  {
   "cell_type": "code",
   "execution_count": null,
   "id": "29a20bcf",
   "metadata": {},
   "outputs": [],
   "source": []
  },
  {
   "cell_type": "markdown",
   "id": "bf5e5e2c",
   "metadata": {},
   "source": [
    "### free selection"
   ]
  },
  {
   "cell_type": "code",
   "execution_count": 12,
   "id": "301fe1e0",
   "metadata": {},
   "outputs": [
    {
     "name": "stdout",
     "output_type": "stream",
     "text": [
      "free_selection not made\n"
     ]
    }
   ],
   "source": [
    "## load selection made in \n",
    "if selection_area == 'free_selection':\n",
    "    print('free_selection made')\n",
    "    \n",
    "    buurtSelect= gpd.read_file(f'{input_path}/free_selection2.shp')\n",
    "    buurtSelect = buurtSelect[['id_new', 'BU_NAAM', 'AANTAL_HH']]\n",
    "    \n",
    "    print(f'{len(buurtSelect)} zones selected')\n",
    "else:\n",
    "    print(\"free_selection not made\")"
   ]
  },
  {
   "cell_type": "markdown",
   "id": "74c650e5",
   "metadata": {},
   "source": [
    "#### DEN HELDER ONLY\n"
   ]
  },
  {
   "cell_type": "code",
   "execution_count": 13,
   "id": "a98431cb",
   "metadata": {},
   "outputs": [
    {
     "name": "stdout",
     "output_type": "stream",
     "text": [
      "den helder not selected\n"
     ]
    }
   ],
   "source": [
    "## load selection made in \n",
    "if selection_area == 'Den Helder':\n",
    "    print('Den Helder selected')\n",
    "    \n",
    "    buurtSelect= gpd.read_file(f'{input_path}/DenHelder_only.shp')\n",
    "    buurtSelect = buurtSelect[['id_new', 'BU_NAAM', 'AANTAL_HH']]\n",
    "    \n",
    "    print(f'{len(buurtSelect)} zones selected')\n",
    "else:\n",
    "    print(\"den helder not selected\")"
   ]
  },
  {
   "cell_type": "markdown",
   "id": "25bb3dca",
   "metadata": {},
   "source": [
    "### juliadorp only"
   ]
  },
  {
   "cell_type": "code",
   "execution_count": 14,
   "id": "68faa62f",
   "metadata": {},
   "outputs": [
    {
     "name": "stdout",
     "output_type": "stream",
     "text": [
      "julianadorp not selected\n"
     ]
    }
   ],
   "source": [
    "## load selection \n",
    "if selection_area == 'Julianadorp':\n",
    "    print('Julianadorp ')\n",
    "    buurtSelect = gpd.read_file(f'{input_path}/Julianadorp_only.shp')\n",
    "    buurtSelect = buurtSelect[['id_new', 'BU_NAAM', 'AANTAL_HH']]\n",
    "\n",
    "    print(f'{len(buurtSelect)} zones selected')\n",
    "else:\n",
    "    print(\"julianadorp not selected\")"
   ]
  },
  {
   "cell_type": "markdown",
   "id": "2ebe39c1",
   "metadata": {},
   "source": [
    "### selection based on flood depth"
   ]
  },
  {
   "cell_type": "code",
   "execution_count": 15,
   "id": "6621a3cc",
   "metadata": {},
   "outputs": [
    {
     "name": "stdout",
     "output_type": "stream",
     "text": [
      "flooddepth areas not selected\n"
     ]
    }
   ],
   "source": [
    "## load selection \n",
    "\n",
    "if selection_area == 'flooddepth_>2m':\n",
    "    print('flood depth selection_area')\n",
    "    buurtSelect = gpd.read_file(f'{input_path}/maxdepth_larger2.shp')\n",
    "    buurtSelect = buurtSelect[['id_new', 'BU_NAAM', 'AANTAL_HH']]\n",
    "\n",
    "    print(f'{len(buurtSelect)} zones selected')\n",
    "    print(f'{buurtSelect.AANTAL_HH.sum()} HH selected')\n",
    "else:\n",
    "    print(\"flooddepth areas not selected\")"
   ]
  },
  {
   "cell_type": "markdown",
   "id": "6dd4e57f",
   "metadata": {},
   "source": [
    "-----------------"
   ]
  },
  {
   "cell_type": "markdown",
   "id": "ce8744bb",
   "metadata": {},
   "source": [
    "## result selection"
   ]
  },
  {
   "cell_type": "code",
   "execution_count": 16,
   "id": "a34cd2e5",
   "metadata": {},
   "outputs": [
    {
     "name": "stdout",
     "output_type": "stream",
     "text": [
      "total nr of selected zones: 16\n",
      "[21 23 26 27 29 30 31 32 33 34 35 36 37 38 39 40]\n"
     ]
    }
   ],
   "source": [
    "list_id_in_selection = buurtSelect.id_new.values\n",
    "print(f'total nr of selected zones: {len(list_id_in_selection)}')\n",
    "print(list_id_in_selection)"
   ]
  },
  {
   "cell_type": "markdown",
   "id": "40acc905",
   "metadata": {},
   "source": [
    "------------------------------"
   ]
  },
  {
   "cell_type": "markdown",
   "id": "1e5c50d2",
   "metadata": {},
   "source": [
    "### create list zones for OD based on selection"
   ]
  },
  {
   "cell_type": "code",
   "execution_count": 17,
   "id": "53d49953",
   "metadata": {},
   "outputs": [
    {
     "name": "stdout",
     "output_type": "stream",
     "text": [
      "8235.0 aantal huishoudens\n"
     ]
    }
   ],
   "source": [
    "OD_list = buurten_OD_info.copy()\n",
    "\n",
    "#als id buurten niet in id select zit, dan waarde aanpassen naar nul\n",
    "for index, row in OD_list.iterrows():\n",
    "    if row.id_new not in list_id_in_selection:\n",
    "        OD_list.loc[index,\"AANTAL_HH\"] = 0\n",
    "        \n",
    "OD_list.to_csv(f'{input_path}/OD_selection.csv', header= True, sep =';', decimal=',' )\n",
    "print(f'{OD_list.AANTAL_HH.sum()} aantal huishoudens')"
   ]
  },
  {
   "cell_type": "code",
   "execution_count": null,
   "id": "a739f6f8",
   "metadata": {},
   "outputs": [],
   "source": []
  },
  {
   "cell_type": "code",
   "execution_count": 18,
   "id": "fa427c09",
   "metadata": {},
   "outputs": [
    {
     "name": "stdout",
     "output_type": "stream",
     "text": [
      "26445.0 aantal huishoudens - buiten selection\n"
     ]
    }
   ],
   "source": [
    "## CREATE LIST OF Origns NOT in selection\n",
    "OD_list_notselected = buurten_OD_info.copy()\n",
    "\n",
    "#als id buurten WEL id select zit, dan waarde aanpassen naar nul\n",
    "for index, row in OD_list_notselected.iterrows():\n",
    "    if row.id_new in list_id_in_selection:\n",
    "        OD_list_notselected.loc[index,\"AANTAL_HH\"] = 0\n",
    "\n",
    "\n",
    "OD_list_notselected.to_csv(f'{input_path}/OD_NOTinselection.csv', header= True, sep =';', decimal=',' )\n",
    "print(f'{OD_list_notselected.AANTAL_HH.sum()} aantal huishoudens - buiten selection')"
   ]
  },
  {
   "cell_type": "code",
   "execution_count": null,
   "id": "fe1a0c42",
   "metadata": {},
   "outputs": [],
   "source": []
  },
  {
   "cell_type": "code",
   "execution_count": 19,
   "id": "478ea619",
   "metadata": {},
   "outputs": [
    {
     "data": {
      "text/plain": [
       "True"
      ]
     },
     "execution_count": 19,
     "metadata": {},
     "output_type": "execute_result"
    }
   ],
   "source": [
    "# check \n",
    "total_selected = OD_list.AANTAL_HH.sum()\n",
    "total_outside_selection = OD_list_notselected.AANTAL_HH.sum()\n",
    "total_check = total_selected + total_outside_selection\n",
    "total_check == totaal_hh"
   ]
  },
  {
   "cell_type": "code",
   "execution_count": 20,
   "id": "207d5ad6",
   "metadata": {},
   "outputs": [
    {
     "name": "stdout",
     "output_type": "stream",
     "text": [
      "total householdes in area: 34680.0\n",
      "total hh selected: 8235.0\n",
      "total hh outside selection: 26445.0\n"
     ]
    }
   ],
   "source": [
    "print(f'total householdes in area: {totaal_hh}')\n",
    "print(f'total hh selected: {total_selected}')\n",
    "print(f'total hh outside selection: {total_outside_selection}')"
   ]
  },
  {
   "cell_type": "code",
   "execution_count": null,
   "id": "6b44307b",
   "metadata": {},
   "outputs": [],
   "source": []
  },
  {
   "cell_type": "code",
   "execution_count": null,
   "id": "f085b87e",
   "metadata": {},
   "outputs": [],
   "source": []
  },
  {
   "cell_type": "code",
   "execution_count": null,
   "id": "4fb248e2",
   "metadata": {},
   "outputs": [],
   "source": []
  }
 ],
 "metadata": {
  "kernelspec": {
   "display_name": "Python 3 (ipykernel)",
   "language": "python",
   "name": "python3"
  },
  "language_info": {
   "codemirror_mode": {
    "name": "ipython",
    "version": 3
   },
   "file_extension": ".py",
   "mimetype": "text/x-python",
   "name": "python",
   "nbconvert_exporter": "python",
   "pygments_lexer": "ipython3",
   "version": "3.10.2"
  }
 },
 "nbformat": 4,
 "nbformat_minor": 5
}

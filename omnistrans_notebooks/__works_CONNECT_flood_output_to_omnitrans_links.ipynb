{
 "cells": [
  {
   "cell_type": "code",
   "execution_count": 3,
   "id": "74e2874d",
   "metadata": {},
   "outputs": [],
   "source": [
    "import psycopg2\n",
    "from sqlalchemy import create_engine\n",
    "import geopandas as gpd\n",
    "import pandas as pd\n",
    "import matplotlib.pyplot as plt\n",
    "import matplotlib.animation as animation\n",
    "import numpy as np\n",
    "import time\n",
    "import random\n",
    "import plotly.express as px\n",
    "from datetime import timedelta\n",
    "\n"
   ]
  },
  {
   "cell_type": "code",
   "execution_count": 4,
   "id": "45f8733b",
   "metadata": {},
   "outputs": [],
   "source": [
    "general_path = 'E:/paper2_analysis/connect_flood_roads_to_trafficmodel'\n",
    "figures_path = f'{general_path}/figures'\n",
    "input_path = f'{general_path}/input'\n",
    "output_path = f'{general_path}/output'"
   ]
  },
  {
   "cell_type": "markdown",
   "id": "9ac3f577",
   "metadata": {},
   "source": [
    "----------"
   ]
  },
  {
   "cell_type": "markdown",
   "id": "576a2eb1",
   "metadata": {},
   "source": [
    "#### result from flood"
   ]
  },
  {
   "cell_type": "code",
   "execution_count": 6,
   "id": "ba6cb0bd",
   "metadata": {},
   "outputs": [
    {
     "data": {
      "text/html": [
       "<div>\n",
       "<style scoped>\n",
       "    .dataframe tbody tr th:only-of-type {\n",
       "        vertical-align: middle;\n",
       "    }\n",
       "\n",
       "    .dataframe tbody tr th {\n",
       "        vertical-align: top;\n",
       "    }\n",
       "\n",
       "    .dataframe thead th {\n",
       "        text-align: right;\n",
       "    }\n",
       "</style>\n",
       "<table border=\"1\" class=\"dataframe\">\n",
       "  <thead>\n",
       "    <tr style=\"text-align: right;\">\n",
       "      <th></th>\n",
       "      <th>102970</th>\n",
       "      <th>67676</th>\n",
       "      <th>83735</th>\n",
       "      <th>24693</th>\n",
       "      <th>117260</th>\n",
       "      <th>99347</th>\n",
       "      <th>123267</th>\n",
       "      <th>83784</th>\n",
       "      <th>65852</th>\n",
       "      <th>42237</th>\n",
       "      <th>...</th>\n",
       "      <th>123279</th>\n",
       "      <th>122626</th>\n",
       "      <th>121654</th>\n",
       "      <th>123293</th>\n",
       "      <th>90423</th>\n",
       "      <th>25265</th>\n",
       "      <th>95440</th>\n",
       "      <th>70772</th>\n",
       "      <th>71229</th>\n",
       "      <th>18516</th>\n",
       "    </tr>\n",
       "  </thead>\n",
       "  <tbody>\n",
       "    <tr>\n",
       "      <th>2000-01-01 18:00:00</th>\n",
       "      <td>0.0</td>\n",
       "      <td>0.0</td>\n",
       "      <td>0.0</td>\n",
       "      <td>0.0</td>\n",
       "      <td>0.0</td>\n",
       "      <td>0.0</td>\n",
       "      <td>0.0</td>\n",
       "      <td>0.0</td>\n",
       "      <td>0.0</td>\n",
       "      <td>0.0</td>\n",
       "      <td>...</td>\n",
       "      <td>0.0</td>\n",
       "      <td>0.0</td>\n",
       "      <td>0.0</td>\n",
       "      <td>0.0</td>\n",
       "      <td>0.0</td>\n",
       "      <td>0.0</td>\n",
       "      <td>0.0</td>\n",
       "      <td>0.0</td>\n",
       "      <td>0.0</td>\n",
       "      <td>0.0</td>\n",
       "    </tr>\n",
       "    <tr>\n",
       "      <th>2000-01-01 18:05:10</th>\n",
       "      <td>0.0</td>\n",
       "      <td>0.0</td>\n",
       "      <td>0.0</td>\n",
       "      <td>0.0</td>\n",
       "      <td>0.0</td>\n",
       "      <td>0.0</td>\n",
       "      <td>0.0</td>\n",
       "      <td>0.0</td>\n",
       "      <td>0.0</td>\n",
       "      <td>0.0</td>\n",
       "      <td>...</td>\n",
       "      <td>0.0</td>\n",
       "      <td>0.0</td>\n",
       "      <td>0.0</td>\n",
       "      <td>0.0</td>\n",
       "      <td>0.0</td>\n",
       "      <td>0.0</td>\n",
       "      <td>0.0</td>\n",
       "      <td>0.0</td>\n",
       "      <td>0.0</td>\n",
       "      <td>0.0</td>\n",
       "    </tr>\n",
       "  </tbody>\n",
       "</table>\n",
       "<p>2 rows × 7083 columns</p>\n",
       "</div>"
      ],
      "text/plain": [
       "                     102970  67676   83735   24693   117260  99347   123267  \\\n",
       "2000-01-01 18:00:00     0.0     0.0     0.0     0.0     0.0     0.0     0.0   \n",
       "2000-01-01 18:05:10     0.0     0.0     0.0     0.0     0.0     0.0     0.0   \n",
       "\n",
       "                     83784   65852   42237   ...  123279  122626  121654  \\\n",
       "2000-01-01 18:00:00     0.0     0.0     0.0  ...     0.0     0.0     0.0   \n",
       "2000-01-01 18:05:10     0.0     0.0     0.0  ...     0.0     0.0     0.0   \n",
       "\n",
       "                     123293  90423   25265   95440   70772   71229   18516   \n",
       "2000-01-01 18:00:00     0.0     0.0     0.0     0.0     0.0     0.0     0.0  \n",
       "2000-01-01 18:05:10     0.0     0.0     0.0     0.0     0.0     0.0     0.0  \n",
       "\n",
       "[2 rows x 7083 columns]"
      ]
     },
     "execution_count": 6,
     "metadata": {},
     "output_type": "execute_result"
    }
   ],
   "source": [
    "## json with all flood depth on sample points\n",
    "\n",
    "## sample with only classified roads (osm classifacation)\n",
    "# uuid = 'ba14e504-b4ef-11ec-b830-acde48001122' \n",
    "\n",
    "\n",
    "## sample with all roads\n",
    "subfolder = 'sample_alle_wegen' \n",
    "uuid = '28d386f4-b66b-11ec-acdd-acde48001122'\n",
    "\n",
    "sample_size = 10000\n",
    "\n",
    "\n",
    "\n",
    "# name_flood_result = 'flooddepth_time_road_segments_df_dh_scen1_voorpiek_sz2000_uuid_66e0b6ee-e4af-11eb-a904-acde48001122'\n",
    "name_flood_result = f'flooddepth_time_road_segments_df_dh_scen1_voorpiek_sz{sample_size}_uuid_{uuid}'\n",
    "\n",
    "\n",
    "\n",
    "flooded_roads = pd.read_json(f'{input_path}/{subfolder}/{name_flood_result}.json')\n",
    "flooded_roads.head(2)\n"
   ]
  },
  {
   "cell_type": "code",
   "execution_count": 4,
   "id": "51d66cfc",
   "metadata": {},
   "outputs": [],
   "source": [
    "# df_osmid_flood.to_csv(f'{output_path}/df_osmid_flood.csv', header= True, sep =';', decimal=',' )"
   ]
  },
  {
   "cell_type": "code",
   "execution_count": 12,
   "id": "f2686b83",
   "metadata": {},
   "outputs": [],
   "source": [
    "#shapefile of all point where sample is taken from\n",
    "# geoms_floodcalc_nodes_name = 'created_wegdelen_OSM_centroids_cell_id_floodselection_without_bridges_and_initwater'\n",
    "\n",
    "geoms_floodcalc_nodes_name = f'segmentcentroid_df_samplesize_{sample_size}_uuid_{uuid}'\n",
    "\n",
    "geoms_floodcalc_nodes = gpd.read_file(f'{input_path}/{subfolder}/{geoms_floodcalc_nodes_name}.geojson')\n",
    "\n",
    "#change osmid to integers (instead oof float)\n",
    "geoms_floodcalc_nodes = geoms_floodcalc_nodes.astype({\"osmid\": int})"
   ]
  },
  {
   "cell_type": "code",
   "execution_count": 13,
   "id": "670b35e6",
   "metadata": {},
   "outputs": [
    {
     "data": {
      "text/plain": [
       "10000"
      ]
     },
     "execution_count": 13,
     "metadata": {},
     "output_type": "execute_result"
    }
   ],
   "source": [
    "len(geoms_floodcalc_nodes)"
   ]
  },
  {
   "cell_type": "markdown",
   "id": "087fa5a2",
   "metadata": {},
   "source": [
    "-------------"
   ]
  },
  {
   "cell_type": "markdown",
   "id": "5f953c1e",
   "metadata": {},
   "source": [
    "#### calculate flood arrival time for every node"
   ]
  },
  {
   "cell_type": "code",
   "execution_count": 14,
   "id": "7dab7dfc",
   "metadata": {},
   "outputs": [
    {
     "data": {
      "text/html": [
       "<div>\n",
       "<style scoped>\n",
       "    .dataframe tbody tr th:only-of-type {\n",
       "        vertical-align: middle;\n",
       "    }\n",
       "\n",
       "    .dataframe tbody tr th {\n",
       "        vertical-align: top;\n",
       "    }\n",
       "\n",
       "    .dataframe thead th {\n",
       "        text-align: right;\n",
       "    }\n",
       "</style>\n",
       "<table border=\"1\" class=\"dataframe\">\n",
       "  <thead>\n",
       "    <tr style=\"text-align: right;\">\n",
       "      <th></th>\n",
       "      <th>segmentid</th>\n",
       "      <th>arrivaltime</th>\n",
       "      <th>minutes</th>\n",
       "      <th>firstdepth</th>\n",
       "      <th>geometry</th>\n",
       "    </tr>\n",
       "  </thead>\n",
       "  <tbody>\n",
       "    <tr>\n",
       "      <th>0</th>\n",
       "      <td>102970</td>\n",
       "      <td>NaN</td>\n",
       "      <td>NaN</td>\n",
       "      <td>NaN</td>\n",
       "      <td>NaN</td>\n",
       "    </tr>\n",
       "  </tbody>\n",
       "</table>\n",
       "</div>"
      ],
      "text/plain": [
       "   segmentid arrivaltime minutes firstdepth geometry\n",
       "0     102970         NaN     NaN        NaN      NaN"
      ]
     },
     "execution_count": 14,
     "metadata": {},
     "output_type": "execute_result"
    }
   ],
   "source": [
    "## create db with arrival times for every calculation point\n",
    "df_segments_flood = pd.DataFrame(columns=['segmentid', 'arrivaltime', 'minutes', 'firstdepth', 'geometry'])\n",
    "\n",
    "#get all column names\n",
    "list_segment_in_comp = flooded_roads.columns.values.tolist()\n",
    "\n",
    "df_segments_flood[\"segmentid\"] = list_segment_in_comp\n",
    "df_segments_flood.head(1)"
   ]
  },
  {
   "cell_type": "code",
   "execution_count": 15,
   "id": "c87674f4",
   "metadata": {},
   "outputs": [
    {
     "data": {
      "text/html": [
       "<div>\n",
       "<style scoped>\n",
       "    .dataframe tbody tr th:only-of-type {\n",
       "        vertical-align: middle;\n",
       "    }\n",
       "\n",
       "    .dataframe tbody tr th {\n",
       "        vertical-align: top;\n",
       "    }\n",
       "\n",
       "    .dataframe thead th {\n",
       "        text-align: right;\n",
       "    }\n",
       "</style>\n",
       "<table border=\"1\" class=\"dataframe\">\n",
       "  <thead>\n",
       "    <tr style=\"text-align: right;\">\n",
       "      <th></th>\n",
       "      <th>segmentid</th>\n",
       "      <th>arrivaltime</th>\n",
       "      <th>minutes</th>\n",
       "      <th>firstdepth</th>\n",
       "      <th>geometry</th>\n",
       "    </tr>\n",
       "  </thead>\n",
       "  <tbody>\n",
       "    <tr>\n",
       "      <th>0</th>\n",
       "      <td>102970</td>\n",
       "      <td>2000-01-01 18:45:03</td>\n",
       "      <td>45</td>\n",
       "      <td>0.106573</td>\n",
       "      <td>NaN</td>\n",
       "    </tr>\n",
       "    <tr>\n",
       "      <th>1</th>\n",
       "      <td>67676</td>\n",
       "      <td>2000-01-02 00:20:04</td>\n",
       "      <td>380</td>\n",
       "      <td>0.012809</td>\n",
       "      <td>NaN</td>\n",
       "    </tr>\n",
       "    <tr>\n",
       "      <th>2</th>\n",
       "      <td>83735</td>\n",
       "      <td>2000-01-01 18:50:03</td>\n",
       "      <td>50</td>\n",
       "      <td>0.384264</td>\n",
       "      <td>NaN</td>\n",
       "    </tr>\n",
       "    <tr>\n",
       "      <th>3</th>\n",
       "      <td>24693</td>\n",
       "      <td>2000-01-02 04:50:03</td>\n",
       "      <td>650</td>\n",
       "      <td>0.07702</td>\n",
       "      <td>NaN</td>\n",
       "    </tr>\n",
       "    <tr>\n",
       "      <th>4</th>\n",
       "      <td>117260</td>\n",
       "      <td>2000-01-01 20:25:03</td>\n",
       "      <td>145</td>\n",
       "      <td>0.171414</td>\n",
       "      <td>NaN</td>\n",
       "    </tr>\n",
       "  </tbody>\n",
       "</table>\n",
       "</div>"
      ],
      "text/plain": [
       "   segmentid          arrivaltime minutes firstdepth geometry\n",
       "0     102970  2000-01-01 18:45:03      45   0.106573      NaN\n",
       "1      67676  2000-01-02 00:20:04     380   0.012809      NaN\n",
       "2      83735  2000-01-01 18:50:03      50   0.384264      NaN\n",
       "3      24693  2000-01-02 04:50:03     650    0.07702      NaN\n",
       "4     117260  2000-01-01 20:25:03     145   0.171414      NaN"
      ]
     },
     "execution_count": 15,
     "metadata": {},
     "output_type": "execute_result"
    }
   ],
   "source": [
    "## derive flood arrival and first depth--> append it to dataframe\n",
    "for index, value  in flooded_roads.items():\n",
    "    \n",
    "    for i in range(len(value)):\n",
    "                   if value[i] > 0.01:\n",
    "                    arrival_time = str(flooded_roads.index[i])\n",
    "                    arrival_minutes = int(i * 5) #let op, deze 5 is van 5 minute timestep-> moet anders. niet hard coded\n",
    "\n",
    "                    first_depth = value[i]\n",
    "                    osmid = value.name\n",
    "                    geom = geoms_floodcalc_nodes\n",
    "                    \n",
    "                    df_segments_flood.loc[df_segments_flood.segmentid == osmid, 'minutes'] = int(arrival_minutes)\n",
    "                    df_segments_flood.loc[df_segments_flood.segmentid == osmid, 'arrivaltime'] = arrival_time\n",
    "                    df_segments_flood.loc[df_segments_flood.segmentid == osmid, 'firstdepth'] = first_depth\n",
    "            \n",
    "                    break\n",
    "\n",
    "df_segments_flood.to_csv(f'{output_path}/df_segments_flood_{uuid}.csv', header= True, sep =';', decimal=',' )               \n",
    "df_segments_flood.to_json(f'{output_path}/df_segments_flood_{uuid}.json')               \n",
    "df_segments_flood.head()"
   ]
  },
  {
   "cell_type": "markdown",
   "id": "84eb0b56",
   "metadata": {},
   "source": [
    "### join geoms of segments with new dataframe"
   ]
  },
  {
   "cell_type": "code",
   "execution_count": 16,
   "id": "ac6dfd13",
   "metadata": {},
   "outputs": [
    {
     "data": {
      "text/html": [
       "<div>\n",
       "<style scoped>\n",
       "    .dataframe tbody tr th:only-of-type {\n",
       "        vertical-align: middle;\n",
       "    }\n",
       "\n",
       "    .dataframe tbody tr th {\n",
       "        vertical-align: top;\n",
       "    }\n",
       "\n",
       "    .dataframe thead th {\n",
       "        text-align: right;\n",
       "    }\n",
       "</style>\n",
       "<table border=\"1\" class=\"dataframe\">\n",
       "  <thead>\n",
       "    <tr style=\"text-align: right;\">\n",
       "      <th></th>\n",
       "      <th>segmentid</th>\n",
       "      <th>arrivaltime</th>\n",
       "      <th>minutes</th>\n",
       "      <th>firstdepth</th>\n",
       "      <th>maaiveld</th>\n",
       "      <th>functie</th>\n",
       "      <th>roadsegmen</th>\n",
       "      <th>cell_id</th>\n",
       "      <th>osmid</th>\n",
       "      <th>highway</th>\n",
       "      <th>geom</th>\n",
       "    </tr>\n",
       "  </thead>\n",
       "  <tbody>\n",
       "    <tr>\n",
       "      <th>0</th>\n",
       "      <td>102970</td>\n",
       "      <td>2000-01-01 18:45:03</td>\n",
       "      <td>45</td>\n",
       "      <td>0.106573</td>\n",
       "      <td>0.957</td>\n",
       "      <td>rijbaan lokale weg</td>\n",
       "      <td>102970</td>\n",
       "      <td>10855.0</td>\n",
       "      <td>6641323</td>\n",
       "      <td>secondary</td>\n",
       "      <td>POINT (111357.646 550899.011)</td>\n",
       "    </tr>\n",
       "    <tr>\n",
       "      <th>1</th>\n",
       "      <td>67676</td>\n",
       "      <td>2000-01-02 00:20:04</td>\n",
       "      <td>380</td>\n",
       "      <td>0.012809</td>\n",
       "      <td>1.435</td>\n",
       "      <td>rijbaan lokale weg</td>\n",
       "      <td>67676</td>\n",
       "      <td>65774.0</td>\n",
       "      <td>6641639</td>\n",
       "      <td>unclassified</td>\n",
       "      <td>POINT (113159.539 542211.145)</td>\n",
       "    </tr>\n",
       "    <tr>\n",
       "      <th>2</th>\n",
       "      <td>83735</td>\n",
       "      <td>2000-01-01 18:50:03</td>\n",
       "      <td>50</td>\n",
       "      <td>0.384264</td>\n",
       "      <td>1.342</td>\n",
       "      <td>rijbaan regionale weg</td>\n",
       "      <td>83735</td>\n",
       "      <td>29212.0</td>\n",
       "      <td>6640021</td>\n",
       "      <td>primary</td>\n",
       "      <td>POINT (113384.844 552845.117)</td>\n",
       "    </tr>\n",
       "  </tbody>\n",
       "</table>\n",
       "</div>"
      ],
      "text/plain": [
       "   segmentid          arrivaltime minutes firstdepth  maaiveld  \\\n",
       "0     102970  2000-01-01 18:45:03      45   0.106573     0.957   \n",
       "1      67676  2000-01-02 00:20:04     380   0.012809     1.435   \n",
       "2      83735  2000-01-01 18:50:03      50   0.384264     1.342   \n",
       "\n",
       "                 functie  roadsegmen  cell_id    osmid       highway  \\\n",
       "0     rijbaan lokale weg      102970  10855.0  6641323     secondary   \n",
       "1     rijbaan lokale weg       67676  65774.0  6641639  unclassified   \n",
       "2  rijbaan regionale weg       83735  29212.0  6640021       primary   \n",
       "\n",
       "                            geom  \n",
       "0  POINT (111357.646 550899.011)  \n",
       "1  POINT (113159.539 542211.145)  \n",
       "2  POINT (113384.844 552845.117)  "
      ]
     },
     "execution_count": 16,
     "metadata": {},
     "output_type": "execute_result"
    }
   ],
   "source": [
    "df_segments_flood_geoms_temp  = pd.merge(df_segments_flood,geoms_floodcalc_nodes,left_on='segmentid', right_on='roadsegmen' )\n",
    "df_segments_flood_geoms_temp[\"geom\"] = df_segments_flood_geoms_temp.geometry_y\n",
    "df_segments_flood_geoms_temp = df_segments_flood_geoms_temp.drop(columns=['geometry_y', 'geometry_x'])\n",
    "\n",
    "df_segments_flood_geoms = gpd.GeoDataFrame(df_segments_flood_geoms_temp, geometry= 'geom')\n",
    "df_segments_flood_geoms.head(3)\n"
   ]
  },
  {
   "cell_type": "code",
   "execution_count": 17,
   "id": "49e76fda",
   "metadata": {},
   "outputs": [
    {
     "name": "stderr",
     "output_type": "stream",
     "text": [
      "C:\\Users\\Louise\\anaconda3\\envs\\geo\\lib\\site-packages\\geopandas\\io\\file.py:362: FutureWarning: pandas.Int64Index is deprecated and will be removed from pandas in a future version. Use pandas.Index with the appropriate dtype instead.\n",
      "  pd.Int64Index,\n"
     ]
    }
   ],
   "source": [
    "df_segments_flood_geoms.to_file(f'{output_path}/df_segments_flood_geoms1_{uuid}.geojson')"
   ]
  },
  {
   "cell_type": "code",
   "execution_count": 10,
   "id": "8d449383",
   "metadata": {},
   "outputs": [],
   "source": [
    "## TO DO:\n",
    "# minutes after start gaat nu bij export naar string. why?\n"
   ]
  },
  {
   "cell_type": "code",
   "execution_count": 18,
   "id": "89b0a880",
   "metadata": {},
   "outputs": [
    {
     "name": "stderr",
     "output_type": "stream",
     "text": [
      "C:\\Users\\Louise\\anaconda3\\envs\\geo\\lib\\site-packages\\pandas\\core\\algorithms.py:798: FutureWarning: In a future version, the Index constructor will not infer numeric dtypes when passed object-dtype sequences (matching Series behavior)\n",
      "  uniques = Index(uniques)\n"
     ]
    },
    {
     "data": {
      "text/plain": [
       "<AxesSubplot:>"
      ]
     },
     "execution_count": 18,
     "metadata": {},
     "output_type": "execute_result"
    },
    {
     "data": {
      "image/png": "[encoded data removed]",
      "text/plain": [
       "<Figure size 720x360 with 1 Axes>"
      ]
     },
     "metadata": {
      "needs_background": "light"
     },
     "output_type": "display_data"
    }
   ],
   "source": [
    "fig = plt.figure(figsize=(10, 5))\n",
    "ax = fig.add_subplot(1, 1, 1)\n",
    "df_segments_flood_geoms.plot(ax=ax,alpha = 0.1, column = 'minutes')"
   ]
  },
  {
   "cell_type": "markdown",
   "id": "e410092f",
   "metadata": {},
   "source": [
    "# let op!"
   ]
  },
  {
   "cell_type": "markdown",
   "id": "0838dfce",
   "metadata": {},
   "source": [
    "#### let op, bij de N90 zitten een paar foutjes, de segments te dicht op de watergang. \\\n",
    "#### en pakken daarom initieel water als minuten. Deze nu handatig in gis verwijderd\n"
   ]
  },
  {
   "cell_type": "code",
   "execution_count": null,
   "id": "70cbc296",
   "metadata": {},
   "outputs": [],
   "source": []
  }
 ],
 "metadata": {
  "kernelspec": {
   "display_name": "Python 3 (ipykernel)",
   "language": "python",
   "name": "python3"
  },
  "language_info": {
   "codemirror_mode": {
    "name": "ipython",
    "version": 3
   },
   "file_extension": ".py",
   "mimetype": "text/x-python",
   "name": "python",
   "nbconvert_exporter": "python",
   "pygments_lexer": "ipython3",
   "version": "3.10.2"
  }
 },
 "nbformat": 4,
 "nbformat_minor": 5
}

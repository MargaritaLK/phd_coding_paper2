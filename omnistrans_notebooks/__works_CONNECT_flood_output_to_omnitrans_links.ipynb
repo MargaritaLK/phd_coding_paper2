{
 "cells": [
  {
   "cell_type": "code",
   "execution_count": 1,
   "id": "74e2874d",
   "metadata": {},
   "outputs": [],
   "source": [
    "import psycopg2\n",
    "from sqlalchemy import create_engine\n",
    "import geopandas as gpd\n",
    "import pandas as pd\n",
    "import matplotlib.pyplot as plt\n",
    "import matplotlib.animation as animation\n",
    "import numpy as np\n",
    "import time\n",
    "import random\n",
    "import plotly.express as px\n",
    "from datetime import timedelta\n",
    "\n"
   ]
  },
  {
   "cell_type": "code",
   "execution_count": 2,
   "id": "45f8733b",
   "metadata": {},
   "outputs": [],
   "source": [
    "general_path = 'E:/paper2_analysis/connect_flood_roads_to_trafficmodel'\n",
    "figures_path = f'{general_path}/figures'\n",
    "input_path = f'{general_path}/input'\n",
    "output_path = f'{general_path}/output'"
   ]
  },
  {
   "cell_type": "markdown",
   "id": "9ac3f577",
   "metadata": {},
   "source": [
    "----------"
   ]
  },
  {
   "cell_type": "markdown",
   "id": "576a2eb1",
   "metadata": {},
   "source": [
    "#### result from flood"
   ]
  },
  {
   "cell_type": "code",
   "execution_count": 3,
   "id": "ba6cb0bd",
   "metadata": {},
   "outputs": [
    {
     "data": {
      "text/html": [
       "<div>\n",
       "<style scoped>\n",
       "    .dataframe tbody tr th:only-of-type {\n",
       "        vertical-align: middle;\n",
       "    }\n",
       "\n",
       "    .dataframe tbody tr th {\n",
       "        vertical-align: top;\n",
       "    }\n",
       "\n",
       "    .dataframe thead th {\n",
       "        text-align: right;\n",
       "    }\n",
       "</style>\n",
       "<table border=\"1\" class=\"dataframe\">\n",
       "  <thead>\n",
       "    <tr style=\"text-align: right;\">\n",
       "      <th></th>\n",
       "      <th>82538</th>\n",
       "      <th>109000</th>\n",
       "      <th>85358</th>\n",
       "      <th>117904</th>\n",
       "      <th>66511</th>\n",
       "      <th>72422</th>\n",
       "      <th>73897</th>\n",
       "      <th>86475</th>\n",
       "      <th>13530</th>\n",
       "      <th>75579</th>\n",
       "      <th>...</th>\n",
       "      <th>90750</th>\n",
       "      <th>91550</th>\n",
       "      <th>73048</th>\n",
       "      <th>87472</th>\n",
       "      <th>65299</th>\n",
       "      <th>66005</th>\n",
       "      <th>17372</th>\n",
       "      <th>122880</th>\n",
       "      <th>96395</th>\n",
       "      <th>98510</th>\n",
       "    </tr>\n",
       "  </thead>\n",
       "  <tbody>\n",
       "    <tr>\n",
       "      <th>2000-01-01 18:00:00</th>\n",
       "      <td>0.0</td>\n",
       "      <td>0.0</td>\n",
       "      <td>0.0</td>\n",
       "      <td>0.0</td>\n",
       "      <td>0.0</td>\n",
       "      <td>0.0</td>\n",
       "      <td>0.0</td>\n",
       "      <td>0.0</td>\n",
       "      <td>0.0</td>\n",
       "      <td>0.0</td>\n",
       "      <td>...</td>\n",
       "      <td>0.0</td>\n",
       "      <td>0.0</td>\n",
       "      <td>0.0</td>\n",
       "      <td>0.0</td>\n",
       "      <td>0.0</td>\n",
       "      <td>0.0</td>\n",
       "      <td>0.0</td>\n",
       "      <td>0.0</td>\n",
       "      <td>0.0</td>\n",
       "      <td>0.0</td>\n",
       "    </tr>\n",
       "    <tr>\n",
       "      <th>2000-01-01 18:05:10</th>\n",
       "      <td>0.0</td>\n",
       "      <td>0.0</td>\n",
       "      <td>0.0</td>\n",
       "      <td>0.0</td>\n",
       "      <td>0.0</td>\n",
       "      <td>0.0</td>\n",
       "      <td>0.0</td>\n",
       "      <td>0.0</td>\n",
       "      <td>0.0</td>\n",
       "      <td>0.0</td>\n",
       "      <td>...</td>\n",
       "      <td>0.0</td>\n",
       "      <td>0.0</td>\n",
       "      <td>0.0</td>\n",
       "      <td>0.0</td>\n",
       "      <td>0.0</td>\n",
       "      <td>0.0</td>\n",
       "      <td>0.0</td>\n",
       "      <td>0.0</td>\n",
       "      <td>0.0</td>\n",
       "      <td>0.0</td>\n",
       "    </tr>\n",
       "  </tbody>\n",
       "</table>\n",
       "<p>2 rows × 3101 columns</p>\n",
       "</div>"
      ],
      "text/plain": [
       "                     82538   109000  85358   117904  66511   72422   73897   \\\n",
       "2000-01-01 18:00:00     0.0     0.0     0.0     0.0     0.0     0.0     0.0   \n",
       "2000-01-01 18:05:10     0.0     0.0     0.0     0.0     0.0     0.0     0.0   \n",
       "\n",
       "                     86475   13530   75579   ...  90750   91550   73048   \\\n",
       "2000-01-01 18:00:00     0.0     0.0     0.0  ...     0.0     0.0     0.0   \n",
       "2000-01-01 18:05:10     0.0     0.0     0.0  ...     0.0     0.0     0.0   \n",
       "\n",
       "                     87472   65299   66005   17372   122880  96395   98510   \n",
       "2000-01-01 18:00:00     0.0     0.0     0.0     0.0     0.0     0.0     0.0  \n",
       "2000-01-01 18:05:10     0.0     0.0     0.0     0.0     0.0     0.0     0.0  \n",
       "\n",
       "[2 rows x 3101 columns]"
      ]
     },
     "execution_count": 3,
     "metadata": {},
     "output_type": "execute_result"
    }
   ],
   "source": [
    "## json with all flood depth on sample points\n",
    "\n",
    "uuid = 'ba14e504-b4ef-11ec-b830-acde48001122' \n",
    "\n",
    "\n",
    "# name_flood_result = 'flooddepth_time_road_segments_df_dh_scen1_voorpiek_sz2000_uuid_66e0b6ee-e4af-11eb-a904-acde48001122'\n",
    "name_flood_result = f'flooddepth_time_road_segments_df_dh_scen1_voorpiek_sz10000_uuid_{uuid}'\n",
    "\n",
    "\n",
    "\n",
    "flooded_roads = pd.read_json(f'{input_path}/{name_flood_result}.json')\n",
    "flooded_roads.head(2)\n"
   ]
  },
  {
   "cell_type": "code",
   "execution_count": 4,
   "id": "51d66cfc",
   "metadata": {},
   "outputs": [],
   "source": [
    "# df_osmid_flood.to_csv(f'{output_path}/df_osmid_flood.csv', header= True, sep =';', decimal=',' )"
   ]
  },
  {
   "cell_type": "code",
   "execution_count": 4,
   "id": "f2686b83",
   "metadata": {},
   "outputs": [],
   "source": [
    "#shapefile of all point where sample is taken from\n",
    "geoms_floodcalc_nodes_name = 'created_wegdelen_OSM_centroids_cell_id_floodselection_without_bridges_and_initwater'\n",
    "geoms_floodcalc_nodes = gpd.read_file(f'{input_path}/{geoms_floodcalc_nodes_name}.shp')\n",
    "\n",
    "#change osmid to integers (instead oof float)\n",
    "geoms_floodcalc_nodes = geoms_floodcalc_nodes.astype({\"osmid\": int})"
   ]
  },
  {
   "cell_type": "code",
   "execution_count": 5,
   "id": "670b35e6",
   "metadata": {},
   "outputs": [
    {
     "data": {
      "text/plain": [
       "77171"
      ]
     },
     "execution_count": 5,
     "metadata": {},
     "output_type": "execute_result"
    }
   ],
   "source": [
    "len(geoms_floodcalc_nodes)"
   ]
  },
  {
   "cell_type": "markdown",
   "id": "087fa5a2",
   "metadata": {},
   "source": [
    "-------------"
   ]
  },
  {
   "cell_type": "markdown",
   "id": "5f953c1e",
   "metadata": {},
   "source": [
    "#### calculate flood arrival time for every node"
   ]
  },
  {
   "cell_type": "code",
   "execution_count": 6,
   "id": "7dab7dfc",
   "metadata": {},
   "outputs": [
    {
     "data": {
      "text/html": [
       "<div>\n",
       "<style scoped>\n",
       "    .dataframe tbody tr th:only-of-type {\n",
       "        vertical-align: middle;\n",
       "    }\n",
       "\n",
       "    .dataframe tbody tr th {\n",
       "        vertical-align: top;\n",
       "    }\n",
       "\n",
       "    .dataframe thead th {\n",
       "        text-align: right;\n",
       "    }\n",
       "</style>\n",
       "<table border=\"1\" class=\"dataframe\">\n",
       "  <thead>\n",
       "    <tr style=\"text-align: right;\">\n",
       "      <th></th>\n",
       "      <th>segmentid</th>\n",
       "      <th>arrivaltime</th>\n",
       "      <th>minutes</th>\n",
       "      <th>firstdepth</th>\n",
       "      <th>geometry</th>\n",
       "    </tr>\n",
       "  </thead>\n",
       "  <tbody>\n",
       "    <tr>\n",
       "      <th>0</th>\n",
       "      <td>82538</td>\n",
       "      <td>NaN</td>\n",
       "      <td>NaN</td>\n",
       "      <td>NaN</td>\n",
       "      <td>NaN</td>\n",
       "    </tr>\n",
       "  </tbody>\n",
       "</table>\n",
       "</div>"
      ],
      "text/plain": [
       "   segmentid arrivaltime minutes firstdepth geometry\n",
       "0      82538         NaN     NaN        NaN      NaN"
      ]
     },
     "execution_count": 6,
     "metadata": {},
     "output_type": "execute_result"
    }
   ],
   "source": [
    "## create db with arrival times for every calculation point\n",
    "df_segments_flood = pd.DataFrame(columns=['segmentid', 'arrivaltime', 'minutes', 'firstdepth', 'geometry'])\n",
    "\n",
    "#get all column names\n",
    "list_segment_in_comp = flooded_roads.columns.values.tolist()\n",
    "\n",
    "df_segments_flood[\"segmentid\"] = list_segment_in_comp\n",
    "df_segments_flood.head(1)"
   ]
  },
  {
   "cell_type": "code",
   "execution_count": 7,
   "id": "c87674f4",
   "metadata": {},
   "outputs": [
    {
     "data": {
      "text/html": [
       "<div>\n",
       "<style scoped>\n",
       "    .dataframe tbody tr th:only-of-type {\n",
       "        vertical-align: middle;\n",
       "    }\n",
       "\n",
       "    .dataframe tbody tr th {\n",
       "        vertical-align: top;\n",
       "    }\n",
       "\n",
       "    .dataframe thead th {\n",
       "        text-align: right;\n",
       "    }\n",
       "</style>\n",
       "<table border=\"1\" class=\"dataframe\">\n",
       "  <thead>\n",
       "    <tr style=\"text-align: right;\">\n",
       "      <th></th>\n",
       "      <th>segmentid</th>\n",
       "      <th>arrivaltime</th>\n",
       "      <th>minutes</th>\n",
       "      <th>firstdepth</th>\n",
       "      <th>geometry</th>\n",
       "    </tr>\n",
       "  </thead>\n",
       "  <tbody>\n",
       "    <tr>\n",
       "      <th>0</th>\n",
       "      <td>82538</td>\n",
       "      <td>2000-01-01 18:55:03</td>\n",
       "      <td>55</td>\n",
       "      <td>0.248783</td>\n",
       "      <td>NaN</td>\n",
       "    </tr>\n",
       "    <tr>\n",
       "      <th>1</th>\n",
       "      <td>109000</td>\n",
       "      <td>2000-01-02 16:05:05</td>\n",
       "      <td>1325</td>\n",
       "      <td>0.010483</td>\n",
       "      <td>NaN</td>\n",
       "    </tr>\n",
       "    <tr>\n",
       "      <th>2</th>\n",
       "      <td>85358</td>\n",
       "      <td>2000-01-01 18:30:03</td>\n",
       "      <td>30</td>\n",
       "      <td>0.294702</td>\n",
       "      <td>NaN</td>\n",
       "    </tr>\n",
       "    <tr>\n",
       "      <th>3</th>\n",
       "      <td>117904</td>\n",
       "      <td>2000-01-01 20:55:03</td>\n",
       "      <td>175</td>\n",
       "      <td>0.017811</td>\n",
       "      <td>NaN</td>\n",
       "    </tr>\n",
       "    <tr>\n",
       "      <th>4</th>\n",
       "      <td>66511</td>\n",
       "      <td>2000-01-01 21:05:03</td>\n",
       "      <td>185</td>\n",
       "      <td>0.028243</td>\n",
       "      <td>NaN</td>\n",
       "    </tr>\n",
       "  </tbody>\n",
       "</table>\n",
       "</div>"
      ],
      "text/plain": [
       "   segmentid          arrivaltime minutes firstdepth geometry\n",
       "0      82538  2000-01-01 18:55:03      55   0.248783      NaN\n",
       "1     109000  2000-01-02 16:05:05    1325   0.010483      NaN\n",
       "2      85358  2000-01-01 18:30:03      30   0.294702      NaN\n",
       "3     117904  2000-01-01 20:55:03     175   0.017811      NaN\n",
       "4      66511  2000-01-01 21:05:03     185   0.028243      NaN"
      ]
     },
     "execution_count": 7,
     "metadata": {},
     "output_type": "execute_result"
    }
   ],
   "source": [
    "## derive flood arrival and first depth--> append it to dataframe\n",
    "for index, value  in flooded_roads.items():\n",
    "    \n",
    "    for i in range(len(value)):\n",
    "                   if value[i] > 0.01:\n",
    "                    arrival_time = str(flooded_roads.index[i])\n",
    "                    arrival_minutes = int(i * 5) #let op, deze 5 is van 5 minute timestep-> moet anders. niet hard coded\n",
    "\n",
    "                    first_depth = value[i]\n",
    "                    osmid = value.name\n",
    "                    geom = geoms_floodcalc_nodes\n",
    "                    \n",
    "                    df_segments_flood.loc[df_segments_flood.segmentid == osmid, 'minutes'] = int(arrival_minutes)\n",
    "                    df_segments_flood.loc[df_segments_flood.segmentid == osmid, 'arrivaltime'] = arrival_time\n",
    "                    df_segments_flood.loc[df_segments_flood.segmentid == osmid, 'firstdepth'] = first_depth\n",
    "            \n",
    "                    break\n",
    "\n",
    "df_segments_flood.to_csv(f'{output_path}/df_segments_flood_{uuid}.csv', header= True, sep =';', decimal=',' )               \n",
    "df_segments_flood.to_json(f'{output_path}/df_segments_flood_{uuid}.json')               \n",
    "df_segments_flood.head()"
   ]
  },
  {
   "cell_type": "markdown",
   "id": "84eb0b56",
   "metadata": {},
   "source": [
    "### join geoms of segments with new dataframe"
   ]
  },
  {
   "cell_type": "code",
   "execution_count": 8,
   "id": "ac6dfd13",
   "metadata": {},
   "outputs": [
    {
     "data": {
      "text/html": [
       "<div>\n",
       "<style scoped>\n",
       "    .dataframe tbody tr th:only-of-type {\n",
       "        vertical-align: middle;\n",
       "    }\n",
       "\n",
       "    .dataframe tbody tr th {\n",
       "        vertical-align: top;\n",
       "    }\n",
       "\n",
       "    .dataframe thead th {\n",
       "        text-align: right;\n",
       "    }\n",
       "</style>\n",
       "<table border=\"1\" class=\"dataframe\">\n",
       "  <thead>\n",
       "    <tr style=\"text-align: right;\">\n",
       "      <th></th>\n",
       "      <th>segmentid</th>\n",
       "      <th>arrivaltime</th>\n",
       "      <th>minutes</th>\n",
       "      <th>firstdepth</th>\n",
       "      <th>maaiveld</th>\n",
       "      <th>functie</th>\n",
       "      <th>roadsegmen</th>\n",
       "      <th>cell_id</th>\n",
       "      <th>osmid</th>\n",
       "      <th>highway</th>\n",
       "      <th>geom</th>\n",
       "    </tr>\n",
       "  </thead>\n",
       "  <tbody>\n",
       "    <tr>\n",
       "      <th>0</th>\n",
       "      <td>82538</td>\n",
       "      <td>2000-01-01 18:55:03</td>\n",
       "      <td>55</td>\n",
       "      <td>0.248783</td>\n",
       "      <td>0.956000</td>\n",
       "      <td>rijbaan lokale weg</td>\n",
       "      <td>82538</td>\n",
       "      <td>13000.0</td>\n",
       "      <td>6642251</td>\n",
       "      <td>tertiary</td>\n",
       "      <td>POINT (113501.850 550581.323)</td>\n",
       "    </tr>\n",
       "    <tr>\n",
       "      <th>1</th>\n",
       "      <td>109000</td>\n",
       "      <td>2000-01-02 16:05:05</td>\n",
       "      <td>1325</td>\n",
       "      <td>0.010483</td>\n",
       "      <td>-0.764000</td>\n",
       "      <td>rijbaan lokale weg</td>\n",
       "      <td>109000</td>\n",
       "      <td>16250.0</td>\n",
       "      <td>6638728</td>\n",
       "      <td>tertiary</td>\n",
       "      <td>POINT (117002.002 541154.106)</td>\n",
       "    </tr>\n",
       "    <tr>\n",
       "      <th>2</th>\n",
       "      <td>85358</td>\n",
       "      <td>2000-01-01 18:30:03</td>\n",
       "      <td>30</td>\n",
       "      <td>0.294702</td>\n",
       "      <td>0.376385</td>\n",
       "      <td>rijbaan lokale weg</td>\n",
       "      <td>85358</td>\n",
       "      <td>12160.0</td>\n",
       "      <td>6640655</td>\n",
       "      <td>tertiary</td>\n",
       "      <td>POINT (112681.429 551652.668)</td>\n",
       "    </tr>\n",
       "  </tbody>\n",
       "</table>\n",
       "</div>"
      ],
      "text/plain": [
       "   segmentid          arrivaltime minutes firstdepth  maaiveld  \\\n",
       "0      82538  2000-01-01 18:55:03      55   0.248783  0.956000   \n",
       "1     109000  2000-01-02 16:05:05    1325   0.010483 -0.764000   \n",
       "2      85358  2000-01-01 18:30:03      30   0.294702  0.376385   \n",
       "\n",
       "              functie  roadsegmen  cell_id    osmid   highway  \\\n",
       "0  rijbaan lokale weg       82538  13000.0  6642251  tertiary   \n",
       "1  rijbaan lokale weg      109000  16250.0  6638728  tertiary   \n",
       "2  rijbaan lokale weg       85358  12160.0  6640655  tertiary   \n",
       "\n",
       "                            geom  \n",
       "0  POINT (113501.850 550581.323)  \n",
       "1  POINT (117002.002 541154.106)  \n",
       "2  POINT (112681.429 551652.668)  "
      ]
     },
     "execution_count": 8,
     "metadata": {},
     "output_type": "execute_result"
    }
   ],
   "source": [
    "df_segments_flood_geoms_temp  = pd.merge(df_segments_flood,geoms_floodcalc_nodes,left_on='segmentid', right_on='roadsegmen' )\n",
    "df_segments_flood_geoms_temp[\"geom\"] = df_segments_flood_geoms_temp.geometry_y\n",
    "df_segments_flood_geoms_temp = df_segments_flood_geoms_temp.drop(columns=['geometry_y', 'geometry_x'])\n",
    "\n",
    "df_segments_flood_geoms = gpd.GeoDataFrame(df_segments_flood_geoms_temp, geometry= 'geom')\n",
    "df_segments_flood_geoms.head(3)\n"
   ]
  },
  {
   "cell_type": "code",
   "execution_count": 9,
   "id": "49e76fda",
   "metadata": {},
   "outputs": [
    {
     "name": "stderr",
     "output_type": "stream",
     "text": [
      "C:\\Users\\Louise\\anaconda3\\envs\\geo\\lib\\site-packages\\geopandas\\io\\file.py:362: FutureWarning: pandas.Int64Index is deprecated and will be removed from pandas in a future version. Use pandas.Index with the appropriate dtype instead.\n",
      "  pd.Int64Index,\n"
     ]
    }
   ],
   "source": [
    "df_segments_flood_geoms.to_file(f'{output_path}/df_segments_flood_geoms1_{uuid}.geojson')"
   ]
  },
  {
   "cell_type": "code",
   "execution_count": 10,
   "id": "8d449383",
   "metadata": {},
   "outputs": [],
   "source": [
    "## TO DO:\n",
    "# minutes after start gaat nu bij export naar string. why?\n"
   ]
  },
  {
   "cell_type": "code",
   "execution_count": 109,
   "id": "89b0a880",
   "metadata": {},
   "outputs": [
    {
     "name": "stderr",
     "output_type": "stream",
     "text": [
      "C:\\Users\\Louise\\anaconda3\\envs\\geo\\lib\\site-packages\\pandas\\core\\algorithms.py:798: FutureWarning: In a future version, the Index constructor will not infer numeric dtypes when passed object-dtype sequences (matching Series behavior)\n",
      "  uniques = Index(uniques)\n"
     ]
    },
    {
     "data": {
      "text/plain": [
       "<AxesSubplot:>"
      ]
     },
     "execution_count": 109,
     "metadata": {},
     "output_type": "execute_result"
    },
    {
     "data": {
      "image/png": "[encoded data removed]",
      "text/plain": [
       "<Figure size 720x360 with 1 Axes>"
      ]
     },
     "metadata": {
      "needs_background": "light"
     },
     "output_type": "display_data"
    }
   ],
   "source": [
    "fig = plt.figure(figsize=(10, 5))\n",
    "ax = fig.add_subplot(1, 1, 1)\n",
    "df_segments_flood_geoms.plot(ax=ax,alpha = 0.1, column = 'minutes')"
   ]
  },
  {
   "cell_type": "code",
   "execution_count": null,
   "id": "a52112c1",
   "metadata": {},
   "outputs": [],
   "source": []
  },
  {
   "cell_type": "code",
   "execution_count": null,
   "id": "980d2310",
   "metadata": {},
   "outputs": [],
   "source": [
    "## via "
   ]
  },
  {
   "cell_type": "code",
   "execution_count": null,
   "id": "70cbc296",
   "metadata": {},
   "outputs": [],
   "source": []
  }
 ],
 "metadata": {
  "kernelspec": {
   "display_name": "Python 3 (ipykernel)",
   "language": "python",
   "name": "python3"
  },
  "language_info": {
   "codemirror_mode": {
    "name": "ipython",
    "version": 3
   },
   "file_extension": ".py",
   "mimetype": "text/x-python",
   "name": "python",
   "nbconvert_exporter": "python",
   "pygments_lexer": "ipython3",
   "version": "3.10.2"
  }
 },
 "nbformat": 4,
 "nbformat_minor": 5
}

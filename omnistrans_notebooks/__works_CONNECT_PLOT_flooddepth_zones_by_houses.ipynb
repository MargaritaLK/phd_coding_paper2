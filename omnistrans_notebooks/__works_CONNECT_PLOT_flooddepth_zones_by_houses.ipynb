{
 "cells": [
  {
   "cell_type": "code",
   "execution_count": 1,
   "id": "bade1202",
   "metadata": {},
   "outputs": [],
   "source": [
    "import matplotlib\n",
    "import matplotlib.pyplot as plt\n",
    "\n",
    "import matplotlib.dates as mdates\n",
    "import numpy as np\n",
    "from datetime import datetime\n",
    "import pandas as pd\n",
    "from matplotlib.animation import FuncAnimation\n",
    "import geopandas as gpd\n",
    "\n",
    "\n",
    "import threedigrid\n",
    "from threedigrid.admin.gridresultadmin import GridH5ResultAdmin\n",
    "from threedigrid.admin.gridadmin import GridH5Admin\n",
    "\n",
    "import uuid"
   ]
  },
  {
   "cell_type": "code",
   "execution_count": 2,
   "id": "d71c083a",
   "metadata": {},
   "outputs": [],
   "source": [
    "from __my_functions_flooddepth_houses import get_time_dimensions_flood\n",
    "from __my_functions_flooddepth_houses import create_df_flooddepth_houses\n",
    "from __my_functions_flooddepth_houses import create_sample_houses_withinZone\n",
    "from __my_functions_flooddepth_houses import calculate_first_qth_arrival_and_maxdepth\n",
    "from __my_functions_flooddepth_houses import plot_flooddepth_houses_in_zone"
   ]
  },
  {
   "cell_type": "markdown",
   "id": "dcf9d529",
   "metadata": {},
   "source": [
    "-----------"
   ]
  },
  {
   "cell_type": "markdown",
   "id": "477d99f2",
   "metadata": {},
   "source": [
    "### paths"
   ]
  },
  {
   "cell_type": "code",
   "execution_count": 3,
   "id": "c2a1aae0",
   "metadata": {},
   "outputs": [],
   "source": [
    "## flood results paths\n",
    "# floodresults_path = '/Users/louiseklingen/Documents/TU/modelresults/modelresults_denhelder' \n",
    "floodresults_path = 'E:/projecten/P2019_1_DenHelderOverstroming/data_en_modellen/modelresults' "
   ]
  },
  {
   "cell_type": "code",
   "execution_count": 4,
   "id": "bae8b47c",
   "metadata": {},
   "outputs": [],
   "source": [
    "general_path = 'E:/paper2_analysis/depth_arrival_zones'\n",
    "figures_path = f'{general_path}/figures'\n",
    "input_path = f'{general_path}/input'\n",
    "output_path = f'{general_path}/output'"
   ]
  },
  {
   "cell_type": "markdown",
   "id": "5c6b07ac",
   "metadata": {},
   "source": [
    "-----------------------------------"
   ]
  },
  {
   "cell_type": "markdown",
   "id": "a04b4a73",
   "metadata": {},
   "source": [
    "### laod result "
   ]
  },
  {
   "cell_type": "code",
   "execution_count": 41,
   "id": "75c0d8f9",
   "metadata": {},
   "outputs": [],
   "source": [
    "# scenario_name = 'scen2_napiek'\n",
    "nr_zones_sampling = 89\n",
    "samplesize_nr_houses_in_zone = 50\n",
    "\n",
    "\n",
    "# scenario_name = 'scen1_voorpiek'\n",
    "# simulation_name = 'lk_dh_test13_5verloop_2d'\n",
    "# ## start_breach_time = '2000-01-01T18:00:00'\n",
    "# start_breach_time = '2000-01-01T00:00:00'\n",
    "\n",
    "\n",
    "scenario_name = 'scen2_napiek'\n",
    "simulation_name = 'lk_dh_test14_5verloop_38h'\n",
    "# start_breach_time = '2000-01-02T04:00:00'\n",
    "start_breach_time = '2000-01-01T00:00:00'"
   ]
  },
  {
   "cell_type": "code",
   "execution_count": 42,
   "id": "760a1d88",
   "metadata": {},
   "outputs": [
    {
     "data": {
      "text/html": [
       "<div>\n",
       "<style scoped>\n",
       "    .dataframe tbody tr th:only-of-type {\n",
       "        vertical-align: middle;\n",
       "    }\n",
       "\n",
       "    .dataframe tbody tr th {\n",
       "        vertical-align: top;\n",
       "    }\n",
       "\n",
       "    .dataframe thead th {\n",
       "        text-align: right;\n",
       "    }\n",
       "</style>\n",
       "<table border=\"1\" class=\"dataframe\">\n",
       "  <thead>\n",
       "    <tr style=\"text-align: right;\">\n",
       "      <th></th>\n",
       "      <th>BU_NAAM</th>\n",
       "      <th>AANT_INW</th>\n",
       "      <th>maxdepth</th>\n",
       "      <th>maxdepth_qt</th>\n",
       "      <th>arrival</th>\n",
       "      <th>geometry</th>\n",
       "    </tr>\n",
       "  </thead>\n",
       "  <tbody>\n",
       "    <tr>\n",
       "      <th>0</th>\n",
       "      <td>Blauwe Keet</td>\n",
       "      <td>45</td>\n",
       "      <td>1.708696</td>\n",
       "      <td>1.561553</td>\n",
       "      <td>2000-01-01 02:00:04</td>\n",
       "      <td>POLYGON ((112962.203 547568.188, 113580.000 54...</td>\n",
       "    </tr>\n",
       "    <tr>\n",
       "      <th>1</th>\n",
       "      <td>'t Zand-West- en -Zuid</td>\n",
       "      <td>840</td>\n",
       "      <td>NaN</td>\n",
       "      <td>NaN</td>\n",
       "      <td>nan</td>\n",
       "      <td>POLYGON ((112411.071 539578.531, 112435.289 53...</td>\n",
       "    </tr>\n",
       "  </tbody>\n",
       "</table>\n",
       "</div>"
      ],
      "text/plain": [
       "                  BU_NAAM  AANT_INW  maxdepth  maxdepth_qt  \\\n",
       "0             Blauwe Keet        45  1.708696     1.561553   \n",
       "1  't Zand-West- en -Zuid       840       NaN          NaN   \n",
       "\n",
       "               arrival                                           geometry  \n",
       "0  2000-01-01 02:00:04  POLYGON ((112962.203 547568.188, 113580.000 54...  \n",
       "1                  nan  POLYGON ((112411.071 539578.531, 112435.289 53...  "
      ]
     },
     "execution_count": 42,
     "metadata": {},
     "output_type": "execute_result"
    }
   ],
   "source": [
    "zones_maxdepth_arrival_df = gpd.read_file(f'{output_path}/zones_maxdepth_arrival_df_{scenario_name}_{nr_zones_sampling}zones_{samplesize_nr_houses_in_zone}houses.geojson')\n",
    "zones_maxdepth_arrival_df.head(2)\n"
   ]
  },
  {
   "cell_type": "code",
   "execution_count": 43,
   "id": "b764a076",
   "metadata": {},
   "outputs": [
    {
     "name": "stdout",
     "output_type": "stream",
     "text": [
      "rekentijd: 38.00862374799665 uur\n",
      "aantal tijdstappen: 457\n",
      "interval: 300.02, secondes = 5.0 min\n",
      " breach start time at: 2000-01-01 00:00:00\n"
     ]
    }
   ],
   "source": [
    "## flood result files\n",
    "netcdf_file = (f'{floodresults_path}/{simulation_name}/results_3di.nc')\n",
    "gridadmin_file = (f'{floodresults_path}/{simulation_name}/gridadmin.h5')\n",
    "gr = GridH5ResultAdmin(gridadmin_file , netcdf_file)\n",
    "ga = GridH5Admin(gridadmin_file)\n",
    "time_humanized, last_timestamp  = get_time_dimensions_flood(gr, start_breach_time)"
   ]
  },
  {
   "cell_type": "code",
   "execution_count": null,
   "id": "e0f19521",
   "metadata": {},
   "outputs": [],
   "source": []
  },
  {
   "cell_type": "markdown",
   "id": "2bddc957",
   "metadata": {},
   "source": [
    "------------"
   ]
  },
  {
   "cell_type": "code",
   "execution_count": 44,
   "id": "bd4038bd",
   "metadata": {},
   "outputs": [
    {
     "data": {
      "text/plain": [
       "<AxesSubplot:>"
      ]
     },
     "execution_count": 44,
     "metadata": {},
     "output_type": "execute_result"
    },
    {
     "data": {
      "image/png": "[encoded data removed]",
      "text/plain": [
       "<Figure size 1440x360 with 1 Axes>"
      ]
     },
     "metadata": {},
     "output_type": "display_data"
    }
   ],
   "source": [
    "fig = plt.figure(figsize=(20, 5),facecolor='#e9ecef')\n",
    "ax = fig.add_subplot(1, 1, 1)\n",
    "ax.set_facecolor('#e9ecef')\n",
    "\n",
    "\n",
    "# zones_maxdepth_arrival_df.plot(ax=ax, column = 'arrival', cmap= 'YlOrRd_r')\n",
    "zones_maxdepth_arrival_df.plot(ax=ax, column = 'maxdepth', cmap= 'Blues')\n"
   ]
  },
  {
   "cell_type": "markdown",
   "id": "ec96d9f8",
   "metadata": {},
   "source": [
    "## drop nan values"
   ]
  },
  {
   "cell_type": "code",
   "execution_count": 45,
   "id": "680cadd6",
   "metadata": {},
   "outputs": [],
   "source": [
    "zones_maxdepth_arrival_df_dropna = zones_maxdepth_arrival_df.dropna()"
   ]
  },
  {
   "cell_type": "code",
   "execution_count": 46,
   "id": "1ffbbc2d",
   "metadata": {},
   "outputs": [],
   "source": [
    "# type(zones_maxdepth_arrival_df_dropna.arrival[10])"
   ]
  },
  {
   "cell_type": "code",
   "execution_count": 47,
   "id": "86ad1de7",
   "metadata": {},
   "outputs": [
    {
     "data": {
      "text/plain": [
       "datetime.datetime(2000, 1, 1, 6, 40, 4)"
      ]
     },
     "execution_count": 47,
     "metadata": {},
     "output_type": "execute_result"
    }
   ],
   "source": [
    "time_humanized[80]"
   ]
  },
  {
   "cell_type": "markdown",
   "id": "fa952377",
   "metadata": {},
   "source": [
    "### change time to minutes"
   ]
  },
  {
   "cell_type": "code",
   "execution_count": 48,
   "id": "7bd75a3e",
   "metadata": {},
   "outputs": [
    {
     "data": {
      "text/html": [
       "<div>\n",
       "<style scoped>\n",
       "    .dataframe tbody tr th:only-of-type {\n",
       "        vertical-align: middle;\n",
       "    }\n",
       "\n",
       "    .dataframe tbody tr th {\n",
       "        vertical-align: top;\n",
       "    }\n",
       "\n",
       "    .dataframe thead th {\n",
       "        text-align: right;\n",
       "    }\n",
       "</style>\n",
       "<table border=\"1\" class=\"dataframe\">\n",
       "  <thead>\n",
       "    <tr style=\"text-align: right;\">\n",
       "      <th></th>\n",
       "      <th>BU_NAAM</th>\n",
       "      <th>AANT_INW</th>\n",
       "      <th>maxdepth</th>\n",
       "      <th>maxdepth_qt</th>\n",
       "      <th>arrival</th>\n",
       "      <th>geometry</th>\n",
       "    </tr>\n",
       "  </thead>\n",
       "  <tbody>\n",
       "    <tr>\n",
       "      <th>0</th>\n",
       "      <td>Blauwe Keet</td>\n",
       "      <td>45</td>\n",
       "      <td>1.708696</td>\n",
       "      <td>1.561553</td>\n",
       "      <td>2000-01-01 02:00:04</td>\n",
       "      <td>POLYGON ((112962.203 547568.188, 113580.000 54...</td>\n",
       "    </tr>\n",
       "    <tr>\n",
       "      <th>2</th>\n",
       "      <td>Ooghduyne</td>\n",
       "      <td>170</td>\n",
       "      <td>1.162799</td>\n",
       "      <td>1.065256</td>\n",
       "      <td>2000-01-01 03:20:00</td>\n",
       "      <td>POLYGON ((109646.602 546255.813, 109845.398 54...</td>\n",
       "    </tr>\n",
       "  </tbody>\n",
       "</table>\n",
       "</div>"
      ],
      "text/plain": [
       "       BU_NAAM  AANT_INW  maxdepth  maxdepth_qt              arrival  \\\n",
       "0  Blauwe Keet        45  1.708696     1.561553  2000-01-01 02:00:04   \n",
       "2    Ooghduyne       170  1.162799     1.065256  2000-01-01 03:20:00   \n",
       "\n",
       "                                            geometry  \n",
       "0  POLYGON ((112962.203 547568.188, 113580.000 54...  \n",
       "2  POLYGON ((109646.602 546255.813, 109845.398 54...  "
      ]
     },
     "execution_count": 48,
     "metadata": {},
     "output_type": "execute_result"
    }
   ],
   "source": [
    "zones_maxdepth_arrival_df_dropna.head(2)"
   ]
  },
  {
   "cell_type": "code",
   "execution_count": null,
   "id": "cc18bcaf",
   "metadata": {},
   "outputs": [],
   "source": []
  },
  {
   "cell_type": "markdown",
   "id": "2eb1b326",
   "metadata": {},
   "source": [
    "### flood depth threshold"
   ]
  },
  {
   "cell_type": "code",
   "execution_count": 53,
   "id": "8966248d",
   "metadata": {},
   "outputs": [],
   "source": [
    "#filter on depth\n",
    "depth_threshold = 1.5\n",
    "zones_maxdepth_threshold = zones_maxdepth_arrival_df_dropna[zones_maxdepth_arrival_df_dropna.maxdepth > depth_threshold]\n"
   ]
  },
  {
   "cell_type": "markdown",
   "id": "fdbc8b24",
   "metadata": {},
   "source": [
    "### export to geojson"
   ]
  },
  {
   "cell_type": "code",
   "execution_count": 50,
   "id": "e6f66c04",
   "metadata": {},
   "outputs": [
    {
     "name": "stderr",
     "output_type": "stream",
     "text": [
      "C:\\Users\\Louise\\anaconda3\\envs\\geo\\lib\\site-packages\\geopandas\\io\\file.py:362: FutureWarning: pandas.Int64Index is deprecated and will be removed from pandas in a future version. Use pandas.Index with the appropriate dtype instead.\n",
      "  pd.Int64Index,\n"
     ]
    },
    {
     "ename": "PermissionError",
     "evalue": "[WinError 32] The process cannot access the file because it is being used by another process: 'E:/paper2_analysis/depth_arrival_zones/output/zones_maxdepth_threshold_scen2_napiek_89zones_50houses_tresh_2m.geojson'",
     "output_type": "error",
     "traceback": [
      "\u001b[1;31m---------------------------------------------------------------------------\u001b[0m",
      "\u001b[1;31mPermissionError\u001b[0m                           Traceback (most recent call last)",
      "Input \u001b[1;32mIn [50]\u001b[0m, in \u001b[0;36m<module>\u001b[1;34m\u001b[0m\n\u001b[0;32m      1\u001b[0m \u001b[38;5;66;03m# export to geojson\u001b[39;00m\n\u001b[1;32m----> 2\u001b[0m \u001b[43mzones_maxdepth_threshold\u001b[49m\u001b[38;5;241;43m.\u001b[39;49m\u001b[43mto_file\u001b[49m\u001b[43m(\u001b[49m\u001b[38;5;124;43mf\u001b[39;49m\u001b[38;5;124;43m'\u001b[39;49m\u001b[38;5;132;43;01m{\u001b[39;49;00m\u001b[43moutput_path\u001b[49m\u001b[38;5;132;43;01m}\u001b[39;49;00m\u001b[38;5;124;43m/zones_maxdepth_threshold_\u001b[39;49m\u001b[38;5;132;43;01m{\u001b[39;49;00m\u001b[43mscenario_name\u001b[49m\u001b[38;5;132;43;01m}\u001b[39;49;00m\u001b[38;5;124;43m_\u001b[39;49m\u001b[38;5;132;43;01m{\u001b[39;49;00m\u001b[43mnr_zones_sampling\u001b[49m\u001b[38;5;132;43;01m}\u001b[39;49;00m\u001b[38;5;124;43mzones_\u001b[39;49m\u001b[38;5;132;43;01m{\u001b[39;49;00m\u001b[43msamplesize_nr_houses_in_zone\u001b[49m\u001b[38;5;132;43;01m}\u001b[39;49;00m\u001b[38;5;124;43mhouses_tresh_\u001b[39;49m\u001b[38;5;132;43;01m{\u001b[39;49;00m\u001b[43mdepth_threshold\u001b[49m\u001b[38;5;132;43;01m}\u001b[39;49;00m\u001b[38;5;124;43mm.geojson\u001b[39;49m\u001b[38;5;124;43m'\u001b[39;49m\u001b[43m)\u001b[49m\n",
      "File \u001b[1;32m~\\anaconda3\\envs\\geo\\lib\\site-packages\\geopandas\\geodataframe.py:1114\u001b[0m, in \u001b[0;36mGeoDataFrame.to_file\u001b[1;34m(self, filename, driver, schema, index, **kwargs)\u001b[0m\n\u001b[0;32m   1053\u001b[0m \u001b[38;5;124;03m\"\"\"Write the ``GeoDataFrame`` to a file.\u001b[39;00m\n\u001b[0;32m   1054\u001b[0m \n\u001b[0;32m   1055\u001b[0m \u001b[38;5;124;03mBy default, an ESRI shapefile is written, but any OGR data source\u001b[39;00m\n\u001b[1;32m   (...)\u001b[0m\n\u001b[0;32m   1110\u001b[0m \u001b[38;5;124;03m>>> gdf.to_file('dataframe.shp', mode=\"a\")  # doctest: +SKIP\u001b[39;00m\n\u001b[0;32m   1111\u001b[0m \u001b[38;5;124;03m\"\"\"\u001b[39;00m\n\u001b[0;32m   1112\u001b[0m \u001b[38;5;28;01mfrom\u001b[39;00m \u001b[38;5;21;01mgeopandas\u001b[39;00m\u001b[38;5;21;01m.\u001b[39;00m\u001b[38;5;21;01mio\u001b[39;00m\u001b[38;5;21;01m.\u001b[39;00m\u001b[38;5;21;01mfile\u001b[39;00m \u001b[38;5;28;01mimport\u001b[39;00m _to_file\n\u001b[1;32m-> 1114\u001b[0m _to_file(\u001b[38;5;28mself\u001b[39m, filename, driver, schema, index, \u001b[38;5;241m*\u001b[39m\u001b[38;5;241m*\u001b[39mkwargs)\n",
      "File \u001b[1;32m~\\anaconda3\\envs\\geo\\lib\\site-packages\\geopandas\\io\\file.py:393\u001b[0m, in \u001b[0;36m_to_file\u001b[1;34m(df, filename, driver, schema, index, mode, crs, **kwargs)\u001b[0m\n\u001b[0;32m    391\u001b[0m \u001b[38;5;28;01melif\u001b[39;00m crs:\n\u001b[0;32m    392\u001b[0m     crs_wkt \u001b[38;5;241m=\u001b[39m crs\u001b[38;5;241m.\u001b[39mto_wkt(\u001b[38;5;124m\"\u001b[39m\u001b[38;5;124mWKT1_GDAL\u001b[39m\u001b[38;5;124m\"\u001b[39m)\n\u001b[1;32m--> 393\u001b[0m \u001b[38;5;28;01mwith\u001b[39;00m fiona\u001b[38;5;241m.\u001b[39mopen(\n\u001b[0;32m    394\u001b[0m     filename, mode\u001b[38;5;241m=\u001b[39mmode, driver\u001b[38;5;241m=\u001b[39mdriver, crs_wkt\u001b[38;5;241m=\u001b[39mcrs_wkt, schema\u001b[38;5;241m=\u001b[39mschema, \u001b[38;5;241m*\u001b[39m\u001b[38;5;241m*\u001b[39mkwargs\n\u001b[0;32m    395\u001b[0m ) \u001b[38;5;28;01mas\u001b[39;00m colxn:\n\u001b[0;32m    396\u001b[0m     colxn\u001b[38;5;241m.\u001b[39mwriterecords(df\u001b[38;5;241m.\u001b[39miterfeatures())\n",
      "File \u001b[1;32m~\\anaconda3\\envs\\geo\\lib\\site-packages\\fiona\\env.py:408\u001b[0m, in \u001b[0;36mensure_env_with_credentials.<locals>.wrapper\u001b[1;34m(*args, **kwargs)\u001b[0m\n\u001b[0;32m    405\u001b[0m \u001b[38;5;129m@wraps\u001b[39m(f)\n\u001b[0;32m    406\u001b[0m \u001b[38;5;28;01mdef\u001b[39;00m \u001b[38;5;21mwrapper\u001b[39m(\u001b[38;5;241m*\u001b[39margs, \u001b[38;5;241m*\u001b[39m\u001b[38;5;241m*\u001b[39mkwargs):\n\u001b[0;32m    407\u001b[0m     \u001b[38;5;28;01mif\u001b[39;00m local\u001b[38;5;241m.\u001b[39m_env:\n\u001b[1;32m--> 408\u001b[0m         \u001b[38;5;28;01mreturn\u001b[39;00m f(\u001b[38;5;241m*\u001b[39margs, \u001b[38;5;241m*\u001b[39m\u001b[38;5;241m*\u001b[39mkwargs)\n\u001b[0;32m    409\u001b[0m     \u001b[38;5;28;01melse\u001b[39;00m:\n\u001b[0;32m    410\u001b[0m         \u001b[38;5;28;01mif\u001b[39;00m \u001b[38;5;28misinstance\u001b[39m(args[\u001b[38;5;241m0\u001b[39m], \u001b[38;5;28mstr\u001b[39m):\n",
      "File \u001b[1;32m~\\anaconda3\\envs\\geo\\lib\\site-packages\\fiona\\__init__.py:280\u001b[0m, in \u001b[0;36mopen\u001b[1;34m(fp, mode, driver, schema, crs, encoding, layer, vfs, enabled_drivers, crs_wkt, **kwargs)\u001b[0m\n\u001b[0;32m    278\u001b[0m     \u001b[38;5;28;01melse\u001b[39;00m:\n\u001b[0;32m    279\u001b[0m         this_schema \u001b[38;5;241m=\u001b[39m \u001b[38;5;28;01mNone\u001b[39;00m\n\u001b[1;32m--> 280\u001b[0m     c \u001b[38;5;241m=\u001b[39m Collection(path, mode, crs\u001b[38;5;241m=\u001b[39mcrs, driver\u001b[38;5;241m=\u001b[39mdriver, schema\u001b[38;5;241m=\u001b[39mthis_schema,\n\u001b[0;32m    281\u001b[0m                    encoding\u001b[38;5;241m=\u001b[39mencoding, layer\u001b[38;5;241m=\u001b[39mlayer, enabled_drivers\u001b[38;5;241m=\u001b[39menabled_drivers, crs_wkt\u001b[38;5;241m=\u001b[39mcrs_wkt,\n\u001b[0;32m    282\u001b[0m                    \u001b[38;5;241m*\u001b[39m\u001b[38;5;241m*\u001b[39mkwargs)\n\u001b[0;32m    283\u001b[0m \u001b[38;5;28;01melse\u001b[39;00m:\n\u001b[0;32m    284\u001b[0m     \u001b[38;5;28;01mraise\u001b[39;00m \u001b[38;5;167;01mValueError\u001b[39;00m(\n\u001b[0;32m    285\u001b[0m         \u001b[38;5;124m\"\u001b[39m\u001b[38;5;124mmode string must be one of \u001b[39m\u001b[38;5;124m'\u001b[39m\u001b[38;5;124mr\u001b[39m\u001b[38;5;124m'\u001b[39m\u001b[38;5;124m, \u001b[39m\u001b[38;5;124m'\u001b[39m\u001b[38;5;124mw\u001b[39m\u001b[38;5;124m'\u001b[39m\u001b[38;5;124m, or \u001b[39m\u001b[38;5;124m'\u001b[39m\u001b[38;5;124ma\u001b[39m\u001b[38;5;124m'\u001b[39m\u001b[38;5;124m, not \u001b[39m\u001b[38;5;132;01m%s\u001b[39;00m\u001b[38;5;124m\"\u001b[39m \u001b[38;5;241m%\u001b[39m mode)\n",
      "File \u001b[1;32m~\\anaconda3\\envs\\geo\\lib\\site-packages\\fiona\\collection.py:165\u001b[0m, in \u001b[0;36mCollection.__init__\u001b[1;34m(self, path, mode, driver, schema, crs, encoding, layer, vsi, archive, enabled_drivers, crs_wkt, ignore_fields, ignore_geometry, **kwargs)\u001b[0m\n\u001b[0;32m    163\u001b[0m     \u001b[38;5;28;01melif\u001b[39;00m \u001b[38;5;28mself\u001b[39m\u001b[38;5;241m.\u001b[39mmode \u001b[38;5;129;01min\u001b[39;00m (\u001b[38;5;124m'\u001b[39m\u001b[38;5;124ma\u001b[39m\u001b[38;5;124m'\u001b[39m, \u001b[38;5;124m'\u001b[39m\u001b[38;5;124mw\u001b[39m\u001b[38;5;124m'\u001b[39m):\n\u001b[0;32m    164\u001b[0m         \u001b[38;5;28mself\u001b[39m\u001b[38;5;241m.\u001b[39msession \u001b[38;5;241m=\u001b[39m WritingSession()\n\u001b[1;32m--> 165\u001b[0m         \u001b[38;5;28mself\u001b[39m\u001b[38;5;241m.\u001b[39msession\u001b[38;5;241m.\u001b[39mstart(\u001b[38;5;28mself\u001b[39m, \u001b[38;5;241m*\u001b[39m\u001b[38;5;241m*\u001b[39mkwargs)\n\u001b[0;32m    166\u001b[0m \u001b[38;5;28;01mexcept\u001b[39;00m \u001b[38;5;167;01mIOError\u001b[39;00m:\n\u001b[0;32m    167\u001b[0m     \u001b[38;5;28mself\u001b[39m\u001b[38;5;241m.\u001b[39msession \u001b[38;5;241m=\u001b[39m \u001b[38;5;28;01mNone\u001b[39;00m\n",
      "File \u001b[1;32mfiona\\ogrext.pyx:1020\u001b[0m, in \u001b[0;36mfiona.ogrext.WritingSession.start\u001b[1;34m()\u001b[0m\n",
      "\u001b[1;31mPermissionError\u001b[0m: [WinError 32] The process cannot access the file because it is being used by another process: 'E:/paper2_analysis/depth_arrival_zones/output/zones_maxdepth_threshold_scen2_napiek_89zones_50houses_tresh_2m.geojson'"
     ]
    }
   ],
   "source": [
    "# export to geojson\n",
    "zones_maxdepth_threshold.to_file(f'{output_path}/zones_maxdepth_threshold_{scenario_name}_{nr_zones_sampling}zones_{samplesize_nr_houses_in_zone}houses_tresh_{depth_threshold}m.geojson')\n"
   ]
  },
  {
   "cell_type": "code",
   "execution_count": 54,
   "id": "081666f0",
   "metadata": {},
   "outputs": [
    {
     "data": {
      "text/plain": [
       "32380"
      ]
     },
     "execution_count": 54,
     "metadata": {},
     "output_type": "execute_result"
    }
   ],
   "source": [
    "zones_maxdepth_threshold.AANT_INW.sum()"
   ]
  },
  {
   "cell_type": "code",
   "execution_count": null,
   "id": "4fa1ac06",
   "metadata": {},
   "outputs": [],
   "source": []
  },
  {
   "cell_type": "code",
   "execution_count": 55,
   "id": "5eca7eb6",
   "metadata": {
    "scrolled": true
   },
   "outputs": [
    {
     "data": {
      "image/png": "[encoded data removed]",
      "text/plain": [
       "<Figure size 432x432 with 1 Axes>"
      ]
     },
     "metadata": {
      "needs_background": "light"
     },
     "output_type": "display_data"
    }
   ],
   "source": [
    "fig = plt.figure(figsize=(6, 6))\n",
    "ax1 = fig.add_subplot(1, 1, 1)\n",
    "# ax2 = fig.add_subplot(1, 2, 2)\n",
    "\n",
    "df = zones_maxdepth_arrival_df_dropna.copy()\n",
    "df_tr = zones_maxdepth_threshold.copy()\n",
    "\n",
    "\n",
    "ax1.vlines(df.arrival, 0, df.maxdepth, linewidth= 1, color = '#70798c', alpha=0.3)\n",
    "ax1.scatter(df.arrival, df.maxdepth,s = df.AANT_INW*0.8, alpha= 0.4, color = '#118ab2' )\n",
    "ax1.scatter(df_tr.arrival, df_tr.maxdepth,s = df_tr.AANT_INW*0.3, alpha=0.7 , color= '#ffd166')\n",
    "ax1.scatter(df.arrival, df.maxdepth,s = 1.7, alpha=1, c ='k' )\n",
    "\n",
    "ax1.set_ylim(0,4)\n",
    "ax1.set_title(f'zones_maxdepth_arrival_df_{scenario_name}') \n",
    "\n",
    "\n",
    "# ax1.set_ylim(0,4)\n",
    "# print(df_tr.AANT_INW.sum())\n",
    "\n",
    "plt.title(f'{scenario_name}_threshold_{depth_threshold}m')\n",
    "plt.savefig(f'{figures_path}/zones_maxdepth_arrival_df_{scenario_name}_{nr_zones_sampling}zones_{samplesize_nr_houses_in_zone}houses_tr{depth_threshold}m.png', dpi=300)  \n",
    "# plt.savefig(f'{figures_path}/zones_maxdepth_arrival_df_{scenario_name}_{nr_zones_sampling}.svg', dpi=300)  "
   ]
  },
  {
   "cell_type": "code",
   "execution_count": null,
   "id": "432b206b",
   "metadata": {},
   "outputs": [],
   "source": []
  },
  {
   "cell_type": "code",
   "execution_count": null,
   "id": "c9084dbd",
   "metadata": {},
   "outputs": [],
   "source": []
  },
  {
   "cell_type": "code",
   "execution_count": null,
   "id": "8880d1f0",
   "metadata": {},
   "outputs": [],
   "source": []
  }
 ],
 "metadata": {
  "kernelspec": {
   "display_name": "Python 3 (ipykernel)",
   "language": "python",
   "name": "python3"
  },
  "language_info": {
   "codemirror_mode": {
    "name": "ipython",
    "version": 3
   },
   "file_extension": ".py",
   "mimetype": "text/x-python",
   "name": "python",
   "nbconvert_exporter": "python",
   "pygments_lexer": "ipython3",
   "version": "3.10.2"
  }
 },
 "nbformat": 4,
 "nbformat_minor": 5
}

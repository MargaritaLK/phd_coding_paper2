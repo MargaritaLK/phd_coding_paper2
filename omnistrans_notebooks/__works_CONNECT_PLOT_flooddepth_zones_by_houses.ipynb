{
 "cells": [
  {
   "cell_type": "code",
   "execution_count": 1,
   "id": "bade1202",
   "metadata": {},
   "outputs": [],
   "source": [
    "import matplotlib\n",
    "import matplotlib.pyplot as plt\n",
    "\n",
    "import matplotlib.dates as mdates\n",
    "import numpy as np\n",
    "from datetime import datetime\n",
    "import pandas as pd\n",
    "from matplotlib.animation import FuncAnimation\n",
    "import geopandas as gpd\n",
    "\n",
    "\n",
    "import threedigrid\n",
    "from threedigrid.admin.gridresultadmin import GridH5ResultAdmin\n",
    "from threedigrid.admin.gridadmin import GridH5Admin\n",
    "\n",
    "import uuid"
   ]
  },
  {
   "cell_type": "code",
   "execution_count": 2,
   "id": "d71c083a",
   "metadata": {},
   "outputs": [],
   "source": [
    "from __my_functions_flooddepth_houses import get_time_dimensions_flood\n",
    "from __my_functions_flooddepth_houses import create_df_flooddepth_houses\n",
    "from __my_functions_flooddepth_houses import create_sample_houses_withinZone\n",
    "from __my_functions_flooddepth_houses import calculate_first_qth_arrival_and_maxdepth\n",
    "from __my_functions_flooddepth_houses import plot_flooddepth_houses_in_zone\n",
    "\n",
    "from __my_functions import get_minutes_from_start_flood"
   ]
  },
  {
   "cell_type": "markdown",
   "id": "dcf9d529",
   "metadata": {},
   "source": [
    "-----------"
   ]
  },
  {
   "cell_type": "markdown",
   "id": "477d99f2",
   "metadata": {},
   "source": [
    "### paths"
   ]
  },
  {
   "cell_type": "code",
   "execution_count": 3,
   "id": "c2a1aae0",
   "metadata": {},
   "outputs": [],
   "source": [
    "## flood results paths\n",
    "# floodresults_path = '/Users/louiseklingen/Documents/TU/modelresults/modelresults_denhelder' \n",
    "floodresults_path = 'E:/projecten/P2019_1_DenHelderOverstroming/data_en_modellen/modelresults' "
   ]
  },
  {
   "cell_type": "code",
   "execution_count": 4,
   "id": "bae8b47c",
   "metadata": {},
   "outputs": [],
   "source": [
    "general_path = 'E:/paper2_analysis/depth_arrival_zones'\n",
    "figures_path = f'{general_path}/figures'\n",
    "input_path = f'{general_path}/input'\n",
    "output_path = f'{general_path}/output'"
   ]
  },
  {
   "cell_type": "markdown",
   "id": "5c6b07ac",
   "metadata": {},
   "source": [
    "-----------------------------------"
   ]
  },
  {
   "cell_type": "markdown",
   "id": "a04b4a73",
   "metadata": {},
   "source": [
    "### laod result "
   ]
  },
  {
   "cell_type": "code",
   "execution_count": 136,
   "id": "75c0d8f9",
   "metadata": {},
   "outputs": [],
   "source": [
    "# scenario_name = 'scen2_napiek'\n",
    "nr_zones_sampling = 89\n",
    "samplesize_nr_houses_in_zone = 50\n",
    "\n",
    "\n",
    "# scenario_name = 'scen1_voorpiek'\n",
    "# simulation_name = 'lk_dh_test13_5verloop_2d'\n",
    "# ## start_breach_time = '2000-01-01T18:00:00'\n",
    "# # start_breach_time = '2000-01-01T00:00:00'\n",
    "\n",
    "\n",
    "scenario_name = 'scen2_napiek'\n",
    "simulation_name = 'lk_dh_test14_5verloop_38h'\n",
    "# start_breach_time = '2000-01-02T04:00:00'\n",
    "start_breach_time = '2000-01-01T00:00:00'\n",
    "\n",
    "\n",
    "start_breach_time_obj = datetime.strptime(start_breach_time, '%Y-%m-%dT%H:%M:%S')"
   ]
  },
  {
   "cell_type": "code",
   "execution_count": 137,
   "id": "760a1d88",
   "metadata": {},
   "outputs": [
    {
     "data": {
      "text/html": [
       "<div>\n",
       "<style scoped>\n",
       "    .dataframe tbody tr th:only-of-type {\n",
       "        vertical-align: middle;\n",
       "    }\n",
       "\n",
       "    .dataframe tbody tr th {\n",
       "        vertical-align: top;\n",
       "    }\n",
       "\n",
       "    .dataframe thead th {\n",
       "        text-align: right;\n",
       "    }\n",
       "</style>\n",
       "<table border=\"1\" class=\"dataframe\">\n",
       "  <thead>\n",
       "    <tr style=\"text-align: right;\">\n",
       "      <th></th>\n",
       "      <th>BU_NAAM</th>\n",
       "      <th>AANT_INW</th>\n",
       "      <th>maxdepth</th>\n",
       "      <th>maxdepth_qt</th>\n",
       "      <th>arrival</th>\n",
       "      <th>geometry</th>\n",
       "    </tr>\n",
       "  </thead>\n",
       "  <tbody>\n",
       "    <tr>\n",
       "      <th>0</th>\n",
       "      <td>Blauwe Keet</td>\n",
       "      <td>45</td>\n",
       "      <td>1.708696</td>\n",
       "      <td>1.561553</td>\n",
       "      <td>2000-01-01 02:00:04</td>\n",
       "      <td>POLYGON ((112962.203 547568.188, 113580.000 54...</td>\n",
       "    </tr>\n",
       "    <tr>\n",
       "      <th>1</th>\n",
       "      <td>'t Zand-West- en -Zuid</td>\n",
       "      <td>840</td>\n",
       "      <td>NaN</td>\n",
       "      <td>NaN</td>\n",
       "      <td>nan</td>\n",
       "      <td>POLYGON ((112411.071 539578.531, 112435.289 53...</td>\n",
       "    </tr>\n",
       "  </tbody>\n",
       "</table>\n",
       "</div>"
      ],
      "text/plain": [
       "                  BU_NAAM  AANT_INW  maxdepth  maxdepth_qt  \\\n",
       "0             Blauwe Keet        45  1.708696     1.561553   \n",
       "1  't Zand-West- en -Zuid       840       NaN          NaN   \n",
       "\n",
       "               arrival                                           geometry  \n",
       "0  2000-01-01 02:00:04  POLYGON ((112962.203 547568.188, 113580.000 54...  \n",
       "1                  nan  POLYGON ((112411.071 539578.531, 112435.289 53...  "
      ]
     },
     "execution_count": 137,
     "metadata": {},
     "output_type": "execute_result"
    }
   ],
   "source": [
    "zones_maxdepth_arrival_df = gpd.read_file(f'{output_path}/zones_maxdepth_arrival_df_{scenario_name}_{nr_zones_sampling}zones_{samplesize_nr_houses_in_zone}houses.geojson')\n",
    "zones_maxdepth_arrival_df.head(2)\n"
   ]
  },
  {
   "cell_type": "code",
   "execution_count": 138,
   "id": "b764a076",
   "metadata": {},
   "outputs": [
    {
     "name": "stdout",
     "output_type": "stream",
     "text": [
      "rekentijd: 38.00862374799665 uur\n",
      "aantal tijdstappen: 457\n",
      "interval: 300.02, secondes = 5.0 min\n",
      " breach start time at: 2000-01-01 00:00:00\n"
     ]
    }
   ],
   "source": [
    "## flood result files\n",
    "netcdf_file = (f'{floodresults_path}/{simulation_name}/results_3di.nc')\n",
    "gridadmin_file = (f'{floodresults_path}/{simulation_name}/gridadmin.h5')\n",
    "gr = GridH5ResultAdmin(gridadmin_file , netcdf_file)\n",
    "ga = GridH5Admin(gridadmin_file)\n",
    "time_humanized, last_timestamp  = get_time_dimensions_flood(gr, start_breach_time)"
   ]
  },
  {
   "cell_type": "code",
   "execution_count": null,
   "id": "e0f19521",
   "metadata": {},
   "outputs": [],
   "source": []
  },
  {
   "cell_type": "markdown",
   "id": "2bddc957",
   "metadata": {},
   "source": [
    "------------"
   ]
  },
  {
   "cell_type": "code",
   "execution_count": 139,
   "id": "bd4038bd",
   "metadata": {},
   "outputs": [
    {
     "data": {
      "text/plain": [
       "<AxesSubplot:>"
      ]
     },
     "execution_count": 139,
     "metadata": {},
     "output_type": "execute_result"
    },
    {
     "data": {
      "image/png": "[encoded data removed]",
      "text/plain": [
       "<Figure size 1440x360 with 1 Axes>"
      ]
     },
     "metadata": {},
     "output_type": "display_data"
    }
   ],
   "source": [
    "fig = plt.figure(figsize=(20, 5),facecolor='#e9ecef')\n",
    "ax = fig.add_subplot(1, 1, 1)\n",
    "ax.set_facecolor('#e9ecef')\n",
    "\n",
    "\n",
    "# zones_maxdepth_arrival_df.plot(ax=ax, column = 'arrival', cmap= 'YlOrRd_r')\n",
    "zones_maxdepth_arrival_df.plot(ax=ax, column = 'maxdepth', cmap= 'Blues')\n"
   ]
  },
  {
   "cell_type": "markdown",
   "id": "ec96d9f8",
   "metadata": {},
   "source": [
    "## drop nan values and add minutes from start"
   ]
  },
  {
   "cell_type": "code",
   "execution_count": 140,
   "id": "680cadd6",
   "metadata": {},
   "outputs": [
    {
     "name": "stdout",
     "output_type": "stream",
     "text": [
      "a timestamp skipped due to error in notation\n",
      "a timestamp skipped due to error in notation\n"
     ]
    }
   ],
   "source": [
    "zones_maxdepth_arrival_df_dropna = zones_maxdepth_arrival_df.dropna()\n",
    "\n",
    "zones_maxdepth_arrival_df_clean = zones_maxdepth_arrival_df_dropna.copy()\n",
    "zones_maxdepth_arrival_df_clean['minutes'] = np.nan\n",
    "\n",
    "for index, row in zones_maxdepth_arrival_df_clean.iterrows():\n",
    "    timestep_str = row.arrival\n",
    "    if len(timestep_str) != 0:\n",
    "        minutes_from_start = get_minutes_from_start_flood(start_breach_time_obj, timestep_str)\n",
    "        zones_maxdepth_arrival_df_clean.loc[index, 'minutes'] =  minutes_from_start\n"
   ]
  },
  {
   "cell_type": "code",
   "execution_count": 141,
   "id": "7bd75a3e",
   "metadata": {},
   "outputs": [
    {
     "data": {
      "text/html": [
       "<div>\n",
       "<style scoped>\n",
       "    .dataframe tbody tr th:only-of-type {\n",
       "        vertical-align: middle;\n",
       "    }\n",
       "\n",
       "    .dataframe tbody tr th {\n",
       "        vertical-align: top;\n",
       "    }\n",
       "\n",
       "    .dataframe thead th {\n",
       "        text-align: right;\n",
       "    }\n",
       "</style>\n",
       "<table border=\"1\" class=\"dataframe\">\n",
       "  <thead>\n",
       "    <tr style=\"text-align: right;\">\n",
       "      <th></th>\n",
       "      <th>BU_NAAM</th>\n",
       "      <th>AANT_INW</th>\n",
       "      <th>maxdepth</th>\n",
       "      <th>maxdepth_qt</th>\n",
       "      <th>arrival</th>\n",
       "      <th>geometry</th>\n",
       "      <th>minutes</th>\n",
       "    </tr>\n",
       "  </thead>\n",
       "  <tbody>\n",
       "    <tr>\n",
       "      <th>0</th>\n",
       "      <td>Blauwe Keet</td>\n",
       "      <td>45</td>\n",
       "      <td>1.708696</td>\n",
       "      <td>1.561553</td>\n",
       "      <td>2000-01-01 02:00:04</td>\n",
       "      <td>POLYGON ((112962.203 547568.188, 113580.000 54...</td>\n",
       "      <td>120.0</td>\n",
       "    </tr>\n",
       "    <tr>\n",
       "      <th>2</th>\n",
       "      <td>Ooghduyne</td>\n",
       "      <td>170</td>\n",
       "      <td>1.162799</td>\n",
       "      <td>1.065256</td>\n",
       "      <td>2000-01-01 03:20:00</td>\n",
       "      <td>POLYGON ((109646.602 546255.813, 109845.398 54...</td>\n",
       "      <td>200.0</td>\n",
       "    </tr>\n",
       "  </tbody>\n",
       "</table>\n",
       "</div>"
      ],
      "text/plain": [
       "       BU_NAAM  AANT_INW  maxdepth  maxdepth_qt              arrival  \\\n",
       "0  Blauwe Keet        45  1.708696     1.561553  2000-01-01 02:00:04   \n",
       "2    Ooghduyne       170  1.162799     1.065256  2000-01-01 03:20:00   \n",
       "\n",
       "                                            geometry  minutes  \n",
       "0  POLYGON ((112962.203 547568.188, 113580.000 54...    120.0  \n",
       "2  POLYGON ((109646.602 546255.813, 109845.398 54...    200.0  "
      ]
     },
     "execution_count": 141,
     "metadata": {},
     "output_type": "execute_result"
    }
   ],
   "source": [
    "zones_maxdepth_arrival_df_clean.head(2)"
   ]
  },
  {
   "cell_type": "code",
   "execution_count": null,
   "id": "cc18bcaf",
   "metadata": {},
   "outputs": [],
   "source": []
  },
  {
   "cell_type": "markdown",
   "id": "2eb1b326",
   "metadata": {},
   "source": [
    "### flood depth threshold"
   ]
  },
  {
   "cell_type": "code",
   "execution_count": 142,
   "id": "8966248d",
   "metadata": {},
   "outputs": [],
   "source": [
    "df = zones_maxdepth_arrival_df_clean\n",
    "\n",
    "time_ = 30 #min\n",
    "depth_ = 1.5 \n",
    "\n",
    "# zones above depth threshold\n",
    "zones_thr_maxdepth = df[df.maxdepth > depth_]\n",
    "\n",
    "#zones above depths and time threshold\n",
    "zones_thr_maxdepth_and_time =  df[(df.maxdepth > depth_) &  (df.minutes > time_)]\n",
    "\n",
    "#zone before time thrshold and above depth trheshold\n",
    "zones_thr_maxdepth_before_time =  df[(df.maxdepth > depth_) &  (df.minutes < time_)]"
   ]
  },
  {
   "cell_type": "code",
   "execution_count": null,
   "id": "eb1fabe2",
   "metadata": {},
   "outputs": [],
   "source": []
  },
  {
   "cell_type": "markdown",
   "id": "fdbc8b24",
   "metadata": {},
   "source": [
    "### export to geojson"
   ]
  },
  {
   "cell_type": "code",
   "execution_count": 143,
   "id": "e6f66c04",
   "metadata": {},
   "outputs": [],
   "source": [
    "# export to geojson\n",
    "# zones_maxdepth_threshold.to_file(f'{output_path}/zones_maxdepth_threshold_{scenario_name}_{nr_zones_sampling}zones_{samplesize_nr_houses_in_zone}houses_tresh_{depth_threshold}m.geojson')\n"
   ]
  },
  {
   "cell_type": "code",
   "execution_count": 144,
   "id": "081666f0",
   "metadata": {},
   "outputs": [
    {
     "data": {
      "text/plain": [
       "58535"
      ]
     },
     "execution_count": 144,
     "metadata": {},
     "output_type": "execute_result"
    }
   ],
   "source": [
    "zones_maxdepth_threshold.AANT_INW.sum()"
   ]
  },
  {
   "cell_type": "markdown",
   "id": "a9df8f9e",
   "metadata": {},
   "source": [
    "-------------"
   ]
  },
  {
   "cell_type": "code",
   "execution_count": 145,
   "id": "5eca7eb6",
   "metadata": {
    "scrolled": true
   },
   "outputs": [
    {
     "data": {
      "image/png": "[encoded data removed]",
      "text/plain": [
       "<Figure size 1440x360 with 1 Axes>"
      ]
     },
     "metadata": {
      "needs_background": "light"
     },
     "output_type": "display_data"
    }
   ],
   "source": [
    "fig = plt.figure(figsize=(20, 5))\n",
    "ax = fig.add_subplot(1, 1, 1)\n",
    "\n",
    "df = zones_maxdepth_arrival_df_clean.copy()\n",
    "df_d_t = zones_thr_maxdepth_and_time.copy()\n",
    "df_d_bt = zones_thr_maxdepth_before_time.copy()\n",
    "\n",
    "ax.vlines(df.minutes/60, 0, df.maxdepth, linewidth= 1, color = '#70798c', alpha=0.3)\n",
    "ax.scatter(df.minutes/60, df.maxdepth,s = df.AANT_INW*0.8, alpha= 0.4, color = '#118ab2' )\n",
    "\n",
    "# above threshold, before time\n",
    "ax.scatter(df_d_bt.minutes/60, df_d_bt.maxdepth,s = df_d_bt.AANT_INW*0.3, alpha=0.7 , color= '#353535')\n",
    "\n",
    "# above threshold after time\n",
    "ax.scatter(df_d_t.minutes/60, df_d_t.maxdepth,s = df_d_t.AANT_INW*0.3, alpha=0.7 , color= '#ffd166')\n",
    "\n",
    "# black point\n",
    "ax.scatter(df.minutes/60, df.maxdepth,s = 1.7, alpha=1, c ='k' )\n",
    "\n",
    "max_hours = 16\n",
    "ax.set_ylim(0, 4)\n",
    "ax.set_xlim(0, max_hours)\n",
    "ax.set_title(f'zones_maxdepth_arrival_df_{scenario_name}') \n",
    "plt.xlabel('flood arrival in zone (hours after breaching)')\n",
    "plt.ylabel('max flood depth zone (m)')\n",
    "plt.xticks(np.arange(0, max_hours))\n",
    "\n",
    "plt.title(f'{scenario_name}_threshold_{depth_threshold}m')\n",
    "plt.savefig(f'{figures_path}/zones_maxdepth_arrival_df_{scenario_name}_{nr_zones_sampling}zones_{samplesize_nr_houses_in_zone}houses_tr{depth_}m_{time_}min.png', dpi=300)  \n",
    "# plt.savefig(f'{figures_path}/zones_maxdepth_arrival_df_{scenario_name}_{nr_zones_sampling}.svg', dpi=300)  "
   ]
  },
  {
   "cell_type": "code",
   "execution_count": null,
   "id": "432b206b",
   "metadata": {},
   "outputs": [],
   "source": []
  },
  {
   "cell_type": "code",
   "execution_count": null,
   "id": "c9084dbd",
   "metadata": {},
   "outputs": [],
   "source": []
  },
  {
   "cell_type": "code",
   "execution_count": null,
   "id": "8880d1f0",
   "metadata": {},
   "outputs": [],
   "source": []
  }
 ],
 "metadata": {
  "kernelspec": {
   "display_name": "Python 3 (ipykernel)",
   "language": "python",
   "name": "python3"
  },
  "language_info": {
   "codemirror_mode": {
    "name": "ipython",
    "version": 3
   },
   "file_extension": ".py",
   "mimetype": "text/x-python",
   "name": "python",
   "nbconvert_exporter": "python",
   "pygments_lexer": "ipython3",
   "version": "3.10.2"
  }
 },
 "nbformat": 4,
 "nbformat_minor": 5
}

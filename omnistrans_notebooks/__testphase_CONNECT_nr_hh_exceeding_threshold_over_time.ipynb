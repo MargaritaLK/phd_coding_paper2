{
 "cells": [
  {
   "cell_type": "code",
   "execution_count": 1,
   "id": "b026fe63",
   "metadata": {},
   "outputs": [],
   "source": [
    "import matplotlib\n",
    "import matplotlib.pyplot as plt\n",
    "\n",
    "import matplotlib.dates as mdates\n",
    "import numpy as np\n",
    "from datetime import datetime\n",
    "import pandas as pd\n",
    "from matplotlib.animation import FuncAnimation\n",
    "import geopandas as gpd\n",
    "import threedigrid\n",
    "from threedigrid.admin.gridresultadmin import GridH5ResultAdmin\n",
    "from threedigrid.admin.gridadmin import GridH5Admin\n",
    "\n",
    "import uuid"
   ]
  },
  {
   "cell_type": "code",
   "execution_count": 2,
   "id": "4cc0aee3",
   "metadata": {},
   "outputs": [],
   "source": [
    "from __my_functions_flooddepth_houses import get_time_dimensions_flood\n",
    "from __my_functions_flooddepth_houses import create_df_flooddepth_houses\n",
    "from __my_functions_flooddepth_houses import create_sample_houses_withinZone\n",
    "from __my_functions_flooddepth_houses import calculate_first_qth_arrival_and_maxdepth\n",
    "from __my_functions_flooddepth_houses import plot_flooddepth_houses_in_zone"
   ]
  },
  {
   "cell_type": "code",
   "execution_count": 5,
   "id": "7fbdd34f",
   "metadata": {},
   "outputs": [],
   "source": [
    "general_path = 'E:\\paper2_analysis/depth_arrival_zones'\n",
    "figures_path = f'{general_path}/figures'\n",
    "input_path = f'{general_path}/input'\n",
    "output_path = f'{general_path}/output'\n",
    "\n",
    "floodresults_path = 'E:/projecten/P2019_1_DenHelderOverstroming/data_en_modellen/modelresults' "
   ]
  },
  {
   "cell_type": "markdown",
   "id": "6aefe500",
   "metadata": {},
   "source": [
    "---------------------"
   ]
  },
  {
   "cell_type": "code",
   "execution_count": 6,
   "id": "7242ea5a",
   "metadata": {},
   "outputs": [],
   "source": [
    "# ## flood scenario \n",
    "# scenario_name = 'scen1_voorpiek'\n",
    "# simulation_name = 'lk_dh_test13_5verloop_2d'\n",
    "# ## start_breach_time = '2000-01-01T18:00:00'\n",
    "# start_breach_time = '2000-01-01T00:00:00'\n",
    "\n",
    "scenario_name = 'scen2_napiek'\n",
    "simulation_name = 'lk_dh_test14_5verloop_38h'\n",
    "# start_breach_time = '2000-01-02T04:00:00'\n",
    "start_breach_time = '2000-01-01T00:00:00'"
   ]
  },
  {
   "cell_type": "code",
   "execution_count": 7,
   "id": "31a94d35",
   "metadata": {},
   "outputs": [],
   "source": [
    "## flood result files\n",
    "netcdf_file = (f'{floodresults_path}/{simulation_name}/results_3di.nc')\n",
    "gridadmin_file = (f'{floodresults_path}/{simulation_name}/gridadmin.h5')\n",
    "gr = GridH5ResultAdmin(gridadmin_file , netcdf_file)\n",
    "ga = GridH5Admin(gridadmin_file)"
   ]
  },
  {
   "cell_type": "code",
   "execution_count": 8,
   "id": "7142ef80",
   "metadata": {},
   "outputs": [
    {
     "name": "stdout",
     "output_type": "stream",
     "text": [
      "rekentijd: 38.00862374799665 uur\n",
      "aantal tijdstappen: 457\n",
      "interval: 300.02, secondes = 5.0 min\n",
      " breach start time at: 2000-01-01 00:00:00\n"
     ]
    }
   ],
   "source": [
    "time_humanized, last_timestamp  = get_time_dimensions_flood(gr, start_breach_time)"
   ]
  },
  {
   "cell_type": "code",
   "execution_count": null,
   "id": "e89ee871",
   "metadata": {},
   "outputs": [],
   "source": []
  },
  {
   "cell_type": "markdown",
   "id": "d3a389cb",
   "metadata": {},
   "source": [
    "---------------------------------"
   ]
  },
  {
   "cell_type": "code",
   "execution_count": 9,
   "id": "c4acef69",
   "metadata": {},
   "outputs": [],
   "source": [
    "#### testphase_calculate nr of houseshold exceeding a threshold over time\n",
    "## eerst zones, dan household in these zones\n",
    "df = pd.DataFrame( index = time_humanized)\n"
   ]
  },
  {
   "cell_type": "code",
   "execution_count": 10,
   "id": "fedb570e",
   "metadata": {},
   "outputs": [
    {
     "data": {
      "text/html": [
       "<div>\n",
       "<style scoped>\n",
       "    .dataframe tbody tr th:only-of-type {\n",
       "        vertical-align: middle;\n",
       "    }\n",
       "\n",
       "    .dataframe tbody tr th {\n",
       "        vertical-align: top;\n",
       "    }\n",
       "\n",
       "    .dataframe thead th {\n",
       "        text-align: right;\n",
       "    }\n",
       "</style>\n",
       "<table border=\"1\" class=\"dataframe\">\n",
       "  <thead>\n",
       "    <tr style=\"text-align: right;\">\n",
       "      <th></th>\n",
       "    </tr>\n",
       "  </thead>\n",
       "  <tbody>\n",
       "    <tr>\n",
       "      <th>2000-01-01 00:00:00</th>\n",
       "    </tr>\n",
       "    <tr>\n",
       "      <th>2000-01-01 00:05:10</th>\n",
       "    </tr>\n",
       "    <tr>\n",
       "      <th>2000-01-01 00:10:03</th>\n",
       "    </tr>\n",
       "    <tr>\n",
       "      <th>2000-01-01 00:15:04</th>\n",
       "    </tr>\n",
       "    <tr>\n",
       "      <th>2000-01-01 00:20:04</th>\n",
       "    </tr>\n",
       "    <tr>\n",
       "      <th>...</th>\n",
       "    </tr>\n",
       "    <tr>\n",
       "      <th>2000-01-02 13:40:34</th>\n",
       "    </tr>\n",
       "    <tr>\n",
       "      <th>2000-01-02 13:45:05</th>\n",
       "    </tr>\n",
       "    <tr>\n",
       "      <th>2000-01-02 13:50:14</th>\n",
       "    </tr>\n",
       "    <tr>\n",
       "      <th>2000-01-02 13:55:22</th>\n",
       "    </tr>\n",
       "    <tr>\n",
       "      <th>2000-01-02 14:00:31</th>\n",
       "    </tr>\n",
       "  </tbody>\n",
       "</table>\n",
       "<p>457 rows × 0 columns</p>\n",
       "</div>"
      ],
      "text/plain": [
       "Empty DataFrame\n",
       "Columns: []\n",
       "Index: [2000-01-01 00:00:00, 2000-01-01 00:05:10, 2000-01-01 00:10:03, 2000-01-01 00:15:04, 2000-01-01 00:20:04, 2000-01-01 00:25:04, 2000-01-01 00:30:04, 2000-01-01 00:35:04, 2000-01-01 00:40:04, 2000-01-01 00:45:04, 2000-01-01 00:50:04, 2000-01-01 00:55:04, 2000-01-01 01:00:04, 2000-01-01 01:05:04, 2000-01-01 01:10:04, 2000-01-01 01:15:04, 2000-01-01 01:20:04, 2000-01-01 01:25:04, 2000-01-01 01:30:04, 2000-01-01 01:35:04, 2000-01-01 01:40:04, 2000-01-01 01:45:04, 2000-01-01 01:50:04, 2000-01-01 01:55:04, 2000-01-01 02:00:04, 2000-01-01 02:05:04, 2000-01-01 02:10:04, 2000-01-01 02:15:04, 2000-01-01 02:20:04, 2000-01-01 02:25:04, 2000-01-01 02:30:04, 2000-01-01 02:35:04, 2000-01-01 02:40:04, 2000-01-01 02:45:04, 2000-01-01 02:50:00, 2000-01-01 02:55:01, 2000-01-01 03:00:01, 2000-01-01 03:05:00, 2000-01-01 03:10:04, 2000-01-01 03:15:04, 2000-01-01 03:20:00, 2000-01-01 03:25:02, 2000-01-01 03:30:00, 2000-01-01 03:35:02, 2000-01-01 03:40:04, 2000-01-01 03:45:00, 2000-01-01 03:50:03, 2000-01-01 03:55:00, 2000-01-01 04:00:04, 2000-01-01 04:05:03, 2000-01-01 04:10:02, 2000-01-01 04:15:02, 2000-01-01 04:20:02, 2000-01-01 04:25:02, 2000-01-01 04:30:03, 2000-01-01 04:35:04, 2000-01-01 04:40:00, 2000-01-01 04:45:02, 2000-01-01 04:50:04, 2000-01-01 04:55:01, 2000-01-01 05:00:00, 2000-01-01 05:05:05, 2000-01-01 05:10:00, 2000-01-01 05:15:04, 2000-01-01 05:20:04, 2000-01-01 05:25:04, 2000-01-01 05:30:03, 2000-01-01 05:35:03, 2000-01-01 05:40:03, 2000-01-01 05:45:03, 2000-01-01 05:50:04, 2000-01-01 05:55:00, 2000-01-01 06:00:00, 2000-01-01 06:05:04, 2000-01-01 06:10:05, 2000-01-01 06:15:05, 2000-01-01 06:20:01, 2000-01-01 06:25:02, 2000-01-01 06:30:00, 2000-01-01 06:35:01, 2000-01-01 06:40:04, 2000-01-01 06:45:04, 2000-01-01 06:50:01, 2000-01-01 06:55:06, 2000-01-01 07:00:00, 2000-01-01 07:05:05, 2000-01-01 07:10:02, 2000-01-01 07:15:02, 2000-01-01 07:20:00, 2000-01-01 07:25:05, 2000-01-01 07:30:03, 2000-01-01 07:35:04, 2000-01-01 07:40:00, 2000-01-01 07:45:03, 2000-01-01 07:50:06, 2000-01-01 07:55:00, 2000-01-01 08:00:02, 2000-01-01 08:05:01, 2000-01-01 08:10:04, 2000-01-01 08:15:00, ...]\n",
       "\n",
       "[457 rows x 0 columns]"
      ]
     },
     "execution_count": 10,
     "metadata": {},
     "output_type": "execute_result"
    }
   ],
   "source": [
    "df"
   ]
  },
  {
   "cell_type": "code",
   "execution_count": 22,
   "id": "f794e1ef",
   "metadata": {},
   "outputs": [
    {
     "data": {
      "text/html": [
       "<div>\n",
       "<style scoped>\n",
       "    .dataframe tbody tr th:only-of-type {\n",
       "        vertical-align: middle;\n",
       "    }\n",
       "\n",
       "    .dataframe tbody tr th {\n",
       "        vertical-align: top;\n",
       "    }\n",
       "\n",
       "    .dataframe thead th {\n",
       "        text-align: right;\n",
       "    }\n",
       "</style>\n",
       "<table border=\"1\" class=\"dataframe\">\n",
       "  <thead>\n",
       "    <tr style=\"text-align: right;\">\n",
       "      <th></th>\n",
       "      <th>id_8802</th>\n",
       "      <th>id_12496</th>\n",
       "      <th>id_9320</th>\n",
       "      <th>id_5949</th>\n",
       "      <th>id_39972</th>\n",
       "      <th>id_39774</th>\n",
       "      <th>id_32719</th>\n",
       "      <th>id_12494</th>\n",
       "      <th>id_37170</th>\n",
       "      <th>id_8798</th>\n",
       "      <th>id_6002</th>\n",
       "      <th>id_37178</th>\n",
       "      <th>id_31155</th>\n",
       "      <th>id_6024</th>\n",
       "      <th>id_40010</th>\n",
       "    </tr>\n",
       "  </thead>\n",
       "  <tbody>\n",
       "    <tr>\n",
       "      <th>2000-01-01 00:00:00</th>\n",
       "      <td>0.0</td>\n",
       "      <td>0.0</td>\n",
       "      <td>0.0</td>\n",
       "      <td>0.0</td>\n",
       "      <td>0.0</td>\n",
       "      <td>0.0</td>\n",
       "      <td>0.0</td>\n",
       "      <td>0.0</td>\n",
       "      <td>0.0</td>\n",
       "      <td>0.0</td>\n",
       "      <td>0.0</td>\n",
       "      <td>0.0</td>\n",
       "      <td>0.0</td>\n",
       "      <td>0.0</td>\n",
       "      <td>0.0</td>\n",
       "    </tr>\n",
       "    <tr>\n",
       "      <th>2000-01-01 00:05:10</th>\n",
       "      <td>0.0</td>\n",
       "      <td>0.0</td>\n",
       "      <td>0.0</td>\n",
       "      <td>0.0</td>\n",
       "      <td>0.0</td>\n",
       "      <td>0.0</td>\n",
       "      <td>0.0</td>\n",
       "      <td>0.0</td>\n",
       "      <td>0.0</td>\n",
       "      <td>0.0</td>\n",
       "      <td>0.0</td>\n",
       "      <td>0.0</td>\n",
       "      <td>0.0</td>\n",
       "      <td>0.0</td>\n",
       "      <td>0.0</td>\n",
       "    </tr>\n",
       "    <tr>\n",
       "      <th>2000-01-01 00:10:03</th>\n",
       "      <td>0.0</td>\n",
       "      <td>0.0</td>\n",
       "      <td>0.0</td>\n",
       "      <td>0.0</td>\n",
       "      <td>0.0</td>\n",
       "      <td>0.0</td>\n",
       "      <td>0.0</td>\n",
       "      <td>0.0</td>\n",
       "      <td>0.0</td>\n",
       "      <td>0.0</td>\n",
       "      <td>0.0</td>\n",
       "      <td>0.0</td>\n",
       "      <td>0.0</td>\n",
       "      <td>0.0</td>\n",
       "      <td>0.0</td>\n",
       "    </tr>\n",
       "  </tbody>\n",
       "</table>\n",
       "</div>"
      ],
      "text/plain": [
       "                     id_8802  id_12496  id_9320  id_5949  id_39972  id_39774  \\\n",
       "2000-01-01 00:00:00      0.0       0.0      0.0      0.0       0.0       0.0   \n",
       "2000-01-01 00:05:10      0.0       0.0      0.0      0.0       0.0       0.0   \n",
       "2000-01-01 00:10:03      0.0       0.0      0.0      0.0       0.0       0.0   \n",
       "\n",
       "                     id_32719  id_12494  id_37170  id_8798  id_6002  id_37178  \\\n",
       "2000-01-01 00:00:00       0.0       0.0       0.0      0.0      0.0       0.0   \n",
       "2000-01-01 00:05:10       0.0       0.0       0.0      0.0      0.0       0.0   \n",
       "2000-01-01 00:10:03       0.0       0.0       0.0      0.0      0.0       0.0   \n",
       "\n",
       "                     id_31155  id_6024  id_40010  \n",
       "2000-01-01 00:00:00       0.0      0.0       0.0  \n",
       "2000-01-01 00:05:10       0.0      0.0       0.0  \n",
       "2000-01-01 00:10:03       0.0      0.0       0.0  "
      ]
     },
     "execution_count": 22,
     "metadata": {},
     "output_type": "execute_result"
    }
   ],
   "source": [
    "#load one zone\n",
    "# zone_name = 'Huisduinen' \n",
    "zone_name = 'Breezand'\n",
    "scenario_name = 'scen1_voorpiek'\n",
    "df = pd.read_json(f'{output_path}/fdepth_houses_df_{scenario_name}_zone{zone_name}.json')\n",
    "df.head(3)"
   ]
  },
  {
   "cell_type": "code",
   "execution_count": 23,
   "id": "19f4b730",
   "metadata": {},
   "outputs": [
    {
     "name": "stdout",
     "output_type": "stream",
     "text": [
      "15\n"
     ]
    }
   ],
   "source": [
    "print(len(df.columns))"
   ]
  },
  {
   "cell_type": "code",
   "execution_count": null,
   "id": "59549325",
   "metadata": {},
   "outputs": [],
   "source": []
  },
  {
   "cell_type": "code",
   "execution_count": null,
   "id": "6b7ec530",
   "metadata": {},
   "outputs": [],
   "source": []
  },
  {
   "cell_type": "code",
   "execution_count": null,
   "id": "5440f95c",
   "metadata": {},
   "outputs": [],
   "source": []
  },
  {
   "cell_type": "code",
   "execution_count": null,
   "id": "5b030021",
   "metadata": {},
   "outputs": [],
   "source": []
  },
  {
   "cell_type": "code",
   "execution_count": null,
   "id": "13a095e5",
   "metadata": {},
   "outputs": [],
   "source": []
  }
 ],
 "metadata": {
  "kernelspec": {
   "display_name": "Python 3 (ipykernel)",
   "language": "python",
   "name": "python3"
  },
  "language_info": {
   "codemirror_mode": {
    "name": "ipython",
    "version": 3
   },
   "file_extension": ".py",
   "mimetype": "text/x-python",
   "name": "python",
   "nbconvert_exporter": "python",
   "pygments_lexer": "ipython3",
   "version": "3.10.2"
  }
 },
 "nbformat": 4,
 "nbformat_minor": 5
}
